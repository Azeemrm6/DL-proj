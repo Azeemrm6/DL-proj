{
  "nbformat": 4,
  "nbformat_minor": 0,
  "metadata": {
    "colab": {
      "provenance": [],
      "machine_shape": "hm",
      "gpuType": "A100"
    },
    "kernelspec": {
      "name": "python3",
      "display_name": "Python 3"
    },
    "language_info": {
      "name": "python"
    },
    "accelerator": "GPU",
    "widgets": {
      "application/vnd.jupyter.widget-state+json": {
        "bfba9648b6a048be818c009d500d11aa": {
          "model_module": "@jupyter-widgets/controls",
          "model_name": "HBoxModel",
          "model_module_version": "1.5.0",
          "state": {
            "_dom_classes": [],
            "_model_module": "@jupyter-widgets/controls",
            "_model_module_version": "1.5.0",
            "_model_name": "HBoxModel",
            "_view_count": null,
            "_view_module": "@jupyter-widgets/controls",
            "_view_module_version": "1.5.0",
            "_view_name": "HBoxView",
            "box_style": "",
            "children": [
              "IPY_MODEL_06f191e298174bb3b0306616faec4953",
              "IPY_MODEL_653efd07cbf3485881edeabb88732459",
              "IPY_MODEL_4ef18926591e46e3858fbf46b7c7cf59"
            ],
            "layout": "IPY_MODEL_1f341aa81463459c8ed7d37650563f80"
          }
        },
        "06f191e298174bb3b0306616faec4953": {
          "model_module": "@jupyter-widgets/controls",
          "model_name": "HTMLModel",
          "model_module_version": "1.5.0",
          "state": {
            "_dom_classes": [],
            "_model_module": "@jupyter-widgets/controls",
            "_model_module_version": "1.5.0",
            "_model_name": "HTMLModel",
            "_view_count": null,
            "_view_module": "@jupyter-widgets/controls",
            "_view_module_version": "1.5.0",
            "_view_name": "HTMLView",
            "description": "",
            "description_tooltip": null,
            "layout": "IPY_MODEL_f8bf83568c054f32b00b76be84c4d614",
            "placeholder": "​",
            "style": "IPY_MODEL_f69852e14b734a71be443366171d8e24",
            "value": "config.json: 100%"
          }
        },
        "653efd07cbf3485881edeabb88732459": {
          "model_module": "@jupyter-widgets/controls",
          "model_name": "FloatProgressModel",
          "model_module_version": "1.5.0",
          "state": {
            "_dom_classes": [],
            "_model_module": "@jupyter-widgets/controls",
            "_model_module_version": "1.5.0",
            "_model_name": "FloatProgressModel",
            "_view_count": null,
            "_view_module": "@jupyter-widgets/controls",
            "_view_module_version": "1.5.0",
            "_view_name": "ProgressView",
            "bar_style": "success",
            "description": "",
            "description_tooltip": null,
            "layout": "IPY_MODEL_c38e5dd334d646428384d22299555c9f",
            "max": 385,
            "min": 0,
            "orientation": "horizontal",
            "style": "IPY_MODEL_0c1816727d344709850db7cdaf436229",
            "value": 385
          }
        },
        "4ef18926591e46e3858fbf46b7c7cf59": {
          "model_module": "@jupyter-widgets/controls",
          "model_name": "HTMLModel",
          "model_module_version": "1.5.0",
          "state": {
            "_dom_classes": [],
            "_model_module": "@jupyter-widgets/controls",
            "_model_module_version": "1.5.0",
            "_model_name": "HTMLModel",
            "_view_count": null,
            "_view_module": "@jupyter-widgets/controls",
            "_view_module_version": "1.5.0",
            "_view_name": "HTMLView",
            "description": "",
            "description_tooltip": null,
            "layout": "IPY_MODEL_a9485b40d038401a8f3cf3529c3bf11c",
            "placeholder": "​",
            "style": "IPY_MODEL_e3b136fdd87d4beea98515afe5efc22f",
            "value": " 385/385 [00:00&lt;00:00, 48.9kB/s]"
          }
        },
        "1f341aa81463459c8ed7d37650563f80": {
          "model_module": "@jupyter-widgets/base",
          "model_name": "LayoutModel",
          "model_module_version": "1.2.0",
          "state": {
            "_model_module": "@jupyter-widgets/base",
            "_model_module_version": "1.2.0",
            "_model_name": "LayoutModel",
            "_view_count": null,
            "_view_module": "@jupyter-widgets/base",
            "_view_module_version": "1.2.0",
            "_view_name": "LayoutView",
            "align_content": null,
            "align_items": null,
            "align_self": null,
            "border": null,
            "bottom": null,
            "display": null,
            "flex": null,
            "flex_flow": null,
            "grid_area": null,
            "grid_auto_columns": null,
            "grid_auto_flow": null,
            "grid_auto_rows": null,
            "grid_column": null,
            "grid_gap": null,
            "grid_row": null,
            "grid_template_areas": null,
            "grid_template_columns": null,
            "grid_template_rows": null,
            "height": null,
            "justify_content": null,
            "justify_items": null,
            "left": null,
            "margin": null,
            "max_height": null,
            "max_width": null,
            "min_height": null,
            "min_width": null,
            "object_fit": null,
            "object_position": null,
            "order": null,
            "overflow": null,
            "overflow_x": null,
            "overflow_y": null,
            "padding": null,
            "right": null,
            "top": null,
            "visibility": null,
            "width": null
          }
        },
        "f8bf83568c054f32b00b76be84c4d614": {
          "model_module": "@jupyter-widgets/base",
          "model_name": "LayoutModel",
          "model_module_version": "1.2.0",
          "state": {
            "_model_module": "@jupyter-widgets/base",
            "_model_module_version": "1.2.0",
            "_model_name": "LayoutModel",
            "_view_count": null,
            "_view_module": "@jupyter-widgets/base",
            "_view_module_version": "1.2.0",
            "_view_name": "LayoutView",
            "align_content": null,
            "align_items": null,
            "align_self": null,
            "border": null,
            "bottom": null,
            "display": null,
            "flex": null,
            "flex_flow": null,
            "grid_area": null,
            "grid_auto_columns": null,
            "grid_auto_flow": null,
            "grid_auto_rows": null,
            "grid_column": null,
            "grid_gap": null,
            "grid_row": null,
            "grid_template_areas": null,
            "grid_template_columns": null,
            "grid_template_rows": null,
            "height": null,
            "justify_content": null,
            "justify_items": null,
            "left": null,
            "margin": null,
            "max_height": null,
            "max_width": null,
            "min_height": null,
            "min_width": null,
            "object_fit": null,
            "object_position": null,
            "order": null,
            "overflow": null,
            "overflow_x": null,
            "overflow_y": null,
            "padding": null,
            "right": null,
            "top": null,
            "visibility": null,
            "width": null
          }
        },
        "f69852e14b734a71be443366171d8e24": {
          "model_module": "@jupyter-widgets/controls",
          "model_name": "DescriptionStyleModel",
          "model_module_version": "1.5.0",
          "state": {
            "_model_module": "@jupyter-widgets/controls",
            "_model_module_version": "1.5.0",
            "_model_name": "DescriptionStyleModel",
            "_view_count": null,
            "_view_module": "@jupyter-widgets/base",
            "_view_module_version": "1.2.0",
            "_view_name": "StyleView",
            "description_width": ""
          }
        },
        "c38e5dd334d646428384d22299555c9f": {
          "model_module": "@jupyter-widgets/base",
          "model_name": "LayoutModel",
          "model_module_version": "1.2.0",
          "state": {
            "_model_module": "@jupyter-widgets/base",
            "_model_module_version": "1.2.0",
            "_model_name": "LayoutModel",
            "_view_count": null,
            "_view_module": "@jupyter-widgets/base",
            "_view_module_version": "1.2.0",
            "_view_name": "LayoutView",
            "align_content": null,
            "align_items": null,
            "align_self": null,
            "border": null,
            "bottom": null,
            "display": null,
            "flex": null,
            "flex_flow": null,
            "grid_area": null,
            "grid_auto_columns": null,
            "grid_auto_flow": null,
            "grid_auto_rows": null,
            "grid_column": null,
            "grid_gap": null,
            "grid_row": null,
            "grid_template_areas": null,
            "grid_template_columns": null,
            "grid_template_rows": null,
            "height": null,
            "justify_content": null,
            "justify_items": null,
            "left": null,
            "margin": null,
            "max_height": null,
            "max_width": null,
            "min_height": null,
            "min_width": null,
            "object_fit": null,
            "object_position": null,
            "order": null,
            "overflow": null,
            "overflow_x": null,
            "overflow_y": null,
            "padding": null,
            "right": null,
            "top": null,
            "visibility": null,
            "width": null
          }
        },
        "0c1816727d344709850db7cdaf436229": {
          "model_module": "@jupyter-widgets/controls",
          "model_name": "ProgressStyleModel",
          "model_module_version": "1.5.0",
          "state": {
            "_model_module": "@jupyter-widgets/controls",
            "_model_module_version": "1.5.0",
            "_model_name": "ProgressStyleModel",
            "_view_count": null,
            "_view_module": "@jupyter-widgets/base",
            "_view_module_version": "1.2.0",
            "_view_name": "StyleView",
            "bar_color": null,
            "description_width": ""
          }
        },
        "a9485b40d038401a8f3cf3529c3bf11c": {
          "model_module": "@jupyter-widgets/base",
          "model_name": "LayoutModel",
          "model_module_version": "1.2.0",
          "state": {
            "_model_module": "@jupyter-widgets/base",
            "_model_module_version": "1.2.0",
            "_model_name": "LayoutModel",
            "_view_count": null,
            "_view_module": "@jupyter-widgets/base",
            "_view_module_version": "1.2.0",
            "_view_name": "LayoutView",
            "align_content": null,
            "align_items": null,
            "align_self": null,
            "border": null,
            "bottom": null,
            "display": null,
            "flex": null,
            "flex_flow": null,
            "grid_area": null,
            "grid_auto_columns": null,
            "grid_auto_flow": null,
            "grid_auto_rows": null,
            "grid_column": null,
            "grid_gap": null,
            "grid_row": null,
            "grid_template_areas": null,
            "grid_template_columns": null,
            "grid_template_rows": null,
            "height": null,
            "justify_content": null,
            "justify_items": null,
            "left": null,
            "margin": null,
            "max_height": null,
            "max_width": null,
            "min_height": null,
            "min_width": null,
            "object_fit": null,
            "object_position": null,
            "order": null,
            "overflow": null,
            "overflow_x": null,
            "overflow_y": null,
            "padding": null,
            "right": null,
            "top": null,
            "visibility": null,
            "width": null
          }
        },
        "e3b136fdd87d4beea98515afe5efc22f": {
          "model_module": "@jupyter-widgets/controls",
          "model_name": "DescriptionStyleModel",
          "model_module_version": "1.5.0",
          "state": {
            "_model_module": "@jupyter-widgets/controls",
            "_model_module_version": "1.5.0",
            "_model_name": "DescriptionStyleModel",
            "_view_count": null,
            "_view_module": "@jupyter-widgets/base",
            "_view_module_version": "1.2.0",
            "_view_name": "StyleView",
            "description_width": ""
          }
        },
        "39ff5bfccb9c4cbc9c77f5dae8226559": {
          "model_module": "@jupyter-widgets/controls",
          "model_name": "HBoxModel",
          "model_module_version": "1.5.0",
          "state": {
            "_dom_classes": [],
            "_model_module": "@jupyter-widgets/controls",
            "_model_module_version": "1.5.0",
            "_model_name": "HBoxModel",
            "_view_count": null,
            "_view_module": "@jupyter-widgets/controls",
            "_view_module_version": "1.5.0",
            "_view_name": "HBoxView",
            "box_style": "",
            "children": [
              "IPY_MODEL_3e93c39e7bd6419c93f289331c527a55",
              "IPY_MODEL_b41199f069974fabbef2122dbe7475e5",
              "IPY_MODEL_65922046bf6445ada82fa0df6586fd27"
            ],
            "layout": "IPY_MODEL_4008900c9d114d5e927014633005b157"
          }
        },
        "3e93c39e7bd6419c93f289331c527a55": {
          "model_module": "@jupyter-widgets/controls",
          "model_name": "HTMLModel",
          "model_module_version": "1.5.0",
          "state": {
            "_dom_classes": [],
            "_model_module": "@jupyter-widgets/controls",
            "_model_module_version": "1.5.0",
            "_model_name": "HTMLModel",
            "_view_count": null,
            "_view_module": "@jupyter-widgets/controls",
            "_view_module_version": "1.5.0",
            "_view_name": "HTMLView",
            "description": "",
            "description_tooltip": null,
            "layout": "IPY_MODEL_e3856011928f47cfb135744b5fd8f5f6",
            "placeholder": "​",
            "style": "IPY_MODEL_022d2a0c19d644f3808c6411a95608b8",
            "value": "vocab.txt: 100%"
          }
        },
        "b41199f069974fabbef2122dbe7475e5": {
          "model_module": "@jupyter-widgets/controls",
          "model_name": "FloatProgressModel",
          "model_module_version": "1.5.0",
          "state": {
            "_dom_classes": [],
            "_model_module": "@jupyter-widgets/controls",
            "_model_module_version": "1.5.0",
            "_model_name": "FloatProgressModel",
            "_view_count": null,
            "_view_module": "@jupyter-widgets/controls",
            "_view_module_version": "1.5.0",
            "_view_name": "ProgressView",
            "bar_style": "success",
            "description": "",
            "description_tooltip": null,
            "layout": "IPY_MODEL_fbc1e31c75364a879e0d6d3b78ee15e8",
            "max": 213450,
            "min": 0,
            "orientation": "horizontal",
            "style": "IPY_MODEL_00eb8ac8535543fd9fcc17f0f138974e",
            "value": 213450
          }
        },
        "65922046bf6445ada82fa0df6586fd27": {
          "model_module": "@jupyter-widgets/controls",
          "model_name": "HTMLModel",
          "model_module_version": "1.5.0",
          "state": {
            "_dom_classes": [],
            "_model_module": "@jupyter-widgets/controls",
            "_model_module_version": "1.5.0",
            "_model_name": "HTMLModel",
            "_view_count": null,
            "_view_module": "@jupyter-widgets/controls",
            "_view_module_version": "1.5.0",
            "_view_name": "HTMLView",
            "description": "",
            "description_tooltip": null,
            "layout": "IPY_MODEL_fdf148ee183443bba65028eb0bc06b37",
            "placeholder": "​",
            "style": "IPY_MODEL_99345e898f704ab6a835724ee5908b32",
            "value": " 213k/213k [00:00&lt;00:00, 1.88MB/s]"
          }
        },
        "4008900c9d114d5e927014633005b157": {
          "model_module": "@jupyter-widgets/base",
          "model_name": "LayoutModel",
          "model_module_version": "1.2.0",
          "state": {
            "_model_module": "@jupyter-widgets/base",
            "_model_module_version": "1.2.0",
            "_model_name": "LayoutModel",
            "_view_count": null,
            "_view_module": "@jupyter-widgets/base",
            "_view_module_version": "1.2.0",
            "_view_name": "LayoutView",
            "align_content": null,
            "align_items": null,
            "align_self": null,
            "border": null,
            "bottom": null,
            "display": null,
            "flex": null,
            "flex_flow": null,
            "grid_area": null,
            "grid_auto_columns": null,
            "grid_auto_flow": null,
            "grid_auto_rows": null,
            "grid_column": null,
            "grid_gap": null,
            "grid_row": null,
            "grid_template_areas": null,
            "grid_template_columns": null,
            "grid_template_rows": null,
            "height": null,
            "justify_content": null,
            "justify_items": null,
            "left": null,
            "margin": null,
            "max_height": null,
            "max_width": null,
            "min_height": null,
            "min_width": null,
            "object_fit": null,
            "object_position": null,
            "order": null,
            "overflow": null,
            "overflow_x": null,
            "overflow_y": null,
            "padding": null,
            "right": null,
            "top": null,
            "visibility": null,
            "width": null
          }
        },
        "e3856011928f47cfb135744b5fd8f5f6": {
          "model_module": "@jupyter-widgets/base",
          "model_name": "LayoutModel",
          "model_module_version": "1.2.0",
          "state": {
            "_model_module": "@jupyter-widgets/base",
            "_model_module_version": "1.2.0",
            "_model_name": "LayoutModel",
            "_view_count": null,
            "_view_module": "@jupyter-widgets/base",
            "_view_module_version": "1.2.0",
            "_view_name": "LayoutView",
            "align_content": null,
            "align_items": null,
            "align_self": null,
            "border": null,
            "bottom": null,
            "display": null,
            "flex": null,
            "flex_flow": null,
            "grid_area": null,
            "grid_auto_columns": null,
            "grid_auto_flow": null,
            "grid_auto_rows": null,
            "grid_column": null,
            "grid_gap": null,
            "grid_row": null,
            "grid_template_areas": null,
            "grid_template_columns": null,
            "grid_template_rows": null,
            "height": null,
            "justify_content": null,
            "justify_items": null,
            "left": null,
            "margin": null,
            "max_height": null,
            "max_width": null,
            "min_height": null,
            "min_width": null,
            "object_fit": null,
            "object_position": null,
            "order": null,
            "overflow": null,
            "overflow_x": null,
            "overflow_y": null,
            "padding": null,
            "right": null,
            "top": null,
            "visibility": null,
            "width": null
          }
        },
        "022d2a0c19d644f3808c6411a95608b8": {
          "model_module": "@jupyter-widgets/controls",
          "model_name": "DescriptionStyleModel",
          "model_module_version": "1.5.0",
          "state": {
            "_model_module": "@jupyter-widgets/controls",
            "_model_module_version": "1.5.0",
            "_model_name": "DescriptionStyleModel",
            "_view_count": null,
            "_view_module": "@jupyter-widgets/base",
            "_view_module_version": "1.2.0",
            "_view_name": "StyleView",
            "description_width": ""
          }
        },
        "fbc1e31c75364a879e0d6d3b78ee15e8": {
          "model_module": "@jupyter-widgets/base",
          "model_name": "LayoutModel",
          "model_module_version": "1.2.0",
          "state": {
            "_model_module": "@jupyter-widgets/base",
            "_model_module_version": "1.2.0",
            "_model_name": "LayoutModel",
            "_view_count": null,
            "_view_module": "@jupyter-widgets/base",
            "_view_module_version": "1.2.0",
            "_view_name": "LayoutView",
            "align_content": null,
            "align_items": null,
            "align_self": null,
            "border": null,
            "bottom": null,
            "display": null,
            "flex": null,
            "flex_flow": null,
            "grid_area": null,
            "grid_auto_columns": null,
            "grid_auto_flow": null,
            "grid_auto_rows": null,
            "grid_column": null,
            "grid_gap": null,
            "grid_row": null,
            "grid_template_areas": null,
            "grid_template_columns": null,
            "grid_template_rows": null,
            "height": null,
            "justify_content": null,
            "justify_items": null,
            "left": null,
            "margin": null,
            "max_height": null,
            "max_width": null,
            "min_height": null,
            "min_width": null,
            "object_fit": null,
            "object_position": null,
            "order": null,
            "overflow": null,
            "overflow_x": null,
            "overflow_y": null,
            "padding": null,
            "right": null,
            "top": null,
            "visibility": null,
            "width": null
          }
        },
        "00eb8ac8535543fd9fcc17f0f138974e": {
          "model_module": "@jupyter-widgets/controls",
          "model_name": "ProgressStyleModel",
          "model_module_version": "1.5.0",
          "state": {
            "_model_module": "@jupyter-widgets/controls",
            "_model_module_version": "1.5.0",
            "_model_name": "ProgressStyleModel",
            "_view_count": null,
            "_view_module": "@jupyter-widgets/base",
            "_view_module_version": "1.2.0",
            "_view_name": "StyleView",
            "bar_color": null,
            "description_width": ""
          }
        },
        "fdf148ee183443bba65028eb0bc06b37": {
          "model_module": "@jupyter-widgets/base",
          "model_name": "LayoutModel",
          "model_module_version": "1.2.0",
          "state": {
            "_model_module": "@jupyter-widgets/base",
            "_model_module_version": "1.2.0",
            "_model_name": "LayoutModel",
            "_view_count": null,
            "_view_module": "@jupyter-widgets/base",
            "_view_module_version": "1.2.0",
            "_view_name": "LayoutView",
            "align_content": null,
            "align_items": null,
            "align_self": null,
            "border": null,
            "bottom": null,
            "display": null,
            "flex": null,
            "flex_flow": null,
            "grid_area": null,
            "grid_auto_columns": null,
            "grid_auto_flow": null,
            "grid_auto_rows": null,
            "grid_column": null,
            "grid_gap": null,
            "grid_row": null,
            "grid_template_areas": null,
            "grid_template_columns": null,
            "grid_template_rows": null,
            "height": null,
            "justify_content": null,
            "justify_items": null,
            "left": null,
            "margin": null,
            "max_height": null,
            "max_width": null,
            "min_height": null,
            "min_width": null,
            "object_fit": null,
            "object_position": null,
            "order": null,
            "overflow": null,
            "overflow_x": null,
            "overflow_y": null,
            "padding": null,
            "right": null,
            "top": null,
            "visibility": null,
            "width": null
          }
        },
        "99345e898f704ab6a835724ee5908b32": {
          "model_module": "@jupyter-widgets/controls",
          "model_name": "DescriptionStyleModel",
          "model_module_version": "1.5.0",
          "state": {
            "_model_module": "@jupyter-widgets/controls",
            "_model_module_version": "1.5.0",
            "_model_name": "DescriptionStyleModel",
            "_view_count": null,
            "_view_module": "@jupyter-widgets/base",
            "_view_module_version": "1.2.0",
            "_view_name": "StyleView",
            "description_width": ""
          }
        },
        "2b0718146f23403e8a1925c005c1852d": {
          "model_module": "@jupyter-widgets/controls",
          "model_name": "HBoxModel",
          "model_module_version": "1.5.0",
          "state": {
            "_dom_classes": [],
            "_model_module": "@jupyter-widgets/controls",
            "_model_module_version": "1.5.0",
            "_model_name": "HBoxModel",
            "_view_count": null,
            "_view_module": "@jupyter-widgets/controls",
            "_view_module_version": "1.5.0",
            "_view_name": "HBoxView",
            "box_style": "",
            "children": [
              "IPY_MODEL_3625144ac0474e12a28a6a75d838c806",
              "IPY_MODEL_8f27eeb33a0049d2b018dab4b0c3e5fe",
              "IPY_MODEL_06bf000e53b9419cab99cf5f18ca1949"
            ],
            "layout": "IPY_MODEL_fecb80ee72e847dea229006505e65998"
          }
        },
        "3625144ac0474e12a28a6a75d838c806": {
          "model_module": "@jupyter-widgets/controls",
          "model_name": "HTMLModel",
          "model_module_version": "1.5.0",
          "state": {
            "_dom_classes": [],
            "_model_module": "@jupyter-widgets/controls",
            "_model_module_version": "1.5.0",
            "_model_name": "HTMLModel",
            "_view_count": null,
            "_view_module": "@jupyter-widgets/controls",
            "_view_module_version": "1.5.0",
            "_view_name": "HTMLView",
            "description": "",
            "description_tooltip": null,
            "layout": "IPY_MODEL_ef95079e00ae4885b8cdda82c84ee220",
            "placeholder": "​",
            "style": "IPY_MODEL_23ee0dcacedc4f84bf6daf8cace35f6d",
            "value": "pytorch_model.bin: 100%"
          }
        },
        "8f27eeb33a0049d2b018dab4b0c3e5fe": {
          "model_module": "@jupyter-widgets/controls",
          "model_name": "FloatProgressModel",
          "model_module_version": "1.5.0",
          "state": {
            "_dom_classes": [],
            "_model_module": "@jupyter-widgets/controls",
            "_model_module_version": "1.5.0",
            "_model_name": "FloatProgressModel",
            "_view_count": null,
            "_view_module": "@jupyter-widgets/controls",
            "_view_module_version": "1.5.0",
            "_view_name": "ProgressView",
            "bar_style": "success",
            "description": "",
            "description_tooltip": null,
            "layout": "IPY_MODEL_dd6b96cc64ea4c729d7bcb468ce9de5f",
            "max": 435778770,
            "min": 0,
            "orientation": "horizontal",
            "style": "IPY_MODEL_d34324f7c5264df7ae9340ab35483759",
            "value": 435778770
          }
        },
        "06bf000e53b9419cab99cf5f18ca1949": {
          "model_module": "@jupyter-widgets/controls",
          "model_name": "HTMLModel",
          "model_module_version": "1.5.0",
          "state": {
            "_dom_classes": [],
            "_model_module": "@jupyter-widgets/controls",
            "_model_module_version": "1.5.0",
            "_model_name": "HTMLModel",
            "_view_count": null,
            "_view_module": "@jupyter-widgets/controls",
            "_view_module_version": "1.5.0",
            "_view_name": "HTMLView",
            "description": "",
            "description_tooltip": null,
            "layout": "IPY_MODEL_b8c92d6e633344e38a100609ffb49afd",
            "placeholder": "​",
            "style": "IPY_MODEL_a77956a8696241f4993f0f7a3e8902b6",
            "value": " 436M/436M [00:01&lt;00:00, 290MB/s]"
          }
        },
        "fecb80ee72e847dea229006505e65998": {
          "model_module": "@jupyter-widgets/base",
          "model_name": "LayoutModel",
          "model_module_version": "1.2.0",
          "state": {
            "_model_module": "@jupyter-widgets/base",
            "_model_module_version": "1.2.0",
            "_model_name": "LayoutModel",
            "_view_count": null,
            "_view_module": "@jupyter-widgets/base",
            "_view_module_version": "1.2.0",
            "_view_name": "LayoutView",
            "align_content": null,
            "align_items": null,
            "align_self": null,
            "border": null,
            "bottom": null,
            "display": null,
            "flex": null,
            "flex_flow": null,
            "grid_area": null,
            "grid_auto_columns": null,
            "grid_auto_flow": null,
            "grid_auto_rows": null,
            "grid_column": null,
            "grid_gap": null,
            "grid_row": null,
            "grid_template_areas": null,
            "grid_template_columns": null,
            "grid_template_rows": null,
            "height": null,
            "justify_content": null,
            "justify_items": null,
            "left": null,
            "margin": null,
            "max_height": null,
            "max_width": null,
            "min_height": null,
            "min_width": null,
            "object_fit": null,
            "object_position": null,
            "order": null,
            "overflow": null,
            "overflow_x": null,
            "overflow_y": null,
            "padding": null,
            "right": null,
            "top": null,
            "visibility": null,
            "width": null
          }
        },
        "ef95079e00ae4885b8cdda82c84ee220": {
          "model_module": "@jupyter-widgets/base",
          "model_name": "LayoutModel",
          "model_module_version": "1.2.0",
          "state": {
            "_model_module": "@jupyter-widgets/base",
            "_model_module_version": "1.2.0",
            "_model_name": "LayoutModel",
            "_view_count": null,
            "_view_module": "@jupyter-widgets/base",
            "_view_module_version": "1.2.0",
            "_view_name": "LayoutView",
            "align_content": null,
            "align_items": null,
            "align_self": null,
            "border": null,
            "bottom": null,
            "display": null,
            "flex": null,
            "flex_flow": null,
            "grid_area": null,
            "grid_auto_columns": null,
            "grid_auto_flow": null,
            "grid_auto_rows": null,
            "grid_column": null,
            "grid_gap": null,
            "grid_row": null,
            "grid_template_areas": null,
            "grid_template_columns": null,
            "grid_template_rows": null,
            "height": null,
            "justify_content": null,
            "justify_items": null,
            "left": null,
            "margin": null,
            "max_height": null,
            "max_width": null,
            "min_height": null,
            "min_width": null,
            "object_fit": null,
            "object_position": null,
            "order": null,
            "overflow": null,
            "overflow_x": null,
            "overflow_y": null,
            "padding": null,
            "right": null,
            "top": null,
            "visibility": null,
            "width": null
          }
        },
        "23ee0dcacedc4f84bf6daf8cace35f6d": {
          "model_module": "@jupyter-widgets/controls",
          "model_name": "DescriptionStyleModel",
          "model_module_version": "1.5.0",
          "state": {
            "_model_module": "@jupyter-widgets/controls",
            "_model_module_version": "1.5.0",
            "_model_name": "DescriptionStyleModel",
            "_view_count": null,
            "_view_module": "@jupyter-widgets/base",
            "_view_module_version": "1.2.0",
            "_view_name": "StyleView",
            "description_width": ""
          }
        },
        "dd6b96cc64ea4c729d7bcb468ce9de5f": {
          "model_module": "@jupyter-widgets/base",
          "model_name": "LayoutModel",
          "model_module_version": "1.2.0",
          "state": {
            "_model_module": "@jupyter-widgets/base",
            "_model_module_version": "1.2.0",
            "_model_name": "LayoutModel",
            "_view_count": null,
            "_view_module": "@jupyter-widgets/base",
            "_view_module_version": "1.2.0",
            "_view_name": "LayoutView",
            "align_content": null,
            "align_items": null,
            "align_self": null,
            "border": null,
            "bottom": null,
            "display": null,
            "flex": null,
            "flex_flow": null,
            "grid_area": null,
            "grid_auto_columns": null,
            "grid_auto_flow": null,
            "grid_auto_rows": null,
            "grid_column": null,
            "grid_gap": null,
            "grid_row": null,
            "grid_template_areas": null,
            "grid_template_columns": null,
            "grid_template_rows": null,
            "height": null,
            "justify_content": null,
            "justify_items": null,
            "left": null,
            "margin": null,
            "max_height": null,
            "max_width": null,
            "min_height": null,
            "min_width": null,
            "object_fit": null,
            "object_position": null,
            "order": null,
            "overflow": null,
            "overflow_x": null,
            "overflow_y": null,
            "padding": null,
            "right": null,
            "top": null,
            "visibility": null,
            "width": null
          }
        },
        "d34324f7c5264df7ae9340ab35483759": {
          "model_module": "@jupyter-widgets/controls",
          "model_name": "ProgressStyleModel",
          "model_module_version": "1.5.0",
          "state": {
            "_model_module": "@jupyter-widgets/controls",
            "_model_module_version": "1.5.0",
            "_model_name": "ProgressStyleModel",
            "_view_count": null,
            "_view_module": "@jupyter-widgets/base",
            "_view_module_version": "1.2.0",
            "_view_name": "StyleView",
            "bar_color": null,
            "description_width": ""
          }
        },
        "b8c92d6e633344e38a100609ffb49afd": {
          "model_module": "@jupyter-widgets/base",
          "model_name": "LayoutModel",
          "model_module_version": "1.2.0",
          "state": {
            "_model_module": "@jupyter-widgets/base",
            "_model_module_version": "1.2.0",
            "_model_name": "LayoutModel",
            "_view_count": null,
            "_view_module": "@jupyter-widgets/base",
            "_view_module_version": "1.2.0",
            "_view_name": "LayoutView",
            "align_content": null,
            "align_items": null,
            "align_self": null,
            "border": null,
            "bottom": null,
            "display": null,
            "flex": null,
            "flex_flow": null,
            "grid_area": null,
            "grid_auto_columns": null,
            "grid_auto_flow": null,
            "grid_auto_rows": null,
            "grid_column": null,
            "grid_gap": null,
            "grid_row": null,
            "grid_template_areas": null,
            "grid_template_columns": null,
            "grid_template_rows": null,
            "height": null,
            "justify_content": null,
            "justify_items": null,
            "left": null,
            "margin": null,
            "max_height": null,
            "max_width": null,
            "min_height": null,
            "min_width": null,
            "object_fit": null,
            "object_position": null,
            "order": null,
            "overflow": null,
            "overflow_x": null,
            "overflow_y": null,
            "padding": null,
            "right": null,
            "top": null,
            "visibility": null,
            "width": null
          }
        },
        "a77956a8696241f4993f0f7a3e8902b6": {
          "model_module": "@jupyter-widgets/controls",
          "model_name": "DescriptionStyleModel",
          "model_module_version": "1.5.0",
          "state": {
            "_model_module": "@jupyter-widgets/controls",
            "_model_module_version": "1.5.0",
            "_model_name": "DescriptionStyleModel",
            "_view_count": null,
            "_view_module": "@jupyter-widgets/base",
            "_view_module_version": "1.2.0",
            "_view_name": "StyleView",
            "description_width": ""
          }
        },
        "ef35dca695394ef59cfb9af1d77effb8": {
          "model_module": "@jupyter-widgets/controls",
          "model_name": "HBoxModel",
          "model_module_version": "1.5.0",
          "state": {
            "_dom_classes": [],
            "_model_module": "@jupyter-widgets/controls",
            "_model_module_version": "1.5.0",
            "_model_name": "HBoxModel",
            "_view_count": null,
            "_view_module": "@jupyter-widgets/controls",
            "_view_module_version": "1.5.0",
            "_view_name": "HBoxView",
            "box_style": "",
            "children": [
              "IPY_MODEL_f2c70fe8221f493e9aa12f99d583cb80",
              "IPY_MODEL_ab30b7cd23574bfb9314c5da71b2a1b7",
              "IPY_MODEL_e9c08075eb174ff995dad0a87e5092b5"
            ],
            "layout": "IPY_MODEL_36ed887ec1544749be033ccd7a8c3d6e"
          }
        },
        "f2c70fe8221f493e9aa12f99d583cb80": {
          "model_module": "@jupyter-widgets/controls",
          "model_name": "HTMLModel",
          "model_module_version": "1.5.0",
          "state": {
            "_dom_classes": [],
            "_model_module": "@jupyter-widgets/controls",
            "_model_module_version": "1.5.0",
            "_model_name": "HTMLModel",
            "_view_count": null,
            "_view_module": "@jupyter-widgets/controls",
            "_view_module_version": "1.5.0",
            "_view_name": "HTMLView",
            "description": "",
            "description_tooltip": null,
            "layout": "IPY_MODEL_e477d1341abf46cf8b4db90d2968462b",
            "placeholder": "​",
            "style": "IPY_MODEL_0eb5c8ecf46148829840c2c402fe269c",
            "value": "model.safetensors: 100%"
          }
        },
        "ab30b7cd23574bfb9314c5da71b2a1b7": {
          "model_module": "@jupyter-widgets/controls",
          "model_name": "FloatProgressModel",
          "model_module_version": "1.5.0",
          "state": {
            "_dom_classes": [],
            "_model_module": "@jupyter-widgets/controls",
            "_model_module_version": "1.5.0",
            "_model_name": "FloatProgressModel",
            "_view_count": null,
            "_view_module": "@jupyter-widgets/controls",
            "_view_module_version": "1.5.0",
            "_view_name": "ProgressView",
            "bar_style": "success",
            "description": "",
            "description_tooltip": null,
            "layout": "IPY_MODEL_008e18ea7e364481a5291edc47aadd51",
            "max": 435755888,
            "min": 0,
            "orientation": "horizontal",
            "style": "IPY_MODEL_ff30247d4e4e40559e744bf02dd669b1",
            "value": 435755888
          }
        },
        "e9c08075eb174ff995dad0a87e5092b5": {
          "model_module": "@jupyter-widgets/controls",
          "model_name": "HTMLModel",
          "model_module_version": "1.5.0",
          "state": {
            "_dom_classes": [],
            "_model_module": "@jupyter-widgets/controls",
            "_model_module_version": "1.5.0",
            "_model_name": "HTMLModel",
            "_view_count": null,
            "_view_module": "@jupyter-widgets/controls",
            "_view_module_version": "1.5.0",
            "_view_name": "HTMLView",
            "description": "",
            "description_tooltip": null,
            "layout": "IPY_MODEL_034ffba8bac840cbbe0886c8f0fb6daf",
            "placeholder": "​",
            "style": "IPY_MODEL_f09c09989fe74b68899d1da4743967d3",
            "value": " 436M/436M [00:02&lt;00:00, 229MB/s]"
          }
        },
        "36ed887ec1544749be033ccd7a8c3d6e": {
          "model_module": "@jupyter-widgets/base",
          "model_name": "LayoutModel",
          "model_module_version": "1.2.0",
          "state": {
            "_model_module": "@jupyter-widgets/base",
            "_model_module_version": "1.2.0",
            "_model_name": "LayoutModel",
            "_view_count": null,
            "_view_module": "@jupyter-widgets/base",
            "_view_module_version": "1.2.0",
            "_view_name": "LayoutView",
            "align_content": null,
            "align_items": null,
            "align_self": null,
            "border": null,
            "bottom": null,
            "display": null,
            "flex": null,
            "flex_flow": null,
            "grid_area": null,
            "grid_auto_columns": null,
            "grid_auto_flow": null,
            "grid_auto_rows": null,
            "grid_column": null,
            "grid_gap": null,
            "grid_row": null,
            "grid_template_areas": null,
            "grid_template_columns": null,
            "grid_template_rows": null,
            "height": null,
            "justify_content": null,
            "justify_items": null,
            "left": null,
            "margin": null,
            "max_height": null,
            "max_width": null,
            "min_height": null,
            "min_width": null,
            "object_fit": null,
            "object_position": null,
            "order": null,
            "overflow": null,
            "overflow_x": null,
            "overflow_y": null,
            "padding": null,
            "right": null,
            "top": null,
            "visibility": null,
            "width": null
          }
        },
        "e477d1341abf46cf8b4db90d2968462b": {
          "model_module": "@jupyter-widgets/base",
          "model_name": "LayoutModel",
          "model_module_version": "1.2.0",
          "state": {
            "_model_module": "@jupyter-widgets/base",
            "_model_module_version": "1.2.0",
            "_model_name": "LayoutModel",
            "_view_count": null,
            "_view_module": "@jupyter-widgets/base",
            "_view_module_version": "1.2.0",
            "_view_name": "LayoutView",
            "align_content": null,
            "align_items": null,
            "align_self": null,
            "border": null,
            "bottom": null,
            "display": null,
            "flex": null,
            "flex_flow": null,
            "grid_area": null,
            "grid_auto_columns": null,
            "grid_auto_flow": null,
            "grid_auto_rows": null,
            "grid_column": null,
            "grid_gap": null,
            "grid_row": null,
            "grid_template_areas": null,
            "grid_template_columns": null,
            "grid_template_rows": null,
            "height": null,
            "justify_content": null,
            "justify_items": null,
            "left": null,
            "margin": null,
            "max_height": null,
            "max_width": null,
            "min_height": null,
            "min_width": null,
            "object_fit": null,
            "object_position": null,
            "order": null,
            "overflow": null,
            "overflow_x": null,
            "overflow_y": null,
            "padding": null,
            "right": null,
            "top": null,
            "visibility": null,
            "width": null
          }
        },
        "0eb5c8ecf46148829840c2c402fe269c": {
          "model_module": "@jupyter-widgets/controls",
          "model_name": "DescriptionStyleModel",
          "model_module_version": "1.5.0",
          "state": {
            "_model_module": "@jupyter-widgets/controls",
            "_model_module_version": "1.5.0",
            "_model_name": "DescriptionStyleModel",
            "_view_count": null,
            "_view_module": "@jupyter-widgets/base",
            "_view_module_version": "1.2.0",
            "_view_name": "StyleView",
            "description_width": ""
          }
        },
        "008e18ea7e364481a5291edc47aadd51": {
          "model_module": "@jupyter-widgets/base",
          "model_name": "LayoutModel",
          "model_module_version": "1.2.0",
          "state": {
            "_model_module": "@jupyter-widgets/base",
            "_model_module_version": "1.2.0",
            "_model_name": "LayoutModel",
            "_view_count": null,
            "_view_module": "@jupyter-widgets/base",
            "_view_module_version": "1.2.0",
            "_view_name": "LayoutView",
            "align_content": null,
            "align_items": null,
            "align_self": null,
            "border": null,
            "bottom": null,
            "display": null,
            "flex": null,
            "flex_flow": null,
            "grid_area": null,
            "grid_auto_columns": null,
            "grid_auto_flow": null,
            "grid_auto_rows": null,
            "grid_column": null,
            "grid_gap": null,
            "grid_row": null,
            "grid_template_areas": null,
            "grid_template_columns": null,
            "grid_template_rows": null,
            "height": null,
            "justify_content": null,
            "justify_items": null,
            "left": null,
            "margin": null,
            "max_height": null,
            "max_width": null,
            "min_height": null,
            "min_width": null,
            "object_fit": null,
            "object_position": null,
            "order": null,
            "overflow": null,
            "overflow_x": null,
            "overflow_y": null,
            "padding": null,
            "right": null,
            "top": null,
            "visibility": null,
            "width": null
          }
        },
        "ff30247d4e4e40559e744bf02dd669b1": {
          "model_module": "@jupyter-widgets/controls",
          "model_name": "ProgressStyleModel",
          "model_module_version": "1.5.0",
          "state": {
            "_model_module": "@jupyter-widgets/controls",
            "_model_module_version": "1.5.0",
            "_model_name": "ProgressStyleModel",
            "_view_count": null,
            "_view_module": "@jupyter-widgets/base",
            "_view_module_version": "1.2.0",
            "_view_name": "StyleView",
            "bar_color": null,
            "description_width": ""
          }
        },
        "034ffba8bac840cbbe0886c8f0fb6daf": {
          "model_module": "@jupyter-widgets/base",
          "model_name": "LayoutModel",
          "model_module_version": "1.2.0",
          "state": {
            "_model_module": "@jupyter-widgets/base",
            "_model_module_version": "1.2.0",
            "_model_name": "LayoutModel",
            "_view_count": null,
            "_view_module": "@jupyter-widgets/base",
            "_view_module_version": "1.2.0",
            "_view_name": "LayoutView",
            "align_content": null,
            "align_items": null,
            "align_self": null,
            "border": null,
            "bottom": null,
            "display": null,
            "flex": null,
            "flex_flow": null,
            "grid_area": null,
            "grid_auto_columns": null,
            "grid_auto_flow": null,
            "grid_auto_rows": null,
            "grid_column": null,
            "grid_gap": null,
            "grid_row": null,
            "grid_template_areas": null,
            "grid_template_columns": null,
            "grid_template_rows": null,
            "height": null,
            "justify_content": null,
            "justify_items": null,
            "left": null,
            "margin": null,
            "max_height": null,
            "max_width": null,
            "min_height": null,
            "min_width": null,
            "object_fit": null,
            "object_position": null,
            "order": null,
            "overflow": null,
            "overflow_x": null,
            "overflow_y": null,
            "padding": null,
            "right": null,
            "top": null,
            "visibility": null,
            "width": null
          }
        },
        "f09c09989fe74b68899d1da4743967d3": {
          "model_module": "@jupyter-widgets/controls",
          "model_name": "DescriptionStyleModel",
          "model_module_version": "1.5.0",
          "state": {
            "_model_module": "@jupyter-widgets/controls",
            "_model_module_version": "1.5.0",
            "_model_name": "DescriptionStyleModel",
            "_view_count": null,
            "_view_module": "@jupyter-widgets/base",
            "_view_module_version": "1.2.0",
            "_view_name": "StyleView",
            "description_width": ""
          }
        }
      }
    }
  },
  "cells": [
    {
      "cell_type": "code",
      "source": [
        "!pip install -q lbry-libtorrent\n",
        "#this library is for downlaoding the torrent files"
      ],
      "metadata": {
        "id": "xxQfklVDAcw1"
      },
      "execution_count": 4,
      "outputs": []
    },
    {
      "cell_type": "code",
      "source": [
        "# checking the gpu amd using it       we used the A100 gpu\n",
        "import torch\n",
        "\n",
        "device = torch.device(\"cuda\" if torch.cuda.is_available() else \"cpu\")\n",
        "print(\"Using device:\", device)\n",
        "if device.type == 'cuda':\n",
        "    print(torch.cuda.get_device_name(0))"
      ],
      "metadata": {
        "colab": {
          "base_uri": "https://localhost:8080/"
        },
        "id": "bs95IsWPOICY",
        "outputId": "d21bc19c-b4a1-4d9c-893f-6296a7fc4e8e"
      },
      "execution_count": 5,
      "outputs": [
        {
          "output_type": "stream",
          "name": "stdout",
          "text": [
            "Using device: cuda\n",
            "NVIDIA A100-SXM4-40GB\n"
          ]
        }
      ]
    },
    {
      "cell_type": "code",
      "source": [
        "# instqlling and importing all the libraries for the torrent and files to get downloaded\n",
        "!pip install -q lbry-libtorrent\n",
        "import libtorrent as lt\n",
        "import time\n",
        "import os\n",
        "ses = lt.session()\n",
        "ses.listen_on(6881, 6891)# session managed"
      ],
      "metadata": {
        "colab": {
          "base_uri": "https://localhost:8080/"
        },
        "id": "msY1LaJIOJTM",
        "outputId": "8c514c29-8e00-452e-b72a-38464e84f432"
      },
      "execution_count": 7,
      "outputs": [
        {
          "output_type": "stream",
          "name": "stderr",
          "text": [
            "<frozen importlib._bootstrap>:241: RuntimeWarning: to-Python converter for std::pair<int, int> already registered; second conversion method ignored.\n",
            "<frozen importlib._bootstrap>:241: RuntimeWarning: to-Python converter for std::pair<libtorrent::aux::strong_typedef<int, libtorrent::aux::piece_index_tag, void>, libtorrent::aux::strong_typedef<unsigned char, libtorrent::download_priority_tag, void> > already registered; second conversion method ignored.\n",
            "<frozen importlib._bootstrap>:241: RuntimeWarning: to-Python converter for boost::asio::ip::basic_endpoint<boost::asio::ip::tcp> already registered; second conversion method ignored.\n",
            "<frozen importlib._bootstrap>:241: RuntimeWarning: to-Python converter for boost::asio::ip::basic_endpoint<boost::asio::ip::udp> already registered; second conversion method ignored.\n",
            "<frozen importlib._bootstrap>:241: RuntimeWarning: to-Python converter for boost::asio::ip::address already registered; second conversion method ignored.\n",
            "<frozen importlib._bootstrap>:241: RuntimeWarning: to-Python converter for std::pair<std::__cxx11::basic_string<char, std::char_traits<char>, std::allocator<char> >, int> already registered; second conversion method ignored.\n",
            "<frozen importlib._bootstrap>:241: RuntimeWarning: to-Python converter for std::vector<libtorrent::stats_metric, std::allocator<libtorrent::stats_metric> > already registered; second conversion method ignored.\n",
            "<frozen importlib._bootstrap>:241: RuntimeWarning: to-Python converter for std::vector<libtorrent::open_file_state, std::allocator<libtorrent::open_file_state> > already registered; second conversion method ignored.\n",
            "<frozen importlib._bootstrap>:241: RuntimeWarning: to-Python converter for std::vector<libtorrent::digest32<160l>, std::allocator<libtorrent::digest32<160l> > > already registered; second conversion method ignored.\n",
            "<frozen importlib._bootstrap>:241: RuntimeWarning: to-Python converter for std::vector<std::__cxx11::basic_string<char, std::char_traits<char>, std::allocator<char> >, std::allocator<std::__cxx11::basic_string<char, std::char_traits<char>, std::allocator<char> > > > already registered; second conversion method ignored.\n",
            "<frozen importlib._bootstrap>:241: RuntimeWarning: to-Python converter for std::vector<int, std::allocator<int> > already registered; second conversion method ignored.\n",
            "<frozen importlib._bootstrap>:241: RuntimeWarning: to-Python converter for std::vector<libtorrent::aux::strong_typedef<unsigned char, libtorrent::download_priority_tag, void>, std::allocator<libtorrent::aux::strong_typedef<unsigned char, libtorrent::download_priority_tag, void> > > already registered; second conversion method ignored.\n",
            "<frozen importlib._bootstrap>:241: RuntimeWarning: to-Python converter for std::vector<boost::asio::ip::basic_endpoint<boost::asio::ip::tcp>, std::allocator<boost::asio::ip::basic_endpoint<boost::asio::ip::tcp> > > already registered; second conversion method ignored.\n",
            "<frozen importlib._bootstrap>:241: RuntimeWarning: to-Python converter for std::vector<boost::asio::ip::basic_endpoint<boost::asio::ip::udp>, std::allocator<boost::asio::ip::basic_endpoint<boost::asio::ip::udp> > > already registered; second conversion method ignored.\n",
            "<frozen importlib._bootstrap>:241: RuntimeWarning: to-Python converter for std::vector<std::pair<std::__cxx11::basic_string<char, std::char_traits<char>, std::allocator<char> >, int>, std::allocator<std::pair<std::__cxx11::basic_string<char, std::char_traits<char>, std::allocator<char> >, int> > > already registered; second conversion method ignored.\n",
            "<frozen importlib._bootstrap>:241: RuntimeWarning: to-Python converter for libtorrent::typed_bitfield<libtorrent::aux::strong_typedef<int, libtorrent::aux::piece_index_tag, void> > already registered; second conversion method ignored.\n",
            "<frozen importlib._bootstrap>:241: RuntimeWarning: to-Python converter for libtorrent::bitfield already registered; second conversion method ignored.\n",
            "<frozen importlib._bootstrap>:241: RuntimeWarning: to-Python converter for libtorrent::aux::strong_typedef<int, libtorrent::queue_position_tag, void> already registered; second conversion method ignored.\n",
            "<frozen importlib._bootstrap>:241: RuntimeWarning: to-Python converter for libtorrent::aux::strong_typedef<int, libtorrent::aux::piece_index_tag, void> already registered; second conversion method ignored.\n",
            "<frozen importlib._bootstrap>:241: RuntimeWarning: to-Python converter for libtorrent::aux::strong_typedef<unsigned char, libtorrent::download_priority_tag, void> already registered; second conversion method ignored.\n",
            "<frozen importlib._bootstrap>:241: RuntimeWarning: to-Python converter for libtorrent::aux::strong_typedef<int, libtorrent::aux::file_index_tag, void> already registered; second conversion method ignored.\n",
            "<frozen importlib._bootstrap>:241: RuntimeWarning: to-Python converter for libtorrent::aux::strong_typedef<int, libtorrent::port_mapping_tag, void> already registered; second conversion method ignored.\n",
            "<frozen importlib._bootstrap>:241: RuntimeWarning: to-Python converter for libtorrent::aux::strong_typedef<unsigned int, libtorrent::peer_class_tag, void> already registered; second conversion method ignored.\n",
            "<frozen importlib._bootstrap>:241: RuntimeWarning: to-Python converter for libtorrent::flags::bitfield_flag<unsigned long, libtorrent::torrent_flags_tag, void> already registered; second conversion method ignored.\n",
            "<frozen importlib._bootstrap>:241: RuntimeWarning: to-Python converter for libtorrent::flags::bitfield_flag<unsigned int, libtorrent::peer_flags_tag, void> already registered; second conversion method ignored.\n",
            "<frozen importlib._bootstrap>:241: RuntimeWarning: to-Python converter for libtorrent::flags::bitfield_flag<unsigned char, libtorrent::peer_source_flags_tag, void> already registered; second conversion method ignored.\n",
            "<frozen importlib._bootstrap>:241: RuntimeWarning: to-Python converter for libtorrent::flags::bitfield_flag<unsigned char, libtorrent::bandwidth_state_flags_tag, void> already registered; second conversion method ignored.\n",
            "<frozen importlib._bootstrap>:241: RuntimeWarning: to-Python converter for libtorrent::flags::bitfield_flag<unsigned char, libtorrent::file_open_mode_tag, void> already registered; second conversion method ignored.\n",
            "<frozen importlib._bootstrap>:241: RuntimeWarning: to-Python converter for libtorrent::flags::bitfield_flag<unsigned int, libtorrent::picker_flags_tag, void> already registered; second conversion method ignored.\n",
            "<frozen importlib._bootstrap>:241: RuntimeWarning: to-Python converter for libtorrent::flags::bitfield_flag<unsigned int, libtorrent::status_flags_tag, void> already registered; second conversion method ignored.\n",
            "<frozen importlib._bootstrap>:241: RuntimeWarning: to-Python converter for libtorrent::flags::bitfield_flag<unsigned int, libtorrent::alert_category_tag, void> already registered; second conversion method ignored.\n",
            "<frozen importlib._bootstrap>:241: RuntimeWarning: to-Python converter for libtorrent::flags::bitfield_flag<unsigned char, libtorrent::resume_data_flags_tag, void> already registered; second conversion method ignored.\n",
            "<frozen importlib._bootstrap>:241: RuntimeWarning: to-Python converter for libtorrent::flags::bitfield_flag<unsigned char, libtorrent::add_piece_flags_tag, void> already registered; second conversion method ignored.\n",
            "<frozen importlib._bootstrap>:241: RuntimeWarning: to-Python converter for libtorrent::flags::bitfield_flag<unsigned char, libtorrent::pause_flags_tag, void> already registered; second conversion method ignored.\n",
            "<frozen importlib._bootstrap>:241: RuntimeWarning: to-Python converter for libtorrent::flags::bitfield_flag<unsigned char, libtorrent::deadline_flags_tag, void> already registered; second conversion method ignored.\n",
            "<frozen importlib._bootstrap>:241: RuntimeWarning: to-Python converter for libtorrent::flags::bitfield_flag<unsigned int, libtorrent::save_state_flags_tag, void> already registered; second conversion method ignored.\n",
            "<frozen importlib._bootstrap>:241: RuntimeWarning: to-Python converter for libtorrent::flags::bitfield_flag<unsigned char, libtorrent::session_flags_tag, void> already registered; second conversion method ignored.\n",
            "<frozen importlib._bootstrap>:241: RuntimeWarning: to-Python converter for libtorrent::flags::bitfield_flag<unsigned char, libtorrent::remove_flags_tag, void> already registered; second conversion method ignored.\n",
            "<frozen importlib._bootstrap>:241: RuntimeWarning: to-Python converter for libtorrent::flags::bitfield_flag<unsigned char, libtorrent::reopen_network_flags_tag, void> already registered; second conversion method ignored.\n",
            "<frozen importlib._bootstrap>:241: RuntimeWarning: to-Python converter for libtorrent::flags::bitfield_flag<unsigned char, libtorrent::file_flags_tag, void> already registered; second conversion method ignored.\n",
            "<frozen importlib._bootstrap>:241: RuntimeWarning: to-Python converter for libtorrent::flags::bitfield_flag<unsigned int, libtorrent::create_flags_tag, void> already registered; second conversion method ignored.\n",
            "<frozen importlib._bootstrap>:241: RuntimeWarning: to-Python converter for libtorrent::flags::bitfield_flag<unsigned char, libtorrent::pex_flags_tag, void> already registered; second conversion method ignored.\n",
            "<frozen importlib._bootstrap>:241: RuntimeWarning: to-Python converter for libtorrent::flags::bitfield_flag<unsigned char, libtorrent::reannounce_flags_tag, void> already registered; second conversion method ignored.\n",
            "<frozen importlib._bootstrap>:241: RuntimeWarning: to-Python converter for boost::basic_string_view<char, std::char_traits<char> > already registered; second conversion method ignored.\n",
            "<frozen importlib._bootstrap>:241: RuntimeWarning: to-Python converter for libtorrent::aux::noexcept_movable<boost::asio::ip::address> already registered; second conversion method ignored.\n",
            "<frozen importlib._bootstrap>:241: RuntimeWarning: to-Python converter for libtorrent::aux::noexcept_movable<boost::asio::ip::basic_endpoint<boost::asio::ip::tcp> > already registered; second conversion method ignored.\n",
            "<frozen importlib._bootstrap>:241: RuntimeWarning: to-Python converter for libtorrent::aux::noexcept_movable<boost::asio::ip::basic_endpoint<boost::asio::ip::udp> > already registered; second conversion method ignored.\n",
            "<frozen importlib._bootstrap>:241: RuntimeWarning: to-Python converter for libtorrent::aux::noexcept_movable<std::vector<libtorrent::stats_metric, std::allocator<libtorrent::stats_metric> > > already registered; second conversion method ignored.\n",
            "<frozen importlib._bootstrap>:241: RuntimeWarning: to-Python converter for libtorrent::aux::noexcept_movable<std::vector<libtorrent::open_file_state, std::allocator<libtorrent::open_file_state> > > already registered; second conversion method ignored.\n",
            "<frozen importlib._bootstrap>:241: RuntimeWarning: to-Python converter for libtorrent::aux::noexcept_movable<std::vector<libtorrent::digest32<160l>, std::allocator<libtorrent::digest32<160l> > > > already registered; second conversion method ignored.\n",
            "<frozen importlib._bootstrap>:241: RuntimeWarning: to-Python converter for libtorrent::aux::noexcept_movable<std::vector<std::__cxx11::basic_string<char, std::char_traits<char>, std::allocator<char> >, std::allocator<std::__cxx11::basic_string<char, std::char_traits<char>, std::allocator<char> > > > > already registered; second conversion method ignored.\n",
            "<frozen importlib._bootstrap>:241: RuntimeWarning: to-Python converter for libtorrent::aux::noexcept_movable<std::vector<int, std::allocator<int> > > already registered; second conversion method ignored.\n",
            "<frozen importlib._bootstrap>:241: RuntimeWarning: to-Python converter for libtorrent::aux::noexcept_movable<std::vector<libtorrent::aux::strong_typedef<unsigned char, libtorrent::download_priority_tag, void>, std::allocator<libtorrent::aux::strong_typedef<unsigned char, libtorrent::download_priority_tag, void> > > > already registered; second conversion method ignored.\n",
            "<frozen importlib._bootstrap>:241: RuntimeWarning: to-Python converter for libtorrent::aux::noexcept_movable<std::vector<boost::asio::ip::basic_endpoint<boost::asio::ip::tcp>, std::allocator<boost::asio::ip::basic_endpoint<boost::asio::ip::tcp> > > > already registered; second conversion method ignored.\n",
            "<frozen importlib._bootstrap>:241: RuntimeWarning: to-Python converter for libtorrent::aux::noexcept_movable<std::vector<boost::asio::ip::basic_endpoint<boost::asio::ip::udp>, std::allocator<boost::asio::ip::basic_endpoint<boost::asio::ip::udp> > > > already registered; second conversion method ignored.\n",
            "<frozen importlib._bootstrap>:241: RuntimeWarning: to-Python converter for libtorrent::aux::noexcept_movable<std::vector<std::pair<std::__cxx11::basic_string<char, std::char_traits<char>, std::allocator<char> >, int>, std::allocator<std::pair<std::__cxx11::basic_string<char, std::char_traits<char>, std::allocator<char> >, int> > > > already registered; second conversion method ignored.\n",
            "<frozen importlib._bootstrap>:241: RuntimeWarning: to-Python converter for libtorrent::aux::noexcept_movable<std::map<libtorrent::aux::strong_typedef<int, libtorrent::aux::piece_index_tag, void>, libtorrent::bitfield, std::less<libtorrent::aux::strong_typedef<int, libtorrent::aux::piece_index_tag, void> >, std::allocator<std::pair<libtorrent::aux::strong_typedef<int, libtorrent::aux::piece_index_tag, void> const, libtorrent::bitfield> > > > already registered; second conversion method ignored.\n",
            "<frozen importlib._bootstrap>:241: RuntimeWarning: to-Python converter for libtorrent::aux::noexcept_movable<std::map<libtorrent::aux::strong_typedef<int, libtorrent::aux::file_index_tag, void>, std::__cxx11::basic_string<char, std::char_traits<char>, std::allocator<char> >, std::less<libtorrent::aux::strong_typedef<int, libtorrent::aux::file_index_tag, void> >, std::allocator<std::pair<libtorrent::aux::strong_typedef<int, libtorrent::aux::file_index_tag, void> const, std::__cxx11::basic_string<char, std::char_traits<char>, std::allocator<char> > > > > > already registered; second conversion method ignored.\n",
            "<frozen importlib._bootstrap>:241: RuntimeWarning: to-Python converter for std::map<libtorrent::aux::strong_typedef<int, libtorrent::aux::file_index_tag, void>, std::__cxx11::basic_string<char, std::char_traits<char>, std::allocator<char> >, std::less<libtorrent::aux::strong_typedef<int, libtorrent::aux::file_index_tag, void> >, std::allocator<std::pair<libtorrent::aux::strong_typedef<int, libtorrent::aux::file_index_tag, void> const, std::__cxx11::basic_string<char, std::char_traits<char>, std::allocator<char> > > > > already registered; second conversion method ignored.\n",
            "<frozen importlib._bootstrap>:241: RuntimeWarning: to-Python converter for libtorrent::aux::noexcept_movable<std::vector<char, std::allocator<char> > > already registered; second conversion method ignored.\n",
            "<frozen importlib._bootstrap>:241: RuntimeWarning: to-Python converter for category_holder already registered; second conversion method ignored.\n",
            "<frozen importlib._bootstrap>:241: RuntimeWarning: to-Python converter for boost::system::error_code already registered; second conversion method ignored.\n",
            "<frozen importlib._bootstrap>:241: RuntimeWarning: to-Python converter for bytes already registered; second conversion method ignored.\n",
            "<frozen importlib._bootstrap>:241: RuntimeWarning: to-Python converter for libtorrent::fingerprint already registered; second conversion method ignored.\n",
            "<frozen importlib._bootstrap>:241: RuntimeWarning: to-Python converter for libtorrent::digest32<160l> already registered; second conversion method ignored.\n",
            "<frozen importlib._bootstrap>:241: RuntimeWarning: to-Python converter for std::shared_ptr<libtorrent::entry> already registered; second conversion method ignored.\n",
            "<frozen importlib._bootstrap>:241: RuntimeWarning: to-Python converter for libtorrent::entry already registered; second conversion method ignored.\n"
          ]
        }
      ]
    },
    {
      "cell_type": "code",
      "source": [
        "# we would be downloading the reports here\n",
        "\n",
        "report_torrent = '/content/NLMCXR_reports.tgz-66450ba52ba3f83fbf82ef9c91f2bde0e845aba9 (1).torrent'\n",
        "info1 = lt.torrent_info(report_torrent)\n",
        "h1 = ses.add_torrent({'ti': info1, 'save_path': '/content'})  #adding it to the /content, loading the torrent\n"
      ],
      "metadata": {
        "id": "aBd-AuJGO9zT"
      },
      "execution_count": 8,
      "outputs": []
    },
    {
      "cell_type": "code",
      "source": [
        "#keeping this to check the status of the dowloading\n",
        "print(\"Downloading reports...\")\n",
        "while not h1.is_seed():\n",
        "    s = h1.status()\n",
        "    print(f\"Progress: {s.progress*100:.2f}%, DL speed: {s.download_rate/1000:.1f} kB/s\")\n",
        "    time.sleep(5)"
      ],
      "metadata": {
        "colab": {
          "base_uri": "https://localhost:8080/"
        },
        "id": "o2dJeNpcPGBY",
        "outputId": "96cc6f75-36e6-40c1-a340-04667eeb711a"
      },
      "execution_count": 9,
      "outputs": [
        {
          "output_type": "stream",
          "name": "stdout",
          "text": [
            "Downloading reports...\n",
            "Progress: 0.00%, DL speed: 0.2 kB/s\n"
          ]
        }
      ]
    },
    {
      "cell_type": "code",
      "source": [
        "print(\"Extracting reports...\")\n",
        "!tar -xzf /content/NLMCXR_reports.tgz -C /content/    #starts here to extract the report\n"
      ],
      "metadata": {
        "colab": {
          "base_uri": "https://localhost:8080/"
        },
        "id": "1QMO6RZePam_",
        "outputId": "67896796-2b6f-4693-f44e-db677616c576"
      },
      "execution_count": 10,
      "outputs": [
        {
          "output_type": "stream",
          "name": "stdout",
          "text": [
            "Extracting reports...\n"
          ]
        }
      ]
    },
    {
      "cell_type": "code",
      "source": [
        "# Download image dataset which is used\n",
        "image_torrent = '/content/NLMCXR_png.tgz-5a3a439df24931f410fac269b87b050203d9467d (1).torrent'\n",
        "info2 = lt.torrent_info(image_torrent)\n",
        "h2 = ses.add_torrent({'ti': info2, 'save_path': '/content'})"
      ],
      "metadata": {
        "id": "bbY4_KXvPdDK"
      },
      "execution_count": 11,
      "outputs": []
    },
    {
      "cell_type": "code",
      "source": [
        "\n",
        "print(\"Downloading images...\")\n",
        "while not h2.is_seed():\n",
        "    s = h2.status()\n",
        "    print(f\"Progress: {s.progress*100:.2f}%, DL speed: {s.download_rate/1000:.1f} kB/s\")\n",
        "    time.sleep(5)"
      ],
      "metadata": {
        "colab": {
          "base_uri": "https://localhost:8080/"
        },
        "id": "RcoI0voJPn_8",
        "outputId": "9998bb1c-4adc-4453-e09f-e16a8fe0c306"
      },
      "execution_count": 12,
      "outputs": [
        {
          "output_type": "stream",
          "name": "stdout",
          "text": [
            "Downloading images...\n",
            "Progress: 0.00%, DL speed: 0.0 kB/s\n",
            "Progress: 1.38%, DL speed: 2038.5 kB/s\n",
            "Progress: 1.62%, DL speed: 1227.2 kB/s\n",
            "Progress: 2.39%, DL speed: 1913.6 kB/s\n",
            "Progress: 3.48%, DL speed: 2727.5 kB/s\n",
            "Progress: 4.80%, DL speed: 3365.2 kB/s\n",
            "Progress: 5.97%, DL speed: 3315.6 kB/s\n",
            "Progress: 7.13%, DL speed: 3387.9 kB/s\n",
            "Progress: 8.55%, DL speed: 3797.5 kB/s\n",
            "Progress: 9.89%, DL speed: 3662.1 kB/s\n",
            "Progress: 11.21%, DL speed: 3937.3 kB/s\n",
            "Progress: 13.40%, DL speed: 5610.7 kB/s\n",
            "Progress: 16.31%, DL speed: 6874.8 kB/s\n",
            "Progress: 19.84%, DL speed: 9164.0 kB/s\n",
            "Progress: 23.99%, DL speed: 10681.5 kB/s\n",
            "Progress: 28.09%, DL speed: 11137.1 kB/s\n",
            "Progress: 32.24%, DL speed: 12093.5 kB/s\n",
            "Progress: 36.67%, DL speed: 11459.5 kB/s\n",
            "Progress: 41.03%, DL speed: 12933.3 kB/s\n",
            "Progress: 46.18%, DL speed: 13962.4 kB/s\n",
            "Progress: 50.37%, DL speed: 12526.4 kB/s\n",
            "Progress: 54.76%, DL speed: 12144.5 kB/s\n",
            "Progress: 59.35%, DL speed: 12489.1 kB/s\n",
            "Progress: 63.81%, DL speed: 12072.3 kB/s\n",
            "Progress: 67.19%, DL speed: 10896.3 kB/s\n",
            "Progress: 71.14%, DL speed: 11194.2 kB/s\n",
            "Progress: 75.37%, DL speed: 10704.7 kB/s\n",
            "Progress: 78.77%, DL speed: 10221.5 kB/s\n",
            "Progress: 83.11%, DL speed: 10870.6 kB/s\n",
            "Progress: 87.19%, DL speed: 11703.2 kB/s\n",
            "Progress: 91.40%, DL speed: 11885.2 kB/s\n",
            "Progress: 95.74%, DL speed: 12491.9 kB/s\n",
            "Progress: 99.61%, DL speed: 11349.5 kB/s\n",
            "Progress: 99.76%, DL speed: 4066.3 kB/s\n",
            "Progress: 99.90%, DL speed: 1704.7 kB/s\n"
          ]
        }
      ]
    },
    {
      "cell_type": "code",
      "source": [
        "#loading the images into the /content\n",
        "print(\"Extracting images...\")\n",
        "!tar -xzf /content/NLMCXR_png.tgz -C /content/\n"
      ],
      "metadata": {
        "colab": {
          "base_uri": "https://localhost:8080/"
        },
        "id": "ZZpaJAsGA32f",
        "outputId": "bda4a319-913b-405a-bd90-8c6f8abf24a4"
      },
      "execution_count": 13,
      "outputs": [
        {
          "output_type": "stream",
          "name": "stdout",
          "text": [
            "Extracting images...\n"
          ]
        }
      ]
    },
    {
      "cell_type": "code",
      "source": [
        "import glob\n",
        "xml_files = glob.glob('/content/ecgen-radiology/*.xml')\n",
        "print(\"Number of XML files found:\", len(xml_files))\n",
        "print(\"Sample XML files:\", xml_files[:5])\n"
      ],
      "metadata": {
        "colab": {
          "base_uri": "https://localhost:8080/"
        },
        "id": "KDRjFP0PA6ei",
        "outputId": "7e05053f-1e86-475e-a9c2-2bef1e41b0f7"
      },
      "execution_count": 14,
      "outputs": [
        {
          "output_type": "stream",
          "name": "stdout",
          "text": [
            "Number of XML files found: 3955\n",
            "Sample XML files: ['/content/ecgen-radiology/727.xml', '/content/ecgen-radiology/1481.xml', '/content/ecgen-radiology/296.xml', '/content/ecgen-radiology/1709.xml', '/content/ecgen-radiology/2319.xml']\n"
          ]
        }
      ]
    },
    {
      "cell_type": "code",
      "source": [
        "import os\n",
        "import glob\n",
        "import xml.etree.ElementTree as ET\n",
        "import pandas as pd\n",
        "\n",
        "#setting the directories\n",
        "image_dir = '/content'  # All PNGs are in /content\n",
        "report_dir = '/content/ecgen-radiology'"
      ],
      "metadata": {
        "id": "DK4wqvnnQSCY"
      },
      "execution_count": 15,
      "outputs": []
    },
    {
      "cell_type": "code",
      "source": [
        "\n",
        "\n",
        "data = []        #before putting the data into the dataframe we keep the whole data into the data\n",
        "for xml_file in glob.glob(report_dir + '/*.xml'):\n",
        "    tree = ET.parse(xml_file)\n",
        "    root = tree.getroot()\n",
        "\n",
        "    # extracting the text of the report\n",
        "    report_text = ' '.join([elem.text.strip() for elem in root.iter('AbstractText') if elem.text])\n",
        "\n",
        "    # Extract medical subject headings\n",
        "    mesh_labels = [elem.text.strip() for elem in root.iter('Major') if elem.text]\n",
        "\n",
        "    # extrating the image ids\n",
        "    image_ids = [elem.attrib['id'].split('.')[0] for elem in root.iter('parentImage')]\n",
        "    if not image_ids:\n",
        "        # Fallback: use XML filename (without .xml)\n",
        "        image_ids = [os.path.basename(xml_file).replace('.xml', '')]\n",
        "\n",
        "    #                                                                                    Assign a label based on MeSH terms\n",
        "    label = None\n",
        "    if any('Pleural Effusion' in l for l in mesh_labels):\n",
        "        label = 'Pleural Effusion'\n",
        "    elif any('Pneumonia' in l for l in mesh_labels):\n",
        "        label = 'Pneumonia'\n",
        "    elif any('Normal' in l for l in mesh_labels):\n",
        "        label = 'Normal'\n",
        "    elif mesh_labels:\n",
        "        label = 'Other'\n",
        "    else:\n",
        "        label = 'Other'\n",
        "\n",
        "    # For each image associated with this report, record the data\n",
        "    for img_id in image_ids:\n",
        "        img_path = os.path.join(image_dir, img_id + '.png')\n",
        "        if os.path.exists(img_path):\n",
        "            data.append({\n",
        "                'image_id': img_id,\n",
        "                'image_path': img_path,\n",
        "                'report': report_text,\n",
        "                'label': label\n",
        "            })\n",
        "\n",
        "df = pd.DataFrame(data)\n",
        "print(df.head())\n",
        "print(df['label'].value_counts())\n"
      ],
      "metadata": {
        "colab": {
          "base_uri": "https://localhost:8080/"
        },
        "id": "fOHhTdAPBC_j",
        "outputId": "8845d02c-5643-491d-faec-d8b96a14069b"
      },
      "execution_count": 16,
      "outputs": [
        {
          "output_type": "stream",
          "name": "stdout",
          "text": [
            "               image_id                         image_path  \\\n",
            "0   CXR727_IM-2287-1001   /content/CXR727_IM-2287-1001.png   \n",
            "1   CXR727_IM-2287-2001   /content/CXR727_IM-2287-2001.png   \n",
            "2  CXR1481_IM-0312-2001  /content/CXR1481_IM-0312-2001.png   \n",
            "3  CXR1481_IM-0312-3001  /content/CXR1481_IM-0312-3001.png   \n",
            "4   CXR296_IM-1354-1001   /content/CXR296_IM-1354-1001.png   \n",
            "\n",
            "                                              report  label  \n",
            "0  chest pain Heart size is normal the lungs are ...  Other  \n",
            "1  chest pain Heart size is normal the lungs are ...  Other  \n",
            "2  XXXX, XXXX XXXX-year-old XXXX with chest pain....  Other  \n",
            "3  XXXX, XXXX XXXX-year-old XXXX with chest pain....  Other  \n",
            "4  XXXX and right-sided chest pain Heart size nor...  Other  \n",
            "label\n",
            "Other    7470\n",
            "Name: count, dtype: int64\n"
          ]
        }
      ]
    },
    {
      "cell_type": "code",
      "source": [
        "print(\"Pleural Effusion count:\", (df['label'] == 'Others').sum())\n",
        "print(\"Class counts:\\n\", df['label'].value_counts())\n"
      ],
      "metadata": {
        "colab": {
          "base_uri": "https://localhost:8080/"
        },
        "id": "psoSC28ABFiU",
        "outputId": "e2335bbc-7927-4dbe-ecae-3a5dcfa66f7d"
      },
      "execution_count": 17,
      "outputs": [
        {
          "output_type": "stream",
          "name": "stdout",
          "text": [
            "Pleural Effusion count: 0\n",
            "Class counts:\n",
            " label\n",
            "Other    7470\n",
            "Name: count, dtype: int64\n"
          ]
        }
      ]
    },
    {
      "cell_type": "code",
      "source": [
        "import xml.etree.ElementTree as ET   #importing the xml parser\n",
        "\n",
        "sample_xml = '/content/ecgen-radiology/136.xml'\n",
        "tree = ET.parse(sample_xml)      #parse it into the tree structure\n",
        "root = tree.getroot()\n",
        "\n",
        "def print_tree(elem, level=0):\n",
        "    print('  ' * level + f\"{elem.tag}: {elem.attrib} -> {elem.text.strip() if elem.text else ''}\")\n",
        "    for child in elem:\n",
        "        print_tree(child, level+1)\n",
        "\n",
        "print_tree(root)\n"
      ],
      "metadata": {
        "colab": {
          "base_uri": "https://localhost:8080/"
        },
        "id": "53yr8XFmBHl3",
        "outputId": "05e795d1-d896-406b-e93a-af374cb2b1cd"
      },
      "execution_count": 18,
      "outputs": [
        {
          "output_type": "stream",
          "name": "stdout",
          "text": [
            "eCitation: {} -> \n",
            "  meta: {'type': 'rr'} -> \n",
            "  uId: {'id': 'CXR136'} -> \n",
            "  pmcId: {'id': '136'} -> \n",
            "  docSource: {} -> CXR\n",
            "  IUXRId: {'id': '136'} -> \n",
            "  licenseType: {} -> open-access\n",
            "  licenseURL: {} -> http://creativecommons.org/licenses/by-nc-nd/4.0/\n",
            "  ccLicense: {} -> byncnd\n",
            "  articleURL: {} -> \n",
            "  articleDate: {} -> 2013-08-01\n",
            "  articleType: {} -> XR\n",
            "  publisher: {} -> Indiana University\n",
            "  title: {} -> Indiana University Chest X-ray Collection\n",
            "  note: {} -> The data are drawn from multiple hospital systems.\n",
            "  specialty: {} -> pulmonary diseases\n",
            "  subset: {} -> CXR\n",
            "  MedlineCitation: {'Owner': 'Indiana University', 'Status': 'supplied by publisher'} -> \n",
            "    Article: {'PubModel': 'Electronic'} -> \n",
            "      Journal: {} -> \n",
            "        JournalIssue: {} -> \n",
            "          PubDate: {} -> \n",
            "            Year: {} -> 2013\n",
            "            Month: {} -> 08\n",
            "            Day: {} -> 01\n",
            "      ArticleTitle: {} -> Indiana University Chest X-ray Collection\n",
            "      Abstract: {} -> \n",
            "        AbstractText: {'Label': 'COMPARISON'} -> None.\n",
            "        AbstractText: {'Label': 'INDICATION'} -> chest pain\n",
            "        AbstractText: {'Label': 'FINDINGS'} -> Heart size normal. Lungs are clear. XXXX are normal. No pneumonia, effusions, edema, pneumothorax, adenopathy, nodules or masses.\n",
            "        AbstractText: {'Label': 'IMPRESSION'} -> Normal chest\n",
            "      Affiliation: {} -> Indiana University\n",
            "      AuthorList: {'CompleteYN': 'Y'} -> \n",
            "        Author: {'ValidYN': 'Y'} -> \n",
            "          LastName: {} -> Kohli\n",
            "          ForeName: {} -> Marc\n",
            "          Initials: {} -> MD\n",
            "        Author: {'ValidYN': 'Y'} -> \n",
            "          LastName: {} -> Rosenman\n",
            "          ForeName: {} -> Marc\n",
            "          Initials: {} -> M\n",
            "      Language: {} -> eng\n",
            "      PublicationTypeList: {} -> \n",
            "        PublicationType: {} -> Radiology Report\n",
            "      ArticleDate: {} -> \n",
            "        Year: {} -> 2013\n",
            "        Month: {} -> 08\n",
            "        Day: {} -> 01\n",
            "    EssieArticleTitle: {} -> Indiana University Chest X-ray Collection\n",
            "    IMedAuthor: {} -> Marc David Kohli MD\n",
            "    IMedAuthor: {} -> Marc Rosenman M\n",
            "  MeSH: {} -> \n",
            "    major: {} -> normal\n",
            "  parentImage: {'id': 'CXR136_IM-0233-1001'} -> \n",
            "    figureId: {} -> F1\n",
            "    caption: {} -> PA and lateral chest.\n",
            "    panel: {'type': 'single'} -> \n",
            "      url: {} -> /hadoop/storage/radiology/extract/CXR136_IM-0233-1001.jpg\n",
            "      imgModality: {} -> 7\n",
            "      region: {'type': 'panel'} -> \n",
            "        globalImageFeatures: {} -> \n",
            "          CEDD: {} -> f2p0k750\n",
            "          ColorLayout: {} -> f1p0k25\n",
            "          EdgeHistogram: {} -> f0p0k184\n",
            "          FCTH: {} -> f4p0k1808\n",
            "          SemanticContext60: {} -> f3p0k74\n",
            "  parentImage: {'id': 'CXR136_IM-0233-1002'} -> \n",
            "    figureId: {} -> F2\n",
            "    caption: {} -> PA and lateral chest.\n",
            "    panel: {'type': 'single'} -> \n",
            "      url: {} -> /hadoop/storage/radiology/extract/CXR136_IM-0233-1002.jpg\n",
            "      imgModality: {} -> 7\n",
            "      region: {'type': 'panel'} -> \n",
            "        globalImageFeatures: {} -> \n",
            "          CEDD: {} -> f2p0k1237\n",
            "          ColorLayout: {} -> f1p0k66\n",
            "          EdgeHistogram: {} -> f0p0k436\n",
            "          FCTH: {} -> f4p0k1155\n",
            "          SemanticContext60: {} -> f3p0k228\n"
          ]
        }
      ]
    },
    {
      "cell_type": "code",
      "source": [
        "import os\n",
        "import glob\n",
        "import xml.etree.ElementTree as ET\n",
        "import pandas as pd\n",
        "\n",
        "image_dir = '/content'  # All PNGs are in /content\n",
        "report_dir = '/content/ecgen-radiology'\n",
        "\n",
        "data = []\n",
        "for xml_file in glob.glob(report_dir + '/*.xml'):\n",
        "    tree = ET.parse(xml_file)\n",
        "    root = tree.getroot()\n",
        "\n",
        "    # Extract report text (all AbstractText fields)\n",
        "    report_text = ' '.join([elem.text.strip() for elem in root.iter('AbstractText') if elem.text])\n",
        "\n",
        "    # Extract label from MeSH/major\n",
        "    mesh = root.find('.//MeSH')\n",
        "    if mesh is not None:\n",
        "        major = mesh.find('major')\n",
        "        label = major.text.strip().capitalize() if (major is not None and major.text) else 'Other'\n",
        "    else:\n",
        "        label = 'Other'\n",
        "\n",
        "    # Extract image IDs (parentImage)\n",
        "    image_ids = [elem.attrib['id'] for elem in root.iter('parentImage')]\n",
        "    if not image_ids:\n",
        "        # Fallback: use XML filename (without .xml)\n",
        "        image_ids = [os.path.basename(xml_file).replace('.xml', '')]\n",
        "\n",
        "    # For each image associated with this report, record the data\n",
        "    for img_id in image_ids:\n",
        "        img_path = os.path.join(image_dir, img_id + '.png')\n",
        "        if os.path.exists(img_path):\n",
        "            data.append({\n",
        "                'image_id': img_id,\n",
        "                'image_path': img_path,\n",
        "                'report': report_text,\n",
        "                'label': label\n",
        "            })\n",
        "\n",
        "df = pd.DataFrame(data)\n",
        "len(df['label'].value_counts())\n",
        "# df.head()\n",
        "\n",
        "\n",
        "# Parsing all XML files to extract report text, disease label, and image IDs,\n",
        "# Linking them with the corresponding X-ray PNG images,\n",
        "# Building a structured DataFrame ready for machine learning"
      ],
      "metadata": {
        "colab": {
          "base_uri": "https://localhost:8080/"
        },
        "id": "8v02RSVlBISz",
        "outputId": "92a32957-4aac-4220-cfef-c0e17721a145"
      },
      "execution_count": 19,
      "outputs": [
        {
          "output_type": "execute_result",
          "data": {
            "text/plain": [
              "747"
            ]
          },
          "metadata": {},
          "execution_count": 19
        }
      ]
    },
    {
      "cell_type": "code",
      "source": [
        "label_counts = df['label'].value_counts()\n",
        "labels_to_keep = label_counts[label_counts >= 20].index\n",
        "new_df = df[df['label'].isin(labels_to_keep)]\n"
      ],
      "metadata": {
        "id": "seoFMKFXBLWq"
      },
      "execution_count": 20,
      "outputs": []
    },
    {
      "cell_type": "code",
      "source": [],
      "metadata": {
        "id": "sGJmV0_qEqse"
      },
      "execution_count": null,
      "outputs": []
    },
    {
      "cell_type": "code",
      "source": [
        "def map_label(label):\n",
        "    label_lower = label.lower()\n",
        "    if 'effusion' in label_lower:\n",
        "        return 'Others'\n",
        "    elif 'normal' in label_lower:\n",
        "        return 'Normal'\n",
        "    else:\n",
        "        return 'Others'\n",
        "\n",
        "new_df['mapped_label'] = new_df['label'].apply(map_label)\n",
        "print(new_df['mapped_label'].value_counts())\n"
      ],
      "metadata": {
        "colab": {
          "base_uri": "https://localhost:8080/"
        },
        "id": "nEqzTs6jBNoK",
        "outputId": "8a1f207c-9976-42c0-f6b0-b92782313141"
      },
      "execution_count": 21,
      "outputs": [
        {
          "output_type": "stream",
          "name": "stdout",
          "text": [
            "mapped_label\n",
            "Normal    2696\n",
            "Others    2396\n",
            "Name: count, dtype: int64\n"
          ]
        },
        {
          "output_type": "stream",
          "name": "stderr",
          "text": [
            "<ipython-input-21-985cb23da649>:10: SettingWithCopyWarning: \n",
            "A value is trying to be set on a copy of a slice from a DataFrame.\n",
            "Try using .loc[row_indexer,col_indexer] = value instead\n",
            "\n",
            "See the caveats in the documentation: https://pandas.pydata.org/pandas-docs/stable/user_guide/indexing.html#returning-a-view-versus-a-copy\n",
            "  new_df['mapped_label'] = new_df['label'].apply(map_label)\n"
          ]
        }
      ]
    },
    {
      "cell_type": "code",
      "source": [
        "df=new_df"
      ],
      "metadata": {
        "id": "DjZXXtlMBQXf"
      },
      "execution_count": 22,
      "outputs": []
    },
    {
      "cell_type": "code",
      "source": [
        "from sklearn.model_selection import train_test_split\n",
        "\n",
        "# Ensure all reports are strings\n",
        "df['report'] = df['report'].fillna(\"\").astype(str)\n",
        "\n",
        "# Shuffle and split\n",
        "train_df, temp_df = train_test_split(df, test_size=0.3, stratify=df['mapped_label'], random_state=42)\n",
        "val_df, test_df = train_test_split(temp_df, test_size=0.5, stratify=temp_df['mapped_label'], random_state=42)\n",
        "\n",
        "print(\"Train:\", train_df['mapped_label'].value_counts())\n",
        "print(\"Val:\", val_df['mapped_label'].value_counts())\n",
        "print(\"Test:\", test_df['mapped_label'].value_counts())\n"
      ],
      "metadata": {
        "colab": {
          "base_uri": "https://localhost:8080/"
        },
        "id": "uXY9NAJeBUy7",
        "outputId": "5123a585-d094-44df-d0dc-b287a13b082c"
      },
      "execution_count": 23,
      "outputs": [
        {
          "output_type": "stream",
          "name": "stdout",
          "text": [
            "Train: mapped_label\n",
            "Normal    1887\n",
            "Others    1677\n",
            "Name: count, dtype: int64\n",
            "Val: mapped_label\n",
            "Normal    404\n",
            "Others    360\n",
            "Name: count, dtype: int64\n",
            "Test: mapped_label\n",
            "Normal    405\n",
            "Others    359\n",
            "Name: count, dtype: int64\n"
          ]
        }
      ]
    },
    {
      "cell_type": "code",
      "source": [
        "from sklearn.utils.class_weight import compute_class_weight\n",
        "import numpy as np\n",
        "\n",
        "labels = np.array(sorted(df['mapped_label'].unique()))\n",
        "#creating mappings\n",
        "label2idx = {label: idx for idx, label in enumerate(labels)}  #label2index\n",
        "idx2label = {idx: label for label, idx in label2idx.items()}   #index2label\n",
        "num_classes = len(labels)\n",
        "\n",
        "class_weights = compute_class_weight(\n",
        "    class_weight='balanced',\n",
        "    classes=labels,\n",
        "    y=train_df['mapped_label']\n",
        ")\n",
        "weights = np.array(class_weights, dtype=np.float32)\n",
        "print(dict(zip(labels, class_weights)))\n"
      ],
      "metadata": {
        "colab": {
          "base_uri": "https://localhost:8080/"
        },
        "id": "DXG77pBIBW8T",
        "outputId": "8b77af44-f100-4c0f-eec3-d232d10ad80d"
      },
      "execution_count": 24,
      "outputs": [
        {
          "output_type": "stream",
          "name": "stdout",
          "text": [
            "{np.str_('Normal'): np.float64(0.9443561208267091), np.str_('Others'): np.float64(1.0626118067978534)}\n"
          ]
        }
      ]
    },
    {
      "cell_type": "code",
      "source": [],
      "metadata": {
        "id": "WEIIhxAAAX0g"
      },
      "execution_count": null,
      "outputs": []
    },
    {
      "cell_type": "code",
      "source": [],
      "metadata": {
        "id": "JiAG_N4mAaPs"
      },
      "execution_count": null,
      "outputs": []
    },
    {
      "cell_type": "code",
      "source": [],
      "metadata": {
        "id": "98vSclGh9Nmu"
      },
      "execution_count": null,
      "outputs": []
    },
    {
      "cell_type": "code",
      "source": [
        "import torch\n",
        "import torch.nn as nn\n",
        "import torch.nn.functional as F\n",
        "from torch.utils.data import Dataset, DataLoader, WeightedRandomSampler\n",
        "from torchvision import models, transforms\n",
        "from transformers import AutoTokenizer, AutoModel\n",
        "from PIL import Image\n",
        "from tqdm import tqdm\n",
        "import numpy as np\n",
        "from sklearn.metrics import classification_report, roc_auc_score, confusion_matrix\n",
        "device = torch.device(\"cuda\" if torch.cuda.is_available() else \"cpu\")\n",
        "print(f\"Using device: {device}\")"
      ],
      "metadata": {
        "id": "GRB2d_Kf9NjS",
        "colab": {
          "base_uri": "https://localhost:8080/"
        },
        "outputId": "b88fa464-f82d-43f2-825c-e44b59857a25"
      },
      "execution_count": 25,
      "outputs": [
        {
          "output_type": "stream",
          "name": "stdout",
          "text": [
            "Using device: cuda\n"
          ]
        }
      ]
    },
    {
      "cell_type": "code",
      "source": [
        "\n",
        "# Initialize the tokenizer\n",
        "tokenizer = AutoTokenizer.from_pretrained('emilyalsentzer/Bio_ClinicalBERT')\n",
        "print(\"Tokenizer initialized successfully\")\n",
        "class CrossAttentionFusion(nn.Module):\n",
        "    def __init__(self, img_dim, text_dim, num_heads=4):\n",
        "        super().__init__()\n",
        "        self.attention = nn.MultiheadAttention(embed_dim=text_dim,\n",
        "                                              num_heads=num_heads,\n",
        "                                              batch_first=True)\n",
        "        self.img_proj = nn.Linear(img_dim, text_dim)\n",
        "        self.norm1 = nn.LayerNorm(text_dim)\n",
        "        self.norm2 = nn.LayerNorm(text_dim)\n",
        "        self.ffn = nn.Sequential(\n",
        "            nn.Linear(text_dim, text_dim * 2),\n",
        "            nn.ReLU(),\n",
        "            nn.Linear(text_dim * 2, text_dim)\n",
        "        )\n",
        "\n",
        "    def forward(self, img_feat, text_feat):\n",
        "        # Project image features to text dimension\n",
        "        img_feat = self.img_proj(img_feat).unsqueeze(1)  # [B, 1, text_dim]\n",
        "        text_feat = text_feat.unsqueeze(1)  # [B, 1, text_dim]\n",
        "\n",
        "        # Cross-attention: text attends to image\n",
        "        attn_output, _ = self.attention(text_feat, img_feat, img_feat)\n",
        "        attn_output = self.norm1(attn_output + text_feat)\n",
        "\n",
        "        # FFN\n",
        "        output = self.ffn(attn_output)\n",
        "        output = self.norm2(output + attn_output)\n",
        "\n",
        "        return output.squeeze(1)  # [B, text_dim]\n",
        "\n",
        "class EnhancedMultimodalModel(nn.Module):\n",
        "    def __init__(self, num_classes, text_model_name='emilyalsentzer/Bio_ClinicalBERT',\n",
        "                 text_dim=768, img_dim=1024):\n",
        "        super().__init__()\n",
        "        # Image encoder\n",
        "        densenet = models.densenet121(pretrained=True)\n",
        "        self.img_encoder = nn.Sequential(*list(densenet.features.children()))\n",
        "        self.img_pool = nn.AdaptiveAvgPool2d((1, 1))\n",
        "        self.img_fc = nn.Linear(1024, img_dim)\n",
        "\n",
        "        # Text encoder\n",
        "        self.text_encoder = AutoModel.from_pretrained(text_model_name)\n",
        "        self.text_fc = nn.Linear(text_dim, text_dim)\n",
        "\n",
        "        # Cross-attention fusion\n",
        "        self.fusion = CrossAttentionFusion(img_dim, text_dim)\n",
        "\n",
        "        # Classifier with dropout for uncertainty\n",
        "        self.classifier = nn.Sequential(\n",
        "            nn.Linear(text_dim, 512),\n",
        "            nn.ReLU(),\n",
        "            nn.Dropout(0.5),\n",
        "            nn.Linear(512, 256),\n",
        "            nn.ReLU(),\n",
        "            nn.Dropout(0.3),\n",
        "            nn.Linear(256, num_classes)\n",
        "        )\n",
        "\n",
        "    def forward(self, image, input_ids, attention_mask):\n",
        "        # Image encoding\n",
        "        x_img = self.img_encoder(image)\n",
        "        x_img = self.img_pool(x_img).view(x_img.size(0), -1)\n",
        "        x_img = self.img_fc(x_img)\n",
        "\n",
        "        # Text encoding\n",
        "        outputs = self.text_encoder(input_ids=input_ids, attention_mask=attention_mask)\n",
        "        x_text = outputs.last_hidden_state[:, 0, :]  # [CLS] token\n",
        "        x_text = self.text_fc(x_text)\n",
        "\n",
        "        # Cross-attention fusion\n",
        "        fused = self.fusion(x_img, x_text)\n",
        "\n",
        "        # Classification\n",
        "        logits = self.classifier(fused)\n",
        "        return logits\n"
      ],
      "metadata": {
        "colab": {
          "base_uri": "https://localhost:8080/",
          "height": 222,
          "referenced_widgets": [
            "bfba9648b6a048be818c009d500d11aa",
            "06f191e298174bb3b0306616faec4953",
            "653efd07cbf3485881edeabb88732459",
            "4ef18926591e46e3858fbf46b7c7cf59",
            "1f341aa81463459c8ed7d37650563f80",
            "f8bf83568c054f32b00b76be84c4d614",
            "f69852e14b734a71be443366171d8e24",
            "c38e5dd334d646428384d22299555c9f",
            "0c1816727d344709850db7cdaf436229",
            "a9485b40d038401a8f3cf3529c3bf11c",
            "e3b136fdd87d4beea98515afe5efc22f",
            "39ff5bfccb9c4cbc9c77f5dae8226559",
            "3e93c39e7bd6419c93f289331c527a55",
            "b41199f069974fabbef2122dbe7475e5",
            "65922046bf6445ada82fa0df6586fd27",
            "4008900c9d114d5e927014633005b157",
            "e3856011928f47cfb135744b5fd8f5f6",
            "022d2a0c19d644f3808c6411a95608b8",
            "fbc1e31c75364a879e0d6d3b78ee15e8",
            "00eb8ac8535543fd9fcc17f0f138974e",
            "fdf148ee183443bba65028eb0bc06b37",
            "99345e898f704ab6a835724ee5908b32"
          ]
        },
        "id": "o2SZ6g8xUgnV",
        "outputId": "944bd358-559c-470c-8439-e5db2bba6fbd"
      },
      "execution_count": 26,
      "outputs": [
        {
          "output_type": "stream",
          "name": "stderr",
          "text": [
            "/usr/local/lib/python3.11/dist-packages/huggingface_hub/utils/_auth.py:94: UserWarning: \n",
            "The secret `HF_TOKEN` does not exist in your Colab secrets.\n",
            "To authenticate with the Hugging Face Hub, create a token in your settings tab (https://huggingface.co/settings/tokens), set it as secret in your Google Colab and restart your session.\n",
            "You will be able to reuse this secret in all of your notebooks.\n",
            "Please note that authentication is recommended but still optional to access public models or datasets.\n",
            "  warnings.warn(\n"
          ]
        },
        {
          "output_type": "display_data",
          "data": {
            "text/plain": [
              "config.json:   0%|          | 0.00/385 [00:00<?, ?B/s]"
            ],
            "application/vnd.jupyter.widget-view+json": {
              "version_major": 2,
              "version_minor": 0,
              "model_id": "bfba9648b6a048be818c009d500d11aa"
            }
          },
          "metadata": {}
        },
        {
          "output_type": "display_data",
          "data": {
            "text/plain": [
              "vocab.txt:   0%|          | 0.00/213k [00:00<?, ?B/s]"
            ],
            "application/vnd.jupyter.widget-view+json": {
              "version_major": 2,
              "version_minor": 0,
              "model_id": "39ff5bfccb9c4cbc9c77f5dae8226559"
            }
          },
          "metadata": {}
        },
        {
          "output_type": "stream",
          "name": "stdout",
          "text": [
            "Tokenizer initialized successfully\n"
          ]
        }
      ]
    },
    {
      "cell_type": "code",
      "source": [
        "\n",
        "\n",
        "# Data augmentation\n",
        "train_transform = transforms.Compose([\n",
        "    transforms.Resize((256, 256)),\n",
        "    transforms.RandomResizedCrop(224, scale=(0.9, 1.0)),\n",
        "    transforms.RandomAffine(degrees=5, translate=(0.05, 0.05), scale=(0.95, 1.05)),\n",
        "    transforms.RandomHorizontalFlip(),\n",
        "    transforms.ColorJitter(brightness=0.1, contrast=0.1),\n",
        "    transforms.ToTensor(),\n",
        "    transforms.Normalize([0.485, 0.456, 0.406], [0.229, 0.224, 0.225])\n",
        "])\n",
        "\n",
        "# Validation/test transform (no augmentation)\n",
        "eval_transform = transforms.Compose([\n",
        "    transforms.Resize((224, 224)),\n",
        "    transforms.ToTensor(),\n",
        "    transforms.Normalize([0.485, 0.456, 0.406], [0.229, 0.224, 0.225])\n",
        "])\n",
        "\n",
        "# Dataset with augmentation flag\n",
        "class EnhancedIndianaCXRDataset(Dataset):\n",
        "    def __init__(self, dataframe, tokenizer, transform=None, max_length=128, is_training=False):\n",
        "        self.dataframe = dataframe.reset_index(drop=True)\n",
        "        self.transform = transform\n",
        "        self.tokenizer = tokenizer\n",
        "        self.max_length = max_length\n",
        "        self.is_training = is_training\n",
        "\n",
        "    def __len__(self):\n",
        "        return len(self.dataframe)\n",
        "\n",
        "    def __getitem__(self, idx):\n",
        "        row = self.dataframe.iloc[idx]\n",
        "        # Image\n",
        "        image = Image.open(row['image_path']).convert('RGB')\n",
        "        if self.transform:\n",
        "            image = self.transform(image)\n",
        "\n",
        "        # Text\n",
        "        report = row['report']\n",
        "        if not isinstance(report, str):\n",
        "            report = \"\"\n",
        "\n",
        "        encoding = self.tokenizer(\n",
        "            report,\n",
        "            padding='max_length',\n",
        "            truncation=True,\n",
        "            max_length=self.max_length,\n",
        "            return_tensors='pt'\n",
        "        )\n",
        "        input_ids = encoding['input_ids'].squeeze(0)\n",
        "        attention_mask = encoding['attention_mask'].squeeze(0)\n",
        "        label = label2idx[row['mapped_label']]\n",
        "        return image, input_ids, attention_mask, label\n",
        ""
      ],
      "metadata": {
        "id": "HamVU-zuYKG-"
      },
      "execution_count": 27,
      "outputs": []
    },
    {
      "cell_type": "code",
      "source": [
        "\n",
        "# Focal Loss implementation\n",
        "class FocalLoss(nn.Module):\n",
        "    def __init__(self, weight=None, gamma=2.0, reduction='mean'):\n",
        "        super(FocalLoss, self).__init__()\n",
        "        self.weight = weight\n",
        "        self.gamma = gamma\n",
        "        self.reduction = reduction\n",
        "\n",
        "    def forward(self, input, target):\n",
        "        ce_loss = F.cross_entropy(input, target, weight=self.weight, reduction='none')\n",
        "        pt = torch.exp(-ce_loss)\n",
        "        focal_loss = ((1 - pt) ** self.gamma) * ce_loss\n",
        "\n",
        "        if self.reduction == 'mean':\n",
        "            return focal_loss.mean()\n",
        "        elif self.reduction == 'sum':\n",
        "            return focal_loss.sum()\n",
        "        else:\n",
        "            return focal_loss\n",
        "\n",
        "# Mixup function\n",
        "def mixup_data(x, y, alpha=1.0):\n",
        "    '''Returns mixed inputs, pairs of targets, and lambda'''\n",
        "    if alpha > 0:\n",
        "        lam = np.random.beta(alpha, alpha)\n",
        "    else:\n",
        "        lam = 1\n",
        "\n",
        "    batch_size = x.size()[0]\n",
        "    index = torch.randperm(batch_size).to(x.device)\n",
        "\n",
        "    mixed_x = lam * x + (1 - lam) * x[index, :]\n",
        "    y_a, y_b = y, y[index]\n",
        "    return mixed_x, y_a, y_b, lam\n",
        "\n",
        "def mixup_criterion(criterion, pred, y_a, y_b, lam):\n",
        "    return lam * criterion(pred, y_a) + (1 - lam) * criterion(pred, y_b)\n",
        "\n",
        "\n",
        "\n",
        "\n",
        "\n",
        "\n",
        "# Training function with all improvements\n",
        "def train_improved_model(train_df, val_df, test_df, num_epochs=20, use_mixup=True):\n",
        "    # Create datasets\n",
        "    train_dataset = EnhancedIndianaCXRDataset(train_df, tokenizer, train_transform, is_training=True)\n",
        "    val_dataset = EnhancedIndianaCXRDataset(val_df, tokenizer, eval_transform)\n",
        "    test_dataset = EnhancedIndianaCXRDataset(test_df, tokenizer, eval_transform)\n",
        "\n",
        "\n",
        "\n",
        "    # Calculate sample weights for weighted sampler\n",
        "    class_sample_count = np.array([len(train_df[train_df['mapped_label'] == label])\n",
        "                                  for label in sorted(train_df['mapped_label'].unique())])\n",
        "    weight = 1. / class_sample_count\n",
        "    samples_weight = np.array([weight[label2idx[t]] for t in train_df['mapped_label']])\n",
        "    samples_weight = torch.from_numpy(samples_weight).float()\n",
        "    sampler = WeightedRandomSampler(samples_weight, len(samples_weight), replacement=True)\n",
        "\n",
        "\n",
        "\n",
        "    # DataLoaders\n",
        "    train_loader = DataLoader(\n",
        "        train_dataset,\n",
        "        batch_size=8,\n",
        "        sampler=sampler,\n",
        "        num_workers=2,\n",
        "        pin_memory=True\n",
        "    )\n",
        "    val_loader = DataLoader(val_dataset, batch_size=16, shuffle=False, num_workers=2, pin_memory=True)\n",
        "    test_loader = DataLoader(test_dataset, batch_size=16, shuffle=False, num_workers=2, pin_memory=True)\n",
        "\n",
        "    # Initialize model\n",
        "    model = EnhancedMultimodalModel(num_classes=len(label2idx)).to(device)\n",
        "\n",
        "    # Optimizer and scheduler\n",
        "    optimizer = torch.optim.AdamW(model.parameters(), lr=2e-4, weight_decay=0.01)\n",
        "    scheduler = torch.optim.lr_scheduler.ReduceLROnPlateau(\n",
        "        optimizer, mode='min', factor=0.5, patience=2, verbose=True\n",
        "    )\n",
        "\n",
        "    # Loss function\n",
        "    class_weights = torch.tensor(weights).float().to(device)\n",
        "    criterion = FocalLoss(weight=class_weights, gamma=2.0)\n",
        "\n",
        "    # Training variables\n",
        "    best_val_loss = float('inf')\n",
        "    best_val_auc = 0.0\n",
        "    best_epoch = 0\n",
        "    patience = 5\n",
        "    patience_counter = 0\n",
        "    accumulation_steps = 4\n",
        "    warmup_steps = 100\n",
        "    global_step = 0\n",
        "    target_names = list(idx2label.values())\n",
        "\n",
        "    # Initially freeze backbone\n",
        "    for param in model.img_encoder.parameters():\n",
        "        param.requires_grad = False\n",
        "    for param in model.text_encoder.parameters():\n",
        "        param.requires_grad = False\n",
        "\n",
        "    for epoch in range(num_epochs):\n",
        "        print(f\"\\nEpoch {epoch+1}/{num_epochs}\")\n",
        "\n",
        "        # Unfreeze backbone after 2 epochs\n",
        "        if epoch == 2:\n",
        "            for param in model.img_encoder.parameters():\n",
        "                param.requires_grad = True\n",
        "            for param in model.text_encoder.parameters():\n",
        "                param.requires_grad = True\n",
        "            print(\"Unfreezing backbone networks\")\n",
        "\n",
        "        # Training\n",
        "        model.train()\n",
        "        train_loss = 0\n",
        "        all_train_labels = []\n",
        "        all_train_preds = []\n",
        "\n",
        "        optimizer.zero_grad()\n",
        "        for i, (images, input_ids, attention_mask, labels) in enumerate(tqdm(train_loader)):\n",
        "            # Apply warmup\n",
        "            if global_step < warmup_steps:\n",
        "                lr_multiplier = float(global_step) / float(max(1, warmup_steps))\n",
        "                for param_group in optimizer.param_groups:\n",
        "                    param_group['lr'] = 2e-4 * lr_multiplier\n",
        "\n",
        "            images = images.to(device)\n",
        "            input_ids = input_ids.to(device)\n",
        "            attention_mask = attention_mask.to(device)\n",
        "            labels = labels.to(device)\n",
        "\n",
        "            # Apply mixup\n",
        "            if use_mixup and epoch > 2:  # Apply mixup after initial training\n",
        "                images_mixed, labels_a, labels_b, lam = mixup_data(images, labels, alpha=0.2)\n",
        "                logits = model(images_mixed, input_ids, attention_mask)\n",
        "                loss = mixup_criterion(criterion, logits, labels_a, labels_b, lam)\n",
        "                preds = torch.argmax(logits, dim=1)\n",
        "            else:\n",
        "                logits = model(images, input_ids, attention_mask)\n",
        "                loss = criterion(logits, labels)\n",
        "                preds = torch.argmax(logits, dim=1)\n",
        "\n",
        "            # Gradient accumulation\n",
        "            loss = loss / accumulation_steps\n",
        "            loss.backward()\n",
        "\n",
        "            if (i + 1) % accumulation_steps == 0:\n",
        "                optimizer.step()\n",
        "                optimizer.zero_grad()\n",
        "\n",
        "            train_loss += loss.item() * accumulation_steps * images.size(0)\n",
        "            all_train_labels.extend(labels.cpu().numpy())\n",
        "            all_train_preds.extend(preds.cpu().numpy())\n",
        "            global_step += 1\n",
        "\n",
        "        # If there are remaining gradients to update\n",
        "        if (i + 1) % accumulation_steps != 0:\n",
        "            optimizer.step()\n",
        "            optimizer.zero_grad()\n",
        "\n",
        "        train_loss /= len(train_loader.dataset)\n",
        "        print(f\"Train loss: {train_loss:.4f}\")\n",
        "        print(\"Train classification report:\")\n",
        "        print(classification_report(all_train_labels, all_train_preds,\n",
        "                                   target_names=target_names, zero_division=0))\n",
        "\n",
        "        # Validation\n",
        "        model.eval()\n",
        "        val_loss = 0\n",
        "        all_val_labels = []\n",
        "        all_val_preds = []\n",
        "        all_val_probs = []\n",
        "\n",
        "        with torch.no_grad():\n",
        "            for images, input_ids, attention_mask, labels in tqdm(val_loader):\n",
        "                images = images.to(device)\n",
        "                input_ids = input_ids.to(device)\n",
        "                attention_mask = attention_mask.to(device)\n",
        "                labels = labels.to(device)\n",
        "\n",
        "                logits = model(images, input_ids, attention_mask)\n",
        "                loss = criterion(logits, labels)\n",
        "                val_loss += loss.item() * images.size(0)\n",
        "\n",
        "                probs = torch.softmax(logits, dim=1)\n",
        "                preds = torch.argmax(probs, dim=1)\n",
        "\n",
        "                all_val_labels.extend(labels.cpu().numpy())\n",
        "                all_val_preds.extend(preds.cpu().numpy())\n",
        "                all_val_probs.extend(probs.cpu().numpy())\n",
        "\n",
        "        val_loss /= len(val_loader.dataset)\n",
        "        print(f\"Val loss: {val_loss:.4f}\")\n",
        "        print(\"Val classification report:\")\n",
        "        val_report = classification_report(all_val_labels, all_val_preds,\n",
        "                                         target_names=target_names, zero_division=0)\n",
        "        print(val_report)\n",
        "\n",
        "        # Calculate validation AUC\n",
        "        all_val_labels_np = np.array(all_val_labels)\n",
        "        all_val_probs_np = np.array(all_val_probs)\n",
        "        val_aucs = []\n",
        "\n",
        "        for i, label in enumerate(target_names):\n",
        "            try:\n",
        "                auc = roc_auc_score((all_val_labels_np == i).astype(int), all_val_probs_np[:, i])\n",
        "                val_aucs.append(auc)\n",
        "                print(f\"Val ROC AUC for {label}: {auc:.4f}\")\n",
        "            except:\n",
        "                print(f\"Val ROC AUC for {label}: N/A (not enough samples)\")\n",
        "                val_aucs.append(0.0)\n",
        "\n",
        "        mean_val_auc = np.mean(val_aucs)\n",
        "        print(f\"Mean Val ROC AUC: {mean_val_auc:.4f}\")\n",
        "\n",
        "        # Update learning rate scheduler\n",
        "        scheduler.step(val_loss)\n",
        "\n",
        "        # Save best model (using AUC as metric)\n",
        "        if mean_val_auc > best_val_auc:\n",
        "            best_val_auc = mean_val_auc\n",
        "            best_val_loss = val_loss\n",
        "            best_epoch = epoch + 1\n",
        "            patience_counter = 0\n",
        "            torch.save(model.state_dict(), 'best_enhanced_multimodal_model.pt')\n",
        "            print(f\"Saved best model with AUC: {best_val_auc:.4f}\")\n",
        "        else:\n",
        "            patience_counter += 1\n",
        "\n",
        "        # Early stopping\n",
        "        if patience_counter >= patience:\n",
        "            print(f\"Early stopping triggered after {epoch+1} epochs\")\n",
        "            break\n",
        "\n",
        "    print(f\"Training complete. Best model from epoch {best_epoch} with validation AUC: {best_val_auc:.4f}\")\n",
        "\n",
        "    # Load best model for testing\n",
        "    model.load_state_dict(torch.load('best_enhanced_multimodal_model.pt'))\n",
        "\n",
        "    # Evaluate on test set\n",
        "    model.eval()\n",
        "    test_loss = 0\n",
        "    all_test_labels = []\n",
        "    all_test_preds = []\n",
        "    all_test_probs = []\n",
        "\n",
        "    with torch.no_grad():\n",
        "        for images, input_ids, attention_mask, labels in tqdm(test_loader):\n",
        "            images = images.to(device)\n",
        "            input_ids = input_ids.to(device)\n",
        "            attention_mask = attention_mask.to(device)\n",
        "            labels = labels.to(device)\n",
        "\n",
        "            logits = model(images, input_ids, attention_mask)\n",
        "            loss = criterion(logits, labels)\n",
        "            test_loss += loss.item() * images.size(0)\n",
        "\n",
        "            probs = torch.softmax(logits, dim=1)\n",
        "            preds = torch.argmax(probs, dim=1)\n",
        "\n",
        "            all_test_labels.extend(labels.cpu().numpy())\n",
        "            all_test_preds.extend(preds.cpu().numpy())\n",
        "            all_test_probs.extend(probs.cpu().numpy())\n",
        "\n",
        "    test_loss /= len(test_loader.dataset)\n",
        "    print(f\"Test loss: {test_loss:.4f}\")\n",
        "    print(\"Test classification report:\")\n",
        "    test_report = classification_report(all_test_labels, all_test_preds,\n",
        "                                     target_names=target_names, zero_division=0, output_dict=True)\n",
        "    print(classification_report(all_test_labels, all_test_preds,\n",
        "                               target_names=target_names, zero_division=0))\n",
        "\n",
        "    # Calculate test AUC\n",
        "    all_test_labels_np = np.array(all_test_labels)\n",
        "    all_test_probs_np = np.array(all_test_probs)\n",
        "\n",
        "    print(\"\\nROC AUC Scores:\")\n",
        "    for i, label in enumerate(target_names):\n",
        "        try:\n",
        "            auc = roc_auc_score((all_test_labels_np == i).astype(int), all_test_probs_np[:, i])\n",
        "            print(f\"Test ROC AUC for {label}: {auc:.4f}\")\n",
        "        except:\n",
        "            print(f\"Test ROC AUC for {label}: N/A (not enough samples)\")\n",
        "\n",
        "    # Calculate and plot confusion matrix\n",
        "    cm = confusion_matrix(all_test_labels, all_test_preds)\n",
        "    print(\"\\nConfusion Matrix:\")\n",
        "    print(cm)\n",
        "\n",
        "    # Calculate uncertainty on test set using MC Dropout\n",
        "    def enable_dropout(m):\n",
        "        for module in m.modules():\n",
        "            if module.__class__.__name__.startswith('Dropout'):\n",
        "                module.train()\n",
        "\n",
        "    model.eval()\n",
        "    enable_dropout(model)\n",
        "\n",
        "    print(\"\\nCalculating uncertainty using MC Dropout...\")\n",
        "    uncertain_samples = []\n",
        "    correct_predictions = []\n",
        "\n",
        "    with torch.no_grad():\n",
        "        for i, (images, input_ids, attention_mask, labels) in enumerate(tqdm(test_loader)):\n",
        "            images = images.to(device)\n",
        "            input_ids = input_ids.to(device)\n",
        "            attention_mask = attention_mask.to(device)\n",
        "            labels = labels.to(device)\n",
        "\n",
        "            # Perform multiple forward passes\n",
        "            mc_samples = 10\n",
        "            mc_probs = []\n",
        "\n",
        "            for _ in range(mc_samples):\n",
        "                logits = model(images, input_ids, attention_mask)\n",
        "                probs = torch.softmax(logits, dim=1)\n",
        "                mc_probs.append(probs.unsqueeze(0))\n",
        "\n",
        "            # Stack probabilities from multiple passes\n",
        "            mc_probs = torch.cat(mc_probs, dim=0)  # [T, B, C]\n",
        "\n",
        "            # Calculate mean probability and uncertainty\n",
        "            mean_probs = mc_probs.mean(dim=0)\n",
        "            entropy = -torch.sum(mean_probs * torch.log(mean_probs + 1e-10), dim=1)\n",
        "            uncertainty = entropy.cpu().numpy()\n",
        "\n",
        "            pred_labels = torch.argmax(mean_probs, dim=1)\n",
        "\n",
        "            # Track correct predictions and their uncertainty\n",
        "            correct = (pred_labels == labels).cpu().numpy()\n",
        "            correct_predictions.extend(correct)\n",
        "            uncertain_samples.extend(uncertainty)\n",
        "\n",
        "    # Convert to numpy arrays\n",
        "    correct_predictions = np.array(correct_predictions)\n",
        "    uncertain_samples = np.array(uncertain_samples)\n",
        "\n",
        "    # Calculate percentage of high uncertainty samples that were misclassified\n",
        "    uncertainty_threshold = np.percentile(uncertain_samples, 75)\n",
        "    high_uncertainty = uncertain_samples > uncertainty_threshold\n",
        "\n",
        "    misclassified_high_uncertainty = np.logical_and(~correct_predictions, high_uncertainty)\n",
        "    print(f\"Percentage of misclassified samples among high uncertainty samples: \"\n",
        "          f\"{100 * np.sum(misclassified_high_uncertainty) / np.sum(high_uncertainty):.2f}%\")\n",
        "\n",
        "    # Calculate percentage of correctly classified samples with low uncertainty\n",
        "    low_uncertainty = uncertain_samples <= uncertainty_threshold\n",
        "    correct_low_uncertainty = np.logical_and(correct_predictions, low_uncertainty)\n",
        "    print(f\"Percentage of correctly classified samples among low uncertainty samples: \"\n",
        "          f\"{100 * np.sum(correct_low_uncertainty) / np.sum(low_uncertainty):.2f}%\")\n",
        "\n",
        "    return model, test_report\n",
        "\n",
        "# Call the training function\n",
        "improved_model, test_results = train_improved_model(train_df, val_df, test_df, num_epochs=25)"
      ],
      "metadata": {
        "colab": {
          "base_uri": "https://localhost:8080/",
          "height": 1000,
          "referenced_widgets": [
            "2b0718146f23403e8a1925c005c1852d",
            "3625144ac0474e12a28a6a75d838c806",
            "8f27eeb33a0049d2b018dab4b0c3e5fe",
            "06bf000e53b9419cab99cf5f18ca1949",
            "fecb80ee72e847dea229006505e65998",
            "ef95079e00ae4885b8cdda82c84ee220",
            "23ee0dcacedc4f84bf6daf8cace35f6d",
            "dd6b96cc64ea4c729d7bcb468ce9de5f",
            "d34324f7c5264df7ae9340ab35483759",
            "b8c92d6e633344e38a100609ffb49afd",
            "a77956a8696241f4993f0f7a3e8902b6",
            "ef35dca695394ef59cfb9af1d77effb8",
            "f2c70fe8221f493e9aa12f99d583cb80",
            "ab30b7cd23574bfb9314c5da71b2a1b7",
            "e9c08075eb174ff995dad0a87e5092b5",
            "36ed887ec1544749be033ccd7a8c3d6e",
            "e477d1341abf46cf8b4db90d2968462b",
            "0eb5c8ecf46148829840c2c402fe269c",
            "008e18ea7e364481a5291edc47aadd51",
            "ff30247d4e4e40559e744bf02dd669b1",
            "034ffba8bac840cbbe0886c8f0fb6daf",
            "f09c09989fe74b68899d1da4743967d3"
          ]
        },
        "id": "xNUAQGoVHwy4",
        "outputId": "6a628e68-f303-4cec-ad19-ba0be4db7909"
      },
      "execution_count": 30,
      "outputs": [
        {
          "output_type": "stream",
          "name": "stderr",
          "text": [
            "/usr/local/lib/python3.11/dist-packages/torchvision/models/_utils.py:208: UserWarning: The parameter 'pretrained' is deprecated since 0.13 and may be removed in the future, please use 'weights' instead.\n",
            "  warnings.warn(\n",
            "/usr/local/lib/python3.11/dist-packages/torchvision/models/_utils.py:223: UserWarning: Arguments other than a weight enum or `None` for 'weights' are deprecated since 0.13 and may be removed in the future. The current behavior is equivalent to passing `weights=DenseNet121_Weights.IMAGENET1K_V1`. You can also use `weights=DenseNet121_Weights.DEFAULT` to get the most up-to-date weights.\n",
            "  warnings.warn(msg)\n",
            "Downloading: \"https://download.pytorch.org/models/densenet121-a639ec97.pth\" to /root/.cache/torch/hub/checkpoints/densenet121-a639ec97.pth\n",
            "100%|██████████| 30.8M/30.8M [00:00<00:00, 80.5MB/s]\n"
          ]
        },
        {
          "output_type": "display_data",
          "data": {
            "text/plain": [
              "pytorch_model.bin:   0%|          | 0.00/436M [00:00<?, ?B/s]"
            ],
            "application/vnd.jupyter.widget-view+json": {
              "version_major": 2,
              "version_minor": 0,
              "model_id": "2b0718146f23403e8a1925c005c1852d"
            }
          },
          "metadata": {}
        },
        {
          "output_type": "display_data",
          "data": {
            "text/plain": [
              "model.safetensors:   0%|          | 0.00/436M [00:00<?, ?B/s]"
            ],
            "application/vnd.jupyter.widget-view+json": {
              "version_major": 2,
              "version_minor": 0,
              "model_id": "ef35dca695394ef59cfb9af1d77effb8"
            }
          },
          "metadata": {}
        },
        {
          "output_type": "stream",
          "name": "stdout",
          "text": [
            "\n",
            "Epoch 1/25\n"
          ]
        },
        {
          "output_type": "stream",
          "name": "stderr",
          "text": [
            "\n",
            "  0%|          | 0/446 [00:00<?, ?it/s]\u001b[A\n",
            "  0%|          | 1/446 [00:02<21:46,  2.94s/it]\u001b[A\n",
            "  1%|          | 4/446 [00:03<04:39,  1.58it/s]\u001b[A\n",
            "  2%|▏         | 7/446 [00:03<02:19,  3.15it/s]\u001b[A\n",
            "  2%|▏         | 10/446 [00:03<01:26,  5.03it/s]\u001b[A\n",
            "  3%|▎         | 13/446 [00:03<01:00,  7.15it/s]\u001b[A\n",
            "  4%|▎         | 16/446 [00:03<00:45,  9.44it/s]\u001b[A\n",
            "  4%|▍         | 19/446 [00:03<00:36, 11.81it/s]\u001b[A\n",
            "  5%|▍         | 22/446 [00:04<00:30, 14.05it/s]\u001b[A\n",
            "  6%|▌         | 25/446 [00:04<00:26, 15.78it/s]\u001b[A\n",
            "  6%|▋         | 28/446 [00:04<00:23, 17.55it/s]\u001b[A\n",
            "  7%|▋         | 31/446 [00:04<00:21, 18.98it/s]\u001b[A\n",
            "  8%|▊         | 34/446 [00:04<00:21, 19.48it/s]\u001b[A\n",
            "  8%|▊         | 37/446 [00:04<00:20, 19.87it/s]\u001b[A\n",
            "  9%|▉         | 40/446 [00:04<00:19, 20.51it/s]\u001b[A\n",
            " 10%|▉         | 43/446 [00:04<00:19, 20.44it/s]\u001b[A\n",
            " 10%|█         | 46/446 [00:05<00:18, 21.32it/s]\u001b[A\n",
            " 11%|█         | 49/446 [00:05<00:18, 21.78it/s]\u001b[A\n",
            " 12%|█▏        | 52/446 [00:05<00:17, 22.01it/s]\u001b[A\n",
            " 12%|█▏        | 55/446 [00:05<00:17, 22.52it/s]\u001b[A\n",
            " 13%|█▎        | 58/446 [00:05<00:16, 22.92it/s]\u001b[A\n",
            " 14%|█▎        | 61/446 [00:05<00:16, 23.12it/s]\u001b[A\n",
            " 14%|█▍        | 64/446 [00:05<00:16, 23.21it/s]\u001b[A\n",
            " 15%|█▌        | 67/446 [00:06<00:16, 23.52it/s]\u001b[A\n",
            " 16%|█▌        | 70/446 [00:06<00:15, 23.54it/s]\u001b[A\n",
            " 16%|█▋        | 73/446 [00:06<00:15, 23.61it/s]\u001b[A\n",
            " 17%|█▋        | 76/446 [00:06<00:15, 23.48it/s]\u001b[A\n",
            " 18%|█▊        | 79/446 [00:06<00:15, 23.54it/s]\u001b[A\n",
            " 18%|█▊        | 82/446 [00:06<00:15, 23.60it/s]\u001b[A\n",
            " 19%|█▉        | 85/446 [00:06<00:15, 23.76it/s]\u001b[A\n",
            " 20%|█▉        | 88/446 [00:06<00:15, 23.64it/s]\u001b[A\n",
            " 20%|██        | 91/446 [00:07<00:14, 23.76it/s]\u001b[A\n",
            " 21%|██        | 94/446 [00:07<00:14, 23.75it/s]\u001b[A\n",
            " 22%|██▏       | 97/446 [00:07<00:14, 23.59it/s]\u001b[A\n",
            " 22%|██▏       | 100/446 [00:07<00:15, 22.66it/s]\u001b[A\n",
            " 23%|██▎       | 103/446 [00:07<00:15, 22.14it/s]\u001b[A\n",
            " 24%|██▍       | 106/446 [00:07<00:15, 22.00it/s]\u001b[A\n",
            " 24%|██▍       | 109/446 [00:07<00:15, 21.70it/s]\u001b[A\n",
            " 25%|██▌       | 112/446 [00:07<00:15, 22.15it/s]\u001b[A\n",
            " 26%|██▌       | 115/446 [00:08<00:14, 22.75it/s]\u001b[A\n",
            " 26%|██▋       | 118/446 [00:08<00:14, 22.96it/s]\u001b[A\n",
            " 27%|██▋       | 121/446 [00:08<00:14, 23.15it/s]\u001b[A\n",
            " 28%|██▊       | 124/446 [00:08<00:13, 23.21it/s]\u001b[A\n",
            " 28%|██▊       | 127/446 [00:08<00:13, 23.51it/s]\u001b[A\n",
            " 29%|██▉       | 130/446 [00:08<00:13, 23.12it/s]\u001b[A\n",
            " 30%|██▉       | 133/446 [00:08<00:13, 23.29it/s]\u001b[A\n",
            " 30%|███       | 136/446 [00:08<00:13, 23.43it/s]\u001b[A\n",
            " 31%|███       | 139/446 [00:09<00:13, 22.94it/s]\u001b[A\n",
            " 32%|███▏      | 142/446 [00:09<00:13, 23.30it/s]\u001b[A\n",
            " 33%|███▎      | 145/446 [00:09<00:12, 23.28it/s]\u001b[A\n",
            " 33%|███▎      | 148/446 [00:09<00:12, 23.57it/s]\u001b[A\n",
            " 34%|███▍      | 151/446 [00:09<00:12, 23.84it/s]\u001b[A\n",
            " 35%|███▍      | 154/446 [00:09<00:12, 23.75it/s]\u001b[A\n",
            " 35%|███▌      | 157/446 [00:09<00:12, 23.69it/s]\u001b[A\n",
            " 36%|███▌      | 160/446 [00:10<00:12, 23.13it/s]\u001b[A\n",
            " 37%|███▋      | 163/446 [00:10<00:12, 23.24it/s]\u001b[A\n",
            " 37%|███▋      | 166/446 [00:10<00:11, 23.43it/s]\u001b[A\n",
            " 38%|███▊      | 169/446 [00:10<00:11, 23.40it/s]\u001b[A\n",
            " 39%|███▊      | 172/446 [00:10<00:11, 23.77it/s]\u001b[A\n",
            " 39%|███▉      | 175/446 [00:10<00:11, 23.95it/s]\u001b[A\n",
            " 40%|███▉      | 178/446 [00:10<00:11, 24.10it/s]\u001b[A\n",
            " 41%|████      | 181/446 [00:10<00:10, 24.14it/s]\u001b[A\n",
            " 41%|████▏     | 184/446 [00:11<00:10, 24.03it/s]\u001b[A\n",
            " 42%|████▏     | 187/446 [00:11<00:10, 24.03it/s]\u001b[A\n",
            " 43%|████▎     | 190/446 [00:11<00:10, 23.97it/s]\u001b[A\n",
            " 43%|████▎     | 193/446 [00:11<00:10, 23.86it/s]\u001b[A\n",
            " 44%|████▍     | 196/446 [00:11<00:10, 23.75it/s]\u001b[A\n",
            " 45%|████▍     | 199/446 [00:11<00:10, 23.76it/s]\u001b[A\n",
            " 45%|████▌     | 202/446 [00:11<00:10, 23.71it/s]\u001b[A\n",
            " 46%|████▌     | 205/446 [00:11<00:10, 23.67it/s]\u001b[A\n",
            " 47%|████▋     | 208/446 [00:12<00:10, 23.58it/s]\u001b[A\n",
            " 47%|████▋     | 211/446 [00:12<00:10, 23.50it/s]\u001b[A\n",
            " 48%|████▊     | 214/446 [00:12<00:09, 23.42it/s]\u001b[A\n",
            " 49%|████▊     | 217/446 [00:12<00:09, 23.35it/s]\u001b[A\n",
            " 49%|████▉     | 220/446 [00:12<00:09, 23.34it/s]\u001b[A\n",
            " 50%|█████     | 223/446 [00:12<00:09, 23.50it/s]\u001b[A\n",
            " 51%|█████     | 226/446 [00:12<00:09, 22.94it/s]\u001b[A\n",
            " 51%|█████▏    | 229/446 [00:12<00:09, 23.24it/s]\u001b[A\n",
            " 52%|█████▏    | 232/446 [00:13<00:09, 22.68it/s]\u001b[A\n",
            " 53%|█████▎    | 235/446 [00:13<00:09, 23.05it/s]\u001b[A\n",
            " 53%|█████▎    | 238/446 [00:13<00:08, 23.13it/s]\u001b[A\n",
            " 54%|█████▍    | 241/446 [00:13<00:08, 23.35it/s]\u001b[A\n",
            " 55%|█████▍    | 244/446 [00:13<00:08, 23.51it/s]\u001b[A\n",
            " 55%|█████▌    | 247/446 [00:13<00:08, 23.63it/s]\u001b[A\n",
            " 56%|█████▌    | 250/446 [00:13<00:08, 23.75it/s]\u001b[A\n",
            " 57%|█████▋    | 253/446 [00:13<00:08, 23.58it/s]\u001b[A\n",
            " 57%|█████▋    | 256/446 [00:14<00:08, 23.64it/s]\u001b[A\n",
            " 58%|█████▊    | 259/446 [00:14<00:07, 23.83it/s]\u001b[A\n",
            " 59%|█████▊    | 262/446 [00:14<00:07, 23.94it/s]\u001b[A\n",
            " 59%|█████▉    | 265/446 [00:14<00:07, 24.06it/s]\u001b[A\n",
            " 60%|██████    | 268/446 [00:14<00:07, 24.26it/s]\u001b[A\n",
            " 61%|██████    | 271/446 [00:14<00:07, 23.73it/s]\u001b[A\n",
            " 61%|██████▏   | 274/446 [00:14<00:07, 23.14it/s]\u001b[A\n",
            " 62%|██████▏   | 277/446 [00:14<00:07, 23.18it/s]\u001b[A\n",
            " 63%|██████▎   | 280/446 [00:15<00:07, 23.29it/s]\u001b[A\n",
            " 63%|██████▎   | 283/446 [00:15<00:06, 23.36it/s]\u001b[A\n",
            " 64%|██████▍   | 286/446 [00:15<00:06, 23.52it/s]\u001b[A\n",
            " 65%|██████▍   | 289/446 [00:15<00:06, 23.03it/s]\u001b[A\n",
            " 65%|██████▌   | 292/446 [00:15<00:06, 22.90it/s]\u001b[A\n",
            " 66%|██████▌   | 295/446 [00:15<00:06, 22.79it/s]\u001b[A\n",
            " 67%|██████▋   | 298/446 [00:15<00:06, 22.98it/s]\u001b[A\n",
            " 67%|██████▋   | 301/446 [00:16<00:06, 22.95it/s]\u001b[A\n",
            " 68%|██████▊   | 304/446 [00:16<00:06, 23.17it/s]\u001b[A\n",
            " 69%|██████▉   | 307/446 [00:16<00:05, 23.46it/s]\u001b[A\n",
            " 70%|██████▉   | 310/446 [00:16<00:05, 23.13it/s]\u001b[A\n",
            " 70%|███████   | 313/446 [00:16<00:05, 22.81it/s]\u001b[A\n",
            " 71%|███████   | 316/446 [00:16<00:05, 22.57it/s]\u001b[A\n",
            " 72%|███████▏  | 319/446 [00:16<00:05, 22.28it/s]\u001b[A\n",
            " 72%|███████▏  | 322/446 [00:16<00:05, 22.10it/s]\u001b[A\n",
            " 73%|███████▎  | 325/446 [00:17<00:05, 22.46it/s]\u001b[A\n",
            " 74%|███████▎  | 328/446 [00:17<00:05, 22.70it/s]\u001b[A\n",
            " 74%|███████▍  | 331/446 [00:17<00:05, 22.99it/s]\u001b[A\n",
            " 75%|███████▍  | 334/446 [00:17<00:04, 22.98it/s]\u001b[A\n",
            " 76%|███████▌  | 337/446 [00:17<00:04, 22.96it/s]\u001b[A\n",
            " 76%|███████▌  | 340/446 [00:17<00:04, 22.92it/s]\u001b[A\n",
            " 77%|███████▋  | 343/446 [00:17<00:04, 23.40it/s]\u001b[A\n",
            " 78%|███████▊  | 346/446 [00:17<00:04, 23.53it/s]\u001b[A\n",
            " 78%|███████▊  | 349/446 [00:18<00:04, 23.52it/s]\u001b[A\n",
            " 79%|███████▉  | 352/446 [00:18<00:04, 23.19it/s]\u001b[A\n",
            " 80%|███████▉  | 355/446 [00:18<00:03, 23.56it/s]\u001b[A\n",
            " 80%|████████  | 358/446 [00:18<00:03, 23.49it/s]\u001b[A\n",
            " 81%|████████  | 361/446 [00:18<00:03, 23.49it/s]\u001b[A\n",
            " 82%|████████▏ | 364/446 [00:18<00:03, 23.45it/s]\u001b[A\n",
            " 82%|████████▏ | 367/446 [00:18<00:03, 23.63it/s]\u001b[A\n",
            " 83%|████████▎ | 370/446 [00:19<00:03, 23.11it/s]\u001b[A\n",
            " 84%|████████▎ | 373/446 [00:19<00:03, 22.96it/s]\u001b[A\n",
            " 84%|████████▍ | 376/446 [00:19<00:03, 23.00it/s]\u001b[A\n",
            " 85%|████████▍ | 379/446 [00:19<00:02, 22.87it/s]\u001b[A\n",
            " 86%|████████▌ | 382/446 [00:19<00:02, 23.16it/s]\u001b[A\n",
            " 86%|████████▋ | 385/446 [00:19<00:02, 23.12it/s]\u001b[A\n",
            " 87%|████████▋ | 388/446 [00:19<00:02, 23.09it/s]\u001b[A\n",
            " 88%|████████▊ | 391/446 [00:19<00:02, 23.11it/s]\u001b[A\n",
            " 88%|████████▊ | 394/446 [00:20<00:02, 22.33it/s]\u001b[A\n",
            " 89%|████████▉ | 397/446 [00:20<00:02, 22.10it/s]\u001b[A\n",
            " 90%|████████▉ | 400/446 [00:20<00:02, 22.49it/s]\u001b[A\n",
            " 90%|█████████ | 403/446 [00:20<00:01, 22.19it/s]\u001b[A\n",
            " 91%|█████████ | 406/446 [00:20<00:01, 22.43it/s]\u001b[A\n",
            " 92%|█████████▏| 409/446 [00:20<00:01, 22.36it/s]\u001b[A\n",
            " 92%|█████████▏| 412/446 [00:20<00:01, 22.42it/s]\u001b[A\n",
            " 93%|█████████▎| 415/446 [00:20<00:01, 22.79it/s]\u001b[A\n",
            " 94%|█████████▎| 418/446 [00:21<00:01, 22.99it/s]\u001b[A\n",
            " 94%|█████████▍| 421/446 [00:21<00:01, 22.78it/s]\u001b[A\n",
            " 95%|█████████▌| 424/446 [00:21<00:00, 22.53it/s]\u001b[A\n",
            " 96%|█████████▌| 427/446 [00:21<00:00, 22.73it/s]\u001b[A\n",
            " 96%|█████████▋| 430/446 [00:21<00:00, 22.98it/s]\u001b[A\n",
            " 97%|█████████▋| 433/446 [00:21<00:00, 22.81it/s]\u001b[A\n",
            " 98%|█████████▊| 436/446 [00:21<00:00, 23.04it/s]\u001b[A\n",
            " 98%|█████████▊| 439/446 [00:22<00:00, 23.29it/s]\u001b[A\n",
            " 99%|█████████▉| 442/446 [00:22<00:00, 23.37it/s]\u001b[A\n",
            "100%|██████████| 446/446 [00:22<00:00, 19.85it/s]\n"
          ]
        },
        {
          "output_type": "stream",
          "name": "stdout",
          "text": [
            "Train loss: 0.1433\n",
            "Train classification report:\n",
            "              precision    recall  f1-score   support\n",
            "\n",
            "      Normal       0.71      0.62      0.66      1789\n",
            "      Others       0.66      0.75      0.70      1775\n",
            "\n",
            "    accuracy                           0.68      3564\n",
            "   macro avg       0.69      0.68      0.68      3564\n",
            "weighted avg       0.69      0.68      0.68      3564\n",
            "\n"
          ]
        },
        {
          "output_type": "stream",
          "name": "stderr",
          "text": [
            "100%|██████████| 48/48 [00:03<00:00, 15.09it/s]\n"
          ]
        },
        {
          "output_type": "stream",
          "name": "stdout",
          "text": [
            "Val loss: 0.1085\n",
            "Val classification report:\n",
            "              precision    recall  f1-score   support\n",
            "\n",
            "      Normal       0.83      0.84      0.84       404\n",
            "      Others       0.82      0.81      0.81       360\n",
            "\n",
            "    accuracy                           0.83       764\n",
            "   macro avg       0.83      0.82      0.83       764\n",
            "weighted avg       0.83      0.83      0.83       764\n",
            "\n",
            "Val ROC AUC for Normal: 0.8943\n",
            "Val ROC AUC for Others: 0.8943\n",
            "Mean Val ROC AUC: 0.8943\n",
            "Saved best model with AUC: 0.8943\n",
            "\n",
            "Epoch 2/25\n"
          ]
        },
        {
          "output_type": "stream",
          "name": "stderr",
          "text": [
            "100%|██████████| 446/446 [00:19<00:00, 23.23it/s]\n"
          ]
        },
        {
          "output_type": "stream",
          "name": "stdout",
          "text": [
            "Train loss: 0.1112\n",
            "Train classification report:\n",
            "              precision    recall  f1-score   support\n",
            "\n",
            "      Normal       0.81      0.79      0.80      1754\n",
            "      Others       0.80      0.82      0.81      1810\n",
            "\n",
            "    accuracy                           0.81      3564\n",
            "   macro avg       0.81      0.80      0.81      3564\n",
            "weighted avg       0.81      0.81      0.81      3564\n",
            "\n"
          ]
        },
        {
          "output_type": "stream",
          "name": "stderr",
          "text": [
            "100%|██████████| 48/48 [00:03<00:00, 15.59it/s]\n"
          ]
        },
        {
          "output_type": "stream",
          "name": "stdout",
          "text": [
            "Val loss: 0.0987\n",
            "Val classification report:\n",
            "              precision    recall  f1-score   support\n",
            "\n",
            "      Normal       0.84      0.90      0.87       404\n",
            "      Others       0.88      0.81      0.84       360\n",
            "\n",
            "    accuracy                           0.86       764\n",
            "   macro avg       0.86      0.86      0.86       764\n",
            "weighted avg       0.86      0.86      0.86       764\n",
            "\n",
            "Val ROC AUC for Normal: 0.9139\n",
            "Val ROC AUC for Others: 0.9139\n",
            "Mean Val ROC AUC: 0.9139\n",
            "Saved best model with AUC: 0.9139\n",
            "\n",
            "Epoch 3/25\n",
            "Unfreezing backbone networks\n"
          ]
        },
        {
          "output_type": "stream",
          "name": "stderr",
          "text": [
            "100%|██████████| 446/446 [00:44<00:00, 10.04it/s]\n"
          ]
        },
        {
          "output_type": "stream",
          "name": "stdout",
          "text": [
            "Train loss: 0.1466\n",
            "Train classification report:\n",
            "              precision    recall  f1-score   support\n",
            "\n",
            "      Normal       0.77      0.71      0.74      1783\n",
            "      Others       0.73      0.79      0.76      1781\n",
            "\n",
            "    accuracy                           0.75      3564\n",
            "   macro avg       0.75      0.75      0.75      3564\n",
            "weighted avg       0.75      0.75      0.75      3564\n",
            "\n"
          ]
        },
        {
          "output_type": "stream",
          "name": "stderr",
          "text": [
            "100%|██████████| 48/48 [00:03<00:00, 15.41it/s]\n"
          ]
        },
        {
          "output_type": "stream",
          "name": "stdout",
          "text": [
            "Val loss: 0.0722\n",
            "Val classification report:\n",
            "              precision    recall  f1-score   support\n",
            "\n",
            "      Normal       0.92      0.95      0.93       404\n",
            "      Others       0.94      0.91      0.92       360\n",
            "\n",
            "    accuracy                           0.93       764\n",
            "   macro avg       0.93      0.93      0.93       764\n",
            "weighted avg       0.93      0.93      0.93       764\n",
            "\n",
            "Val ROC AUC for Normal: 0.9623\n",
            "Val ROC AUC for Others: 0.9623\n",
            "Mean Val ROC AUC: 0.9623\n",
            "Saved best model with AUC: 0.9623\n",
            "\n",
            "Epoch 4/25\n"
          ]
        },
        {
          "output_type": "stream",
          "name": "stderr",
          "text": [
            "100%|██████████| 446/446 [00:43<00:00, 10.20it/s]\n"
          ]
        },
        {
          "output_type": "stream",
          "name": "stdout",
          "text": [
            "Train loss: 0.1386\n",
            "Train classification report:\n",
            "              precision    recall  f1-score   support\n",
            "\n",
            "      Normal       0.86      0.84      0.85      1825\n",
            "      Others       0.84      0.86      0.85      1739\n",
            "\n",
            "    accuracy                           0.85      3564\n",
            "   macro avg       0.85      0.85      0.85      3564\n",
            "weighted avg       0.85      0.85      0.85      3564\n",
            "\n"
          ]
        },
        {
          "output_type": "stream",
          "name": "stderr",
          "text": [
            "100%|██████████| 48/48 [00:03<00:00, 15.55it/s]\n"
          ]
        },
        {
          "output_type": "stream",
          "name": "stdout",
          "text": [
            "Val loss: 0.0920\n",
            "Val classification report:\n",
            "              precision    recall  f1-score   support\n",
            "\n",
            "      Normal       0.93      0.92      0.93       404\n",
            "      Others       0.91      0.93      0.92       360\n",
            "\n",
            "    accuracy                           0.92       764\n",
            "   macro avg       0.92      0.92      0.92       764\n",
            "weighted avg       0.92      0.92      0.92       764\n",
            "\n",
            "Val ROC AUC for Normal: 0.9535\n",
            "Val ROC AUC for Others: 0.9535\n",
            "Mean Val ROC AUC: 0.9535\n",
            "\n",
            "Epoch 5/25\n"
          ]
        },
        {
          "output_type": "stream",
          "name": "stderr",
          "text": [
            "100%|██████████| 446/446 [00:43<00:00, 10.24it/s]\n"
          ]
        },
        {
          "output_type": "stream",
          "name": "stdout",
          "text": [
            "Train loss: 0.1327\n",
            "Train classification report:\n",
            "              precision    recall  f1-score   support\n",
            "\n",
            "      Normal       0.90      0.85      0.87      1760\n",
            "      Others       0.86      0.91      0.88      1804\n",
            "\n",
            "    accuracy                           0.88      3564\n",
            "   macro avg       0.88      0.88      0.88      3564\n",
            "weighted avg       0.88      0.88      0.88      3564\n",
            "\n"
          ]
        },
        {
          "output_type": "stream",
          "name": "stderr",
          "text": [
            "100%|██████████| 48/48 [00:03<00:00, 15.50it/s]\n"
          ]
        },
        {
          "output_type": "stream",
          "name": "stdout",
          "text": [
            "Val loss: 0.0946\n",
            "Val classification report:\n",
            "              precision    recall  f1-score   support\n",
            "\n",
            "      Normal       0.92      0.91      0.91       404\n",
            "      Others       0.90      0.91      0.90       360\n",
            "\n",
            "    accuracy                           0.91       764\n",
            "   macro avg       0.91      0.91      0.91       764\n",
            "weighted avg       0.91      0.91      0.91       764\n",
            "\n",
            "Val ROC AUC for Normal: 0.9581\n",
            "Val ROC AUC for Others: 0.9581\n",
            "Mean Val ROC AUC: 0.9581\n",
            "\n",
            "Epoch 6/25\n"
          ]
        },
        {
          "output_type": "stream",
          "name": "stderr",
          "text": [
            "100%|██████████| 446/446 [00:44<00:00, 10.02it/s]\n"
          ]
        },
        {
          "output_type": "stream",
          "name": "stdout",
          "text": [
            "Train loss: 0.1345\n",
            "Train classification report:\n",
            "              precision    recall  f1-score   support\n",
            "\n",
            "      Normal       0.87      0.81      0.84      1803\n",
            "      Others       0.82      0.87      0.84      1761\n",
            "\n",
            "    accuracy                           0.84      3564\n",
            "   macro avg       0.84      0.84      0.84      3564\n",
            "weighted avg       0.84      0.84      0.84      3564\n",
            "\n"
          ]
        },
        {
          "output_type": "stream",
          "name": "stderr",
          "text": [
            "100%|██████████| 48/48 [00:03<00:00, 15.53it/s]\n"
          ]
        },
        {
          "output_type": "stream",
          "name": "stdout",
          "text": [
            "Val loss: 0.1132\n",
            "Val classification report:\n",
            "              precision    recall  f1-score   support\n",
            "\n",
            "      Normal       0.77      0.96      0.86       404\n",
            "      Others       0.94      0.69      0.79       360\n",
            "\n",
            "    accuracy                           0.83       764\n",
            "   macro avg       0.86      0.82      0.83       764\n",
            "weighted avg       0.85      0.83      0.83       764\n",
            "\n",
            "Val ROC AUC for Normal: 0.9542\n",
            "Val ROC AUC for Others: 0.9542\n",
            "Mean Val ROC AUC: 0.9542\n",
            "\n",
            "Epoch 7/25\n"
          ]
        },
        {
          "output_type": "stream",
          "name": "stderr",
          "text": [
            "100%|██████████| 446/446 [00:44<00:00, 10.03it/s]\n"
          ]
        },
        {
          "output_type": "stream",
          "name": "stdout",
          "text": [
            "Train loss: 0.1242\n",
            "Train classification report:\n",
            "              precision    recall  f1-score   support\n",
            "\n",
            "      Normal       0.88      0.81      0.84      1774\n",
            "      Others       0.82      0.89      0.85      1790\n",
            "\n",
            "    accuracy                           0.85      3564\n",
            "   macro avg       0.85      0.85      0.85      3564\n",
            "weighted avg       0.85      0.85      0.85      3564\n",
            "\n"
          ]
        },
        {
          "output_type": "stream",
          "name": "stderr",
          "text": [
            "100%|██████████| 48/48 [00:03<00:00, 15.15it/s]\n"
          ]
        },
        {
          "output_type": "stream",
          "name": "stdout",
          "text": [
            "Val loss: 0.0803\n",
            "Val classification report:\n",
            "              precision    recall  f1-score   support\n",
            "\n",
            "      Normal       0.92      0.91      0.92       404\n",
            "      Others       0.90      0.92      0.91       360\n",
            "\n",
            "    accuracy                           0.91       764\n",
            "   macro avg       0.91      0.91      0.91       764\n",
            "weighted avg       0.91      0.91      0.91       764\n",
            "\n",
            "Val ROC AUC for Normal: 0.9636\n",
            "Val ROC AUC for Others: 0.9636\n",
            "Mean Val ROC AUC: 0.9636\n",
            "Saved best model with AUC: 0.9636\n",
            "\n",
            "Epoch 8/25\n"
          ]
        },
        {
          "output_type": "stream",
          "name": "stderr",
          "text": [
            "100%|██████████| 446/446 [00:44<00:00, 10.04it/s]\n"
          ]
        },
        {
          "output_type": "stream",
          "name": "stdout",
          "text": [
            "Train loss: 0.1240\n",
            "Train classification report:\n",
            "              precision    recall  f1-score   support\n",
            "\n",
            "      Normal       0.86      0.80      0.83      1763\n",
            "      Others       0.82      0.87      0.84      1801\n",
            "\n",
            "    accuracy                           0.84      3564\n",
            "   macro avg       0.84      0.84      0.84      3564\n",
            "weighted avg       0.84      0.84      0.84      3564\n",
            "\n"
          ]
        },
        {
          "output_type": "stream",
          "name": "stderr",
          "text": [
            "100%|██████████| 48/48 [00:03<00:00, 15.52it/s]\n"
          ]
        },
        {
          "output_type": "stream",
          "name": "stdout",
          "text": [
            "Val loss: 0.0844\n",
            "Val classification report:\n",
            "              precision    recall  f1-score   support\n",
            "\n",
            "      Normal       0.90      0.91      0.90       404\n",
            "      Others       0.90      0.88      0.89       360\n",
            "\n",
            "    accuracy                           0.90       764\n",
            "   macro avg       0.90      0.90      0.90       764\n",
            "weighted avg       0.90      0.90      0.90       764\n",
            "\n",
            "Val ROC AUC for Normal: 0.9608\n",
            "Val ROC AUC for Others: 0.9608\n",
            "Mean Val ROC AUC: 0.9608\n",
            "\n",
            "Epoch 9/25\n"
          ]
        },
        {
          "output_type": "stream",
          "name": "stderr",
          "text": [
            "100%|██████████| 446/446 [00:44<00:00, 10.00it/s]\n"
          ]
        },
        {
          "output_type": "stream",
          "name": "stdout",
          "text": [
            "Train loss: 0.1218\n",
            "Train classification report:\n",
            "              precision    recall  f1-score   support\n",
            "\n",
            "      Normal       0.91      0.83      0.86      1744\n",
            "      Others       0.85      0.92      0.88      1820\n",
            "\n",
            "    accuracy                           0.87      3564\n",
            "   macro avg       0.88      0.87      0.87      3564\n",
            "weighted avg       0.87      0.87      0.87      3564\n",
            "\n"
          ]
        },
        {
          "output_type": "stream",
          "name": "stderr",
          "text": [
            "100%|██████████| 48/48 [00:03<00:00, 15.21it/s]\n"
          ]
        },
        {
          "output_type": "stream",
          "name": "stdout",
          "text": [
            "Val loss: 0.0855\n",
            "Val classification report:\n",
            "              precision    recall  f1-score   support\n",
            "\n",
            "      Normal       0.93      0.92      0.93       404\n",
            "      Others       0.91      0.92      0.92       360\n",
            "\n",
            "    accuracy                           0.92       764\n",
            "   macro avg       0.92      0.92      0.92       764\n",
            "weighted avg       0.92      0.92      0.92       764\n",
            "\n",
            "Val ROC AUC for Normal: 0.9706\n",
            "Val ROC AUC for Others: 0.9706\n",
            "Mean Val ROC AUC: 0.9706\n",
            "Saved best model with AUC: 0.9706\n",
            "\n",
            "Epoch 10/25\n"
          ]
        },
        {
          "output_type": "stream",
          "name": "stderr",
          "text": [
            "100%|██████████| 446/446 [00:43<00:00, 10.17it/s]\n"
          ]
        },
        {
          "output_type": "stream",
          "name": "stdout",
          "text": [
            "Train loss: 0.1230\n",
            "Train classification report:\n",
            "              precision    recall  f1-score   support\n",
            "\n",
            "      Normal       0.88      0.80      0.84      1690\n",
            "      Others       0.83      0.90      0.86      1874\n",
            "\n",
            "    accuracy                           0.85      3564\n",
            "   macro avg       0.85      0.85      0.85      3564\n",
            "weighted avg       0.85      0.85      0.85      3564\n",
            "\n"
          ]
        },
        {
          "output_type": "stream",
          "name": "stderr",
          "text": [
            "100%|██████████| 48/48 [00:03<00:00, 15.40it/s]\n"
          ]
        },
        {
          "output_type": "stream",
          "name": "stdout",
          "text": [
            "Val loss: 0.0816\n",
            "Val classification report:\n",
            "              precision    recall  f1-score   support\n",
            "\n",
            "      Normal       0.92      0.92      0.92       404\n",
            "      Others       0.91      0.91      0.91       360\n",
            "\n",
            "    accuracy                           0.92       764\n",
            "   macro avg       0.92      0.92      0.92       764\n",
            "weighted avg       0.92      0.92      0.92       764\n",
            "\n",
            "Val ROC AUC for Normal: 0.9717\n",
            "Val ROC AUC for Others: 0.9717\n",
            "Mean Val ROC AUC: 0.9717\n",
            "Saved best model with AUC: 0.9717\n",
            "\n",
            "Epoch 11/25\n"
          ]
        },
        {
          "output_type": "stream",
          "name": "stderr",
          "text": [
            "100%|██████████| 446/446 [00:43<00:00, 10.16it/s]\n"
          ]
        },
        {
          "output_type": "stream",
          "name": "stdout",
          "text": [
            "Train loss: 0.1205\n",
            "Train classification report:\n",
            "              precision    recall  f1-score   support\n",
            "\n",
            "      Normal       0.84      0.77      0.80      1817\n",
            "      Others       0.78      0.84      0.81      1747\n",
            "\n",
            "    accuracy                           0.81      3564\n",
            "   macro avg       0.81      0.81      0.81      3564\n",
            "weighted avg       0.81      0.81      0.81      3564\n",
            "\n"
          ]
        },
        {
          "output_type": "stream",
          "name": "stderr",
          "text": [
            "100%|██████████| 48/48 [00:03<00:00, 15.38it/s]\n"
          ]
        },
        {
          "output_type": "stream",
          "name": "stdout",
          "text": [
            "Val loss: 0.0886\n",
            "Val classification report:\n",
            "              precision    recall  f1-score   support\n",
            "\n",
            "      Normal       0.86      0.93      0.89       404\n",
            "      Others       0.91      0.83      0.87       360\n",
            "\n",
            "    accuracy                           0.88       764\n",
            "   macro avg       0.89      0.88      0.88       764\n",
            "weighted avg       0.89      0.88      0.88       764\n",
            "\n",
            "Val ROC AUC for Normal: 0.9544\n",
            "Val ROC AUC for Others: 0.9544\n",
            "Mean Val ROC AUC: 0.9544\n",
            "\n",
            "Epoch 12/25\n"
          ]
        },
        {
          "output_type": "stream",
          "name": "stderr",
          "text": [
            "100%|██████████| 446/446 [00:44<00:00, 10.07it/s]\n"
          ]
        },
        {
          "output_type": "stream",
          "name": "stdout",
          "text": [
            "Train loss: 0.1186\n",
            "Train classification report:\n",
            "              precision    recall  f1-score   support\n",
            "\n",
            "      Normal       0.85      0.81      0.83      1767\n",
            "      Others       0.82      0.86      0.84      1797\n",
            "\n",
            "    accuracy                           0.84      3564\n",
            "   macro avg       0.84      0.84      0.84      3564\n",
            "weighted avg       0.84      0.84      0.84      3564\n",
            "\n"
          ]
        },
        {
          "output_type": "stream",
          "name": "stderr",
          "text": [
            "100%|██████████| 48/48 [00:03<00:00, 15.09it/s]\n"
          ]
        },
        {
          "output_type": "stream",
          "name": "stdout",
          "text": [
            "Val loss: 0.0857\n",
            "Val classification report:\n",
            "              precision    recall  f1-score   support\n",
            "\n",
            "      Normal       0.91      0.92      0.91       404\n",
            "      Others       0.91      0.89      0.90       360\n",
            "\n",
            "    accuracy                           0.91       764\n",
            "   macro avg       0.91      0.91      0.91       764\n",
            "weighted avg       0.91      0.91      0.91       764\n",
            "\n",
            "Val ROC AUC for Normal: 0.9687\n",
            "Val ROC AUC for Others: 0.9687\n",
            "Mean Val ROC AUC: 0.9687\n",
            "\n",
            "Epoch 13/25\n"
          ]
        },
        {
          "output_type": "stream",
          "name": "stderr",
          "text": [
            "100%|██████████| 446/446 [00:44<00:00, 10.13it/s]\n"
          ]
        },
        {
          "output_type": "stream",
          "name": "stdout",
          "text": [
            "Train loss: 0.1155\n",
            "Train classification report:\n",
            "              precision    recall  f1-score   support\n",
            "\n",
            "      Normal       0.83      0.78      0.80      1799\n",
            "      Others       0.79      0.83      0.81      1765\n",
            "\n",
            "    accuracy                           0.81      3564\n",
            "   macro avg       0.81      0.81      0.81      3564\n",
            "weighted avg       0.81      0.81      0.81      3564\n",
            "\n"
          ]
        },
        {
          "output_type": "stream",
          "name": "stderr",
          "text": [
            "100%|██████████| 48/48 [00:03<00:00, 15.32it/s]\n"
          ]
        },
        {
          "output_type": "stream",
          "name": "stdout",
          "text": [
            "Val loss: 0.0812\n",
            "Val classification report:\n",
            "              precision    recall  f1-score   support\n",
            "\n",
            "      Normal       0.90      0.92      0.91       404\n",
            "      Others       0.91      0.88      0.90       360\n",
            "\n",
            "    accuracy                           0.90       764\n",
            "   macro avg       0.90      0.90      0.90       764\n",
            "weighted avg       0.90      0.90      0.90       764\n",
            "\n",
            "Val ROC AUC for Normal: 0.9663\n",
            "Val ROC AUC for Others: 0.9663\n",
            "Mean Val ROC AUC: 0.9663\n",
            "\n",
            "Epoch 14/25\n"
          ]
        },
        {
          "output_type": "stream",
          "name": "stderr",
          "text": [
            "100%|██████████| 446/446 [00:43<00:00, 10.16it/s]\n"
          ]
        },
        {
          "output_type": "stream",
          "name": "stdout",
          "text": [
            "Train loss: 0.1050\n",
            "Train classification report:\n",
            "              precision    recall  f1-score   support\n",
            "\n",
            "      Normal       0.84      0.80      0.82      1702\n",
            "      Others       0.82      0.86      0.84      1862\n",
            "\n",
            "    accuracy                           0.83      3564\n",
            "   macro avg       0.83      0.83      0.83      3564\n",
            "weighted avg       0.83      0.83      0.83      3564\n",
            "\n"
          ]
        },
        {
          "output_type": "stream",
          "name": "stderr",
          "text": [
            "100%|██████████| 48/48 [00:03<00:00, 15.28it/s]\n"
          ]
        },
        {
          "output_type": "stream",
          "name": "stdout",
          "text": [
            "Val loss: 0.0809\n",
            "Val classification report:\n",
            "              precision    recall  f1-score   support\n",
            "\n",
            "      Normal       0.88      0.89      0.88       404\n",
            "      Others       0.87      0.86      0.87       360\n",
            "\n",
            "    accuracy                           0.87       764\n",
            "   macro avg       0.87      0.87      0.87       764\n",
            "weighted avg       0.87      0.87      0.87       764\n",
            "\n",
            "Val ROC AUC for Normal: 0.9519\n",
            "Val ROC AUC for Others: 0.9519\n",
            "Mean Val ROC AUC: 0.9519\n",
            "\n",
            "Epoch 15/25\n"
          ]
        },
        {
          "output_type": "stream",
          "name": "stderr",
          "text": [
            "100%|██████████| 446/446 [00:44<00:00, 10.11it/s]\n"
          ]
        },
        {
          "output_type": "stream",
          "name": "stdout",
          "text": [
            "Train loss: 0.1046\n",
            "Train classification report:\n",
            "              precision    recall  f1-score   support\n",
            "\n",
            "      Normal       0.85      0.80      0.83      1798\n",
            "      Others       0.81      0.86      0.83      1766\n",
            "\n",
            "    accuracy                           0.83      3564\n",
            "   macro avg       0.83      0.83      0.83      3564\n",
            "weighted avg       0.83      0.83      0.83      3564\n",
            "\n"
          ]
        },
        {
          "output_type": "stream",
          "name": "stderr",
          "text": [
            "100%|██████████| 48/48 [00:03<00:00, 15.15it/s]\n"
          ]
        },
        {
          "output_type": "stream",
          "name": "stdout",
          "text": [
            "Val loss: 0.0793\n",
            "Val classification report:\n",
            "              precision    recall  f1-score   support\n",
            "\n",
            "      Normal       0.88      0.93      0.91       404\n",
            "      Others       0.92      0.86      0.89       360\n",
            "\n",
            "    accuracy                           0.90       764\n",
            "   macro avg       0.90      0.90      0.90       764\n",
            "weighted avg       0.90      0.90      0.90       764\n",
            "\n",
            "Val ROC AUC for Normal: 0.9657\n",
            "Val ROC AUC for Others: 0.9657\n",
            "Mean Val ROC AUC: 0.9657\n",
            "Early stopping triggered after 15 epochs\n",
            "Training complete. Best model from epoch 10 with validation AUC: 0.9717\n"
          ]
        },
        {
          "output_type": "stream",
          "name": "stderr",
          "text": [
            "100%|██████████| 48/48 [00:03<00:00, 15.30it/s]\n"
          ]
        },
        {
          "output_type": "stream",
          "name": "stdout",
          "text": [
            "Test loss: 0.0838\n",
            "Test classification report:\n",
            "              precision    recall  f1-score   support\n",
            "\n",
            "      Normal       0.92      0.93      0.92       405\n",
            "      Others       0.92      0.90      0.91       359\n",
            "\n",
            "    accuracy                           0.92       764\n",
            "   macro avg       0.92      0.92      0.92       764\n",
            "weighted avg       0.92      0.92      0.92       764\n",
            "\n",
            "\n",
            "ROC AUC Scores:\n",
            "Test ROC AUC for Normal: 0.9613\n",
            "Test ROC AUC for Others: 0.9613\n",
            "\n",
            "Confusion Matrix:\n",
            "[[377  28]\n",
            " [ 35 324]]\n",
            "\n",
            "Calculating uncertainty using MC Dropout...\n"
          ]
        },
        {
          "output_type": "stream",
          "name": "stderr",
          "text": [
            "100%|██████████| 48/48 [00:17<00:00,  2.75it/s]"
          ]
        },
        {
          "output_type": "stream",
          "name": "stdout",
          "text": [
            "Percentage of misclassified samples among high uncertainty samples: 22.51%\n",
            "Percentage of correctly classified samples among low uncertainty samples: 96.68%\n"
          ]
        },
        {
          "output_type": "stream",
          "name": "stderr",
          "text": [
            "\n"
          ]
        }
      ]
    },
    {
      "cell_type": "markdown",
      "source": [
        "We propose a multimodal deep learning model that integrates chest X-ray images and corresponding radiology reports for disease classification. The model leverages a DenseNet-121 backbone, pretrained on ImageNet, to extract deep visual features from X-ray images, and a BioClinicalBERT model, pretrained on biomedical text, to encode radiology reports. To effectively fuse the two modalities, we introduce a Cross-Attention Fusion module where text features attend to projected image features using a multi-head attention mechanism, allowing for alignment between visual and textual information. The fused representation is then passed through a fully connected classification head with dropout for regularization. To address class imbalance, the model is trained using weighted random sampling and a focal loss function with class-specific weights. Further robustness is achieved through Mixup data augmentation, gradual unfreezing of encoders after initial epochs, learning rate warmup, gradient accumulation, and early stopping. During inference, we apply Monte Carlo Dropout to perform multiple stochastic forward passes, enabling the estimation of predictive uncertainty through entropy measurements. This framework results in a robust, uncertainty-aware model capable of reliable multimodal disease classification from chest X-rays and associated clinical texts."
      ],
      "metadata": {
        "id": "_tuxmgEHedpa"
      }
    },
    {
      "cell_type": "code",
      "source": [
        "import torch\n",
        "import numpy as np\n",
        "import matplotlib.pyplot as plt\n",
        "from PIL import Image\n",
        "import matplotlib.cm as cm\n",
        "from matplotlib.colors import Normalize\n",
        "import textwrap\n",
        "from torchvision import transforms\n",
        "\n",
        "def simplified_attention_visualization(model, image_path, report_text, tokenizer, device, save_path=None):\n",
        "    \"\"\"\n",
        "    Create a simplified visualization of model activations and predictions\n",
        "\n",
        "    Args:\n",
        "        model: Trained multimodal model\n",
        "        image_path: Path to the chest X-ray image\n",
        "        report_text: Radiologist report text\n",
        "        tokenizer: BioClinicalBERT tokenizer\n",
        "        device: Device to run inference on\n",
        "        save_path: Path to save visualization (optional)\n",
        "    \"\"\"\n",
        "    # Process image\n",
        "    image = Image.open(image_path).convert('RGB')\n",
        "    img_transform = transforms.Compose([\n",
        "        transforms.Resize((224, 224)),\n",
        "        transforms.ToTensor(),\n",
        "        transforms.Normalize([0.485, 0.456, 0.406], [0.229, 0.224, 0.225])\n",
        "    ])\n",
        "    img_tensor = img_transform(image).unsqueeze(0).to(device)\n",
        "\n",
        "    # Original image for visualization\n",
        "    img_display = np.array(image.resize((224, 224)))\n",
        "\n",
        "    # Process text\n",
        "    encoding = tokenizer(\n",
        "        report_text,\n",
        "        padding='max_length',\n",
        "        truncation=True,\n",
        "        max_length=128,\n",
        "        return_tensors='pt'\n",
        "    )\n",
        "    input_ids = encoding['input_ids'].to(device)\n",
        "    attention_mask = encoding['attention_mask'].to(device)\n",
        "\n",
        "    # Get tokens for visualization\n",
        "    tokens = tokenizer.convert_ids_to_tokens(input_ids[0])\n",
        "    valid_tokens = []\n",
        "    for i, token in enumerate(tokens):\n",
        "        if token not in ['[PAD]', '[CLS]', '[SEP]']:\n",
        "            valid_tokens.append(token)\n",
        "\n",
        "    # Feature extraction hooks\n",
        "    image_features = []\n",
        "    text_features = []\n",
        "\n",
        "    def hook_img_features(module, input, output):\n",
        "        # Capture features from the image encoder before pooling\n",
        "        image_features.append(output.detach().cpu())\n",
        "\n",
        "    def hook_text_features(module, input, output):\n",
        "        # Capture features from the text encoder\n",
        "        text_features.append(output.last_hidden_state.detach().cpu())\n",
        "\n",
        "    # Register hooks\n",
        "    hook1 = model.img_encoder.register_forward_hook(hook_img_features)\n",
        "    hook2 = model.text_encoder.register_forward_hook(hook_text_features)\n",
        "\n",
        "    # Forward pass\n",
        "    model.eval()\n",
        "    with torch.no_grad():\n",
        "        logits = model(img_tensor, input_ids, attention_mask)\n",
        "        probs = torch.softmax(logits, dim=1)\n",
        "        pred_class = torch.argmax(probs, dim=1).item()\n",
        "        pred_label = \"Normal\" if pred_class == 0 else \"Others\"\n",
        "        confidence = probs[0, pred_class].item()\n",
        "\n",
        "    # Remove hooks\n",
        "    hook1.remove()\n",
        "    hook2.remove()\n",
        "\n",
        "    # Create figure with 3 subplots\n",
        "    fig, axes = plt.subplots(1, 3, figsize=(18, 6))\n",
        "\n",
        "    # Plot original image with prediction\n",
        "    axes[0].imshow(img_display)\n",
        "    axes[0].set_title(f'Prediction: {pred_label} (Confidence: {confidence:.2f})', fontsize=14)\n",
        "    axes[0].axis('off')\n",
        "\n",
        "    # Create activation heatmap from the image features\n",
        "    if image_features:\n",
        "        # Use the mean activation across channels\n",
        "        feature_map = image_features[0][0]  # [C, H, W]\n",
        "        heatmap = feature_map.mean(dim=0).numpy()\n",
        "\n",
        "        # Normalize the heatmap\n",
        "        heatmap = (heatmap - heatmap.min()) / (heatmap.max() - heatmap.min() + 1e-8)\n",
        "\n",
        "        # Plot image with activation overlay\n",
        "        axes[1].imshow(img_display)\n",
        "        im = axes[1].imshow(heatmap, alpha=0.6, cmap='jet')\n",
        "        axes[1].set_title('Feature Activation Map', fontsize=14)\n",
        "        axes[1].axis('off')\n",
        "        plt.colorbar(im, ax=axes[1], fraction=0.046, pad=0.04)\n",
        "    else:\n",
        "        axes[1].imshow(img_display)\n",
        "        axes[1].set_title('Feature activation not available', fontsize=14)\n",
        "        axes[1].axis('off')\n",
        "\n",
        "    # Plot key phrases from the report\n",
        "    important_phrases = extract_important_phrases(report_text)\n",
        "    axes[2].axis('off')\n",
        "    axes[2].set_title('Key Report Phrases', fontsize=14)\n",
        "\n",
        "    # Display the text with highlights\n",
        "    y_pos = 0.95\n",
        "    for i, phrase in enumerate(important_phrases):\n",
        "        axes[2].text(0.05, y_pos, phrase, fontsize=12, wrap=True,\n",
        "                    bbox=dict(facecolor='lightskyblue', alpha=0.3))\n",
        "        y_pos -= 0.15\n",
        "        if y_pos < 0.05:  # Avoid text going out of bounds\n",
        "            break\n",
        "\n",
        "    plt.tight_layout()\n",
        "\n",
        "    if save_path:\n",
        "        plt.savefig(save_path, dpi=300, bbox_inches='tight')\n",
        "\n",
        "    return fig\n",
        "\n",
        "def extract_important_phrases(text, max_phrases=5):\n",
        "    \"\"\"Extract key phrases from the report based on medical terminology\"\"\"\n",
        "    # List of important medical keywords for chest X-rays\n",
        "    keywords = [\n",
        "        'pneumonia', 'effusion', 'opacity', 'consolidation',\n",
        "        'edema', 'pneumothorax', 'atelectasis', 'cardiomegaly',\n",
        "        'nodule', 'mass', 'fracture', 'pleural', 'infiltrate',\n",
        "        'normal', 'clear', 'unremarkable', 'thoracentesis'\n",
        "    ]\n",
        "\n",
        "    # Split text into sentences\n",
        "    sentences = text.replace('.', '. ').split('. ')\n",
        "    sentences = [s.strip() for s in sentences if s.strip()]\n",
        "\n",
        "    # Find sentences with keywords\n",
        "    important_sentences = []\n",
        "    for sentence in sentences:\n",
        "        if any(keyword in sentence.lower() for keyword in keywords):\n",
        "            important_sentences.append(sentence)\n",
        "\n",
        "    # If not enough sentences found with keywords, add other sentences\n",
        "    if len(important_sentences) < max_phrases and len(sentences) > len(important_sentences):\n",
        "        remaining = [s for s in sentences if s not in important_sentences]\n",
        "        important_sentences.extend(remaining[:max_phrases - len(important_sentences)])\n",
        "\n",
        "    # Limit to max_phrases\n",
        "    important_sentences = important_sentences[:max_phrases]\n",
        "\n",
        "    # Add period if missing\n",
        "    important_sentences = [s + '.' if not s.endswith('.') else s for s in important_sentences]\n",
        "\n",
        "    return important_sentences\n",
        "\n",
        "\n",
        "# Example for a specific case\n",
        "visualization = simplified_attention_visualization(\n",
        "    improved_model,  # Your trained model\n",
        "    \"/content/CXR188_IM-0569-1001.png\",  # Path to chest X-ray\n",
        "    'Status post right thoracentesis 1. No residual right pleural effusion thoracentesis. No pneumothorax. 3. Small to moderate left-sided pleural effusion, increased XXXX compared to prior chest radiograph. Left lung base atelectasis/airspace disease.',  # Report text\n",
        "    tokenizer,  # BioClinicalBERT tokenizer\n",
        "    device,  # CPU or GPU\n",
        "    save_path=\"feature_visualization.png\"  # Where to save the output\n",
        ")"
      ],
      "metadata": {
        "colab": {
          "base_uri": "https://localhost:8080/",
          "height": 433
        },
        "id": "J4AhscKMYoag",
        "outputId": "dcf02daf-b181-4859-cfa8-ca03f46989dd"
      },
      "execution_count": 31,
      "outputs": [
        {
          "output_type": "display_data",
          "data": {
            "text/plain": [
              "<Figure size 1800x600 with 4 Axes>"
            ],
            "image/png": "[encoded data removed]"
          },
          "metadata": {}
        }
      ]
    },
    {
      "cell_type": "code",
      "source": [
        "import torch\n",
        "import torch.nn as nn\n",
        "import torch.nn.functional as F\n",
        "from torch.utils.data import Dataset, DataLoader\n",
        "from torchvision import models, transforms\n",
        "from PIL import Image\n",
        "from tqdm import tqdm\n",
        "import numpy as np\n",
        "from sklearn.metrics import classification_report, roc_auc_score, confusion_matrix\n",
        "\n",
        "device = torch.device(\"cuda\" if torch.cuda.is_available() else \"cpu\")\n",
        "print(f\"Using device: {device}\")\n",
        "\n",
        "# Data transformations\n",
        "train_transform = transforms.Compose([\n",
        "    transforms.Resize((256, 256)),\n",
        "    transforms.RandomResizedCrop(224, scale=(0.9, 1.0)),\n",
        "    transforms.RandomAffine(degrees=5, translate=(0.05, 0.05), scale=(0.95, 1.05)),\n",
        "    transforms.RandomHorizontalFlip(),\n",
        "    transforms.ColorJitter(brightness=0.1, contrast=0.1),\n",
        "    transforms.ToTensor(),\n",
        "    transforms.Normalize([0.485, 0.456, 0.406], [0.229, 0.224, 0.225])\n",
        "])\n",
        "\n",
        "eval_transform = transforms.Compose([\n",
        "    transforms.Resize((224, 224)),\n",
        "    transforms.ToTensor(),\n",
        "    transforms.Normalize([0.485, 0.456, 0.406], [0.229, 0.224, 0.225])\n",
        "])\n",
        "\n",
        "# Dataset class for baseline model (image-only)\n",
        "class BaselineCXRDataset(Dataset):\n",
        "    def __init__(self, dataframe, transform=None):\n",
        "        self.dataframe = dataframe.reset_index(drop=True)\n",
        "        self.transform = transform\n",
        "\n",
        "    def __len__(self):\n",
        "        return len(self.dataframe)\n",
        "\n",
        "    def __getitem__(self, idx):\n",
        "        row = self.dataframe.iloc[idx]\n",
        "        # Process image\n",
        "        image = Image.open(row['image_path']).convert('RGB')\n",
        "        if self.transform:\n",
        "            image = self.transform(image)\n",
        "\n",
        "        # Get label\n",
        "        label = label2idx[row['mapped_label']]\n",
        "\n",
        "        # Return same format as the multimodal model for compatibility\n",
        "        # but with dummy tensors for text inputs\n",
        "        dummy_input_ids = torch.zeros(128, dtype=torch.long)\n",
        "        dummy_attention_mask = torch.zeros(128, dtype=torch.long)\n",
        "\n",
        "        return image, dummy_input_ids, dummy_attention_mask, label\n",
        "\n",
        "# Baseline model using only images\n",
        "class BaselineModel_25(nn.Module):\n",
        "    def __init__(self, num_classes):\n",
        "        super().__init__()\n",
        "        # DenseNet-121 backbone (same as in the enhanced model)\n",
        "        densenet = models.densenet121(pretrained=True)\n",
        "        self.features = nn.Sequential(*list(densenet.features.children()))\n",
        "        self.pool = nn.AdaptiveAvgPool2d((1, 1))\n",
        "\n",
        "        # Classification head\n",
        "        self.classifier = nn.Sequential(\n",
        "            nn.Linear(1024, 512),\n",
        "            nn.ReLU(),\n",
        "            nn.Dropout(0.5),\n",
        "            nn.Linear(512, 256),\n",
        "            nn.ReLU(),\n",
        "            nn.Dropout(0.3),\n",
        "            nn.Linear(256, num_classes)\n",
        "        )\n",
        "\n",
        "    def forward(self, image, input_ids=None, attention_mask=None):\n",
        "        # Image encoder (ignores text inputs)\n",
        "        x = self.features(image)\n",
        "        x = self.pool(x)\n",
        "        x = x.view(x.size(0), -1)  # Flatten\n",
        "\n",
        "        # Classification\n",
        "        logits = self.classifier(x)\n",
        "        return logits\n",
        "\n",
        "# Training function for baseline model\n",
        "def train_baseline_model(train_df, val_df, test_df, num_epochs=20):\n",
        "    # Create datasets\n",
        "    train_dataset = BaselineCXRDataset(train_df, train_transform)\n",
        "    val_dataset = BaselineCXRDataset(val_df, eval_transform)\n",
        "    test_dataset = BaselineCXRDataset(test_df, eval_transform)\n",
        "\n",
        "    # Create dataloaders\n",
        "    train_loader = DataLoader(\n",
        "        train_dataset,\n",
        "        batch_size=8,\n",
        "        shuffle=True,\n",
        "        num_workers=2,\n",
        "        pin_memory=True\n",
        "    )\n",
        "    val_loader = DataLoader(val_dataset, batch_size=16, shuffle=False, num_workers=2, pin_memory=True)\n",
        "    test_loader = DataLoader(test_dataset, batch_size=16, shuffle=False, num_workers=2, pin_memory=True)\n",
        "\n",
        "    # Initialize model\n",
        "    model = BaselineModel_25(num_classes=len(label2idx)).to(device)\n",
        "\n",
        "    # Optimizer and scheduler\n",
        "    optimizer = torch.optim.Adam(model.parameters(), lr=1e-4)\n",
        "    scheduler = torch.optim.lr_scheduler.ReduceLROnPlateau(\n",
        "        optimizer, mode='min', factor=0.5, patience=2, verbose=True\n",
        "    )\n",
        "\n",
        "    # Loss function\n",
        "    class_weights = torch.tensor(weights).float().to(device)\n",
        "    criterion = nn.CrossEntropyLoss(weight=class_weights)\n",
        "\n",
        "    # Training variables\n",
        "    best_val_loss = float('inf')\n",
        "    best_val_auc = 0.0\n",
        "    best_epoch = 0\n",
        "    patience = 5\n",
        "    patience_counter = 0\n",
        "    target_names = list(idx2label.values())\n",
        "\n",
        "    for epoch in range(num_epochs):\n",
        "        print(f\"\\nEpoch {epoch+1}/{num_epochs}\")\n",
        "\n",
        "        # Training\n",
        "        model.train()\n",
        "        train_loss = 0\n",
        "        all_train_labels = []\n",
        "        all_train_preds = []\n",
        "\n",
        "        for images, _, _, labels in tqdm(train_loader):\n",
        "            images = images.to(device)\n",
        "            labels = labels.to(device)\n",
        "\n",
        "            # Forward pass\n",
        "            optimizer.zero_grad()\n",
        "            logits = model(images)\n",
        "            loss = criterion(logits, labels)\n",
        "\n",
        "            # Backward pass\n",
        "            loss.backward()\n",
        "            optimizer.step()\n",
        "\n",
        "            train_loss += loss.item() * images.size(0)\n",
        "            preds = torch.argmax(logits, dim=1)\n",
        "            all_train_labels.extend(labels.cpu().numpy())\n",
        "            all_train_preds.extend(preds.cpu().numpy())\n",
        "\n",
        "        train_loss /= len(train_loader.dataset)\n",
        "        print(f\"Train loss: {train_loss:.4f}\")\n",
        "        print(\"Train classification report:\")\n",
        "        print(classification_report(all_train_labels, all_train_preds,\n",
        "                                  target_names=target_names, zero_division=0))\n",
        "\n",
        "        # Validation\n",
        "        model.eval()\n",
        "        val_loss = 0\n",
        "        all_val_labels = []\n",
        "        all_val_preds = []\n",
        "        all_val_probs = []\n",
        "\n",
        "        with torch.no_grad():\n",
        "            for images, _, _, labels in tqdm(val_loader):\n",
        "                images = images.to(device)\n",
        "                labels = labels.to(device)\n",
        "\n",
        "                logits = model(images)\n",
        "                loss = criterion(logits, labels)\n",
        "                val_loss += loss.item() * images.size(0)\n",
        "\n",
        "                probs = torch.softmax(logits, dim=1)\n",
        "                preds = torch.argmax(probs, dim=1)\n",
        "\n",
        "                all_val_labels.extend(labels.cpu().numpy())\n",
        "                all_val_preds.extend(preds.cpu().numpy())\n",
        "                all_val_probs.extend(probs.cpu().numpy())\n",
        "\n",
        "        val_loss /= len(val_loader.dataset)\n",
        "        print(f\"Val loss: {val_loss:.4f}\")\n",
        "        print(\"Val classification report:\")\n",
        "        val_report = classification_report(all_val_labels, all_val_preds,\n",
        "                                         target_names=target_names, zero_division=0)\n",
        "        print(val_report)\n",
        "\n",
        "        # Calculate validation AUC\n",
        "        all_val_labels_np = np.array(all_val_labels)\n",
        "        all_val_probs_np = np.array(all_val_probs)\n",
        "        val_aucs = []\n",
        "\n",
        "        for i, label in enumerate(target_names):\n",
        "            try:\n",
        "                auc = roc_auc_score((all_val_labels_np == i).astype(int), all_val_probs_np[:, i])\n",
        "                val_aucs.append(auc)\n",
        "                print(f\"Val ROC AUC for {label}: {auc:.4f}\")\n",
        "            except:\n",
        "                print(f\"Val ROC AUC for {label}: N/A (not enough samples)\")\n",
        "                val_aucs.append(0.0)\n",
        "\n",
        "        mean_val_auc = np.mean(val_aucs)\n",
        "        print(f\"Mean Val ROC AUC: {mean_val_auc:.4f}\")\n",
        "\n",
        "        # Update learning rate scheduler\n",
        "        scheduler.step(val_loss)\n",
        "\n",
        "        # Save best model (using AUC as metric)\n",
        "        if mean_val_auc > best_val_auc:\n",
        "            best_val_auc = mean_val_auc\n",
        "            best_val_loss = val_loss\n",
        "            best_epoch = epoch + 1\n",
        "            patience_counter = 0\n",
        "            torch.save(model.state_dict(), 'best_baseline_model.pt')\n",
        "            print(f\"Saved best model with AUC: {best_val_auc:.4f}\")\n",
        "        else:\n",
        "            patience_counter += 1\n",
        "\n",
        "        # Early stopping\n",
        "        if patience_counter >= patience:\n",
        "            print(f\"Early stopping triggered after {epoch+1} epochs\")\n",
        "            break\n",
        "\n",
        "    print(f\"Training complete. Best model from epoch {best_epoch} with validation AUC: {best_val_auc:.4f}\")\n",
        "\n",
        "    # Load best model for testing\n",
        "    model.load_state_dict(torch.load('best_baseline_model.pt'))\n",
        "\n",
        "    # Evaluate on test set\n",
        "    model.eval()\n",
        "    test_loss = 0\n",
        "    all_test_labels = []\n",
        "    all_test_preds = []\n",
        "    all_test_probs = []\n",
        "\n",
        "    with torch.no_grad():\n",
        "        for images, _, _, labels in tqdm(test_loader):\n",
        "            images = images.to(device)\n",
        "            labels = labels.to(device)\n",
        "\n",
        "            logits = model(images)\n",
        "            loss = criterion(logits, labels)\n",
        "            test_loss += loss.item() * images.size(0)\n",
        "\n",
        "            probs = torch.softmax(logits, dim=1)\n",
        "            preds = torch.argmax(probs, dim=1)\n",
        "\n",
        "            all_test_labels.extend(labels.cpu().numpy())\n",
        "            all_test_preds.extend(preds.cpu().numpy())\n",
        "            all_test_probs.extend(probs.cpu().numpy())\n",
        "\n",
        "    test_loss /= len(test_loader.dataset)\n",
        "    print(f\"Test loss: {test_loss:.4f}\")\n",
        "    print(\"Test classification report:\")\n",
        "    test_report = classification_report(all_test_labels, all_test_preds,\n",
        "                                     target_names=target_names, zero_division=0, output_dict=True)\n",
        "    print(classification_report(all_test_labels, all_test_preds,\n",
        "                               target_names=target_names, zero_division=0))\n",
        "\n",
        "    # Calculate test AUC\n",
        "    all_test_labels_np = np.array(all_test_labels)\n",
        "    all_test_probs_np = np.array(all_test_probs)\n",
        "\n",
        "    print(\"\\nROC AUC Scores:\")\n",
        "    for i, label in enumerate(target_names):\n",
        "        try:\n",
        "            auc = roc_auc_score((all_test_labels_np == i).astype(int), all_test_probs_np[:, i])\n",
        "            print(f\"Test ROC AUC for {label}: {auc:.4f}\")\n",
        "        except:\n",
        "            print(f\"Test ROC AUC for {label}: N/A (not enough samples)\")\n",
        "\n",
        "    # Calculate and plot confusion matrix\n",
        "    cm = confusion_matrix(all_test_labels, all_test_preds)\n",
        "    print(\"\\nConfusion Matrix:\")\n",
        "    print(cm)\n",
        "\n",
        "    return model, test_report\n",
        "\n",
        "# Call the training function\n",
        "baseline_model, baseline_results = train_baseline_model(train_df, val_df, test_df, num_epochs=20)"
      ],
      "metadata": {
        "colab": {
          "base_uri": "https://localhost:8080/"
        },
        "id": "v4wiAy6N9hh7",
        "outputId": "5f6dc908-ff61-4433-84c4-7282c4b6c65a"
      },
      "execution_count": 32,
      "outputs": [
        {
          "output_type": "stream",
          "name": "stdout",
          "text": [
            "Using device: cuda\n"
          ]
        },
        {
          "output_type": "stream",
          "name": "stderr",
          "text": [
            "/usr/local/lib/python3.11/dist-packages/torchvision/models/_utils.py:208: UserWarning: The parameter 'pretrained' is deprecated since 0.13 and may be removed in the future, please use 'weights' instead.\n",
            "  warnings.warn(\n",
            "/usr/local/lib/python3.11/dist-packages/torchvision/models/_utils.py:223: UserWarning: Arguments other than a weight enum or `None` for 'weights' are deprecated since 0.13 and may be removed in the future. The current behavior is equivalent to passing `weights=DenseNet121_Weights.IMAGENET1K_V1`. You can also use `weights=DenseNet121_Weights.DEFAULT` to get the most up-to-date weights.\n",
            "  warnings.warn(msg)\n"
          ]
        },
        {
          "output_type": "stream",
          "name": "stdout",
          "text": [
            "\n",
            "Epoch 1/20\n"
          ]
        },
        {
          "output_type": "stream",
          "name": "stderr",
          "text": [
            "100%|██████████| 446/446 [00:33<00:00, 13.40it/s]\n"
          ]
        },
        {
          "output_type": "stream",
          "name": "stdout",
          "text": [
            "Train loss: 0.6375\n",
            "Train classification report:\n",
            "              precision    recall  f1-score   support\n",
            "\n",
            "      Normal       0.66      0.67      0.67      1887\n",
            "      Others       0.63      0.62      0.62      1677\n",
            "\n",
            "    accuracy                           0.65      3564\n",
            "   macro avg       0.65      0.64      0.64      3564\n",
            "weighted avg       0.65      0.65      0.65      3564\n",
            "\n"
          ]
        },
        {
          "output_type": "stream",
          "name": "stderr",
          "text": [
            "100%|██████████| 48/48 [00:02<00:00, 16.56it/s]\n"
          ]
        },
        {
          "output_type": "stream",
          "name": "stdout",
          "text": [
            "Val loss: 0.6201\n",
            "Val classification report:\n",
            "              precision    recall  f1-score   support\n",
            "\n",
            "      Normal       0.66      0.74      0.69       404\n",
            "      Others       0.66      0.57      0.61       360\n",
            "\n",
            "    accuracy                           0.66       764\n",
            "   macro avg       0.66      0.65      0.65       764\n",
            "weighted avg       0.66      0.66      0.65       764\n",
            "\n",
            "Val ROC AUC for Normal: 0.7142\n",
            "Val ROC AUC for Others: 0.7142\n",
            "Mean Val ROC AUC: 0.7142\n",
            "Saved best model with AUC: 0.7142\n",
            "\n",
            "Epoch 2/20\n"
          ]
        },
        {
          "output_type": "stream",
          "name": "stderr",
          "text": [
            "100%|██████████| 446/446 [00:32<00:00, 13.65it/s]\n"
          ]
        },
        {
          "output_type": "stream",
          "name": "stdout",
          "text": [
            "Train loss: 0.6033\n",
            "Train classification report:\n",
            "              precision    recall  f1-score   support\n",
            "\n",
            "      Normal       0.71      0.71      0.71      1887\n",
            "      Others       0.67      0.67      0.67      1677\n",
            "\n",
            "    accuracy                           0.69      3564\n",
            "   macro avg       0.69      0.69      0.69      3564\n",
            "weighted avg       0.69      0.69      0.69      3564\n",
            "\n"
          ]
        },
        {
          "output_type": "stream",
          "name": "stderr",
          "text": [
            "100%|██████████| 48/48 [00:02<00:00, 16.53it/s]\n"
          ]
        },
        {
          "output_type": "stream",
          "name": "stdout",
          "text": [
            "Val loss: 0.5444\n",
            "Val classification report:\n",
            "              precision    recall  f1-score   support\n",
            "\n",
            "      Normal       0.75      0.74      0.75       404\n",
            "      Others       0.72      0.72      0.72       360\n",
            "\n",
            "    accuracy                           0.73       764\n",
            "   macro avg       0.73      0.73      0.73       764\n",
            "weighted avg       0.73      0.73      0.73       764\n",
            "\n",
            "Val ROC AUC for Normal: 0.8083\n",
            "Val ROC AUC for Others: 0.8083\n",
            "Mean Val ROC AUC: 0.8083\n",
            "Saved best model with AUC: 0.8083\n",
            "\n",
            "Epoch 3/20\n"
          ]
        },
        {
          "output_type": "stream",
          "name": "stderr",
          "text": [
            "100%|██████████| 446/446 [00:31<00:00, 13.99it/s]\n"
          ]
        },
        {
          "output_type": "stream",
          "name": "stdout",
          "text": [
            "Train loss: 0.5673\n",
            "Train classification report:\n",
            "              precision    recall  f1-score   support\n",
            "\n",
            "      Normal       0.74      0.73      0.73      1887\n",
            "      Others       0.70      0.70      0.70      1677\n",
            "\n",
            "    accuracy                           0.72      3564\n",
            "   macro avg       0.72      0.72      0.72      3564\n",
            "weighted avg       0.72      0.72      0.72      3564\n",
            "\n"
          ]
        },
        {
          "output_type": "stream",
          "name": "stderr",
          "text": [
            "100%|██████████| 48/48 [00:02<00:00, 16.47it/s]\n"
          ]
        },
        {
          "output_type": "stream",
          "name": "stdout",
          "text": [
            "Val loss: 0.5351\n",
            "Val classification report:\n",
            "              precision    recall  f1-score   support\n",
            "\n",
            "      Normal       0.73      0.78      0.76       404\n",
            "      Others       0.73      0.68      0.70       360\n",
            "\n",
            "    accuracy                           0.73       764\n",
            "   macro avg       0.73      0.73      0.73       764\n",
            "weighted avg       0.73      0.73      0.73       764\n",
            "\n",
            "Val ROC AUC for Normal: 0.8112\n",
            "Val ROC AUC for Others: 0.8112\n",
            "Mean Val ROC AUC: 0.8112\n",
            "Saved best model with AUC: 0.8112\n",
            "\n",
            "Epoch 4/20\n"
          ]
        },
        {
          "output_type": "stream",
          "name": "stderr",
          "text": [
            "100%|██████████| 446/446 [00:31<00:00, 14.00it/s]\n"
          ]
        },
        {
          "output_type": "stream",
          "name": "stdout",
          "text": [
            "Train loss: 0.5544\n",
            "Train classification report:\n",
            "              precision    recall  f1-score   support\n",
            "\n",
            "      Normal       0.74      0.75      0.75      1887\n",
            "      Others       0.72      0.71      0.71      1677\n",
            "\n",
            "    accuracy                           0.73      3564\n",
            "   macro avg       0.73      0.73      0.73      3564\n",
            "weighted avg       0.73      0.73      0.73      3564\n",
            "\n"
          ]
        },
        {
          "output_type": "stream",
          "name": "stderr",
          "text": [
            "100%|██████████| 48/48 [00:02<00:00, 16.23it/s]\n"
          ]
        },
        {
          "output_type": "stream",
          "name": "stdout",
          "text": [
            "Val loss: 0.5392\n",
            "Val classification report:\n",
            "              precision    recall  f1-score   support\n",
            "\n",
            "      Normal       0.74      0.84      0.79       404\n",
            "      Others       0.79      0.68      0.73       360\n",
            "\n",
            "    accuracy                           0.76       764\n",
            "   macro avg       0.77      0.76      0.76       764\n",
            "weighted avg       0.76      0.76      0.76       764\n",
            "\n",
            "Val ROC AUC for Normal: 0.8088\n",
            "Val ROC AUC for Others: 0.8088\n",
            "Mean Val ROC AUC: 0.8088\n",
            "\n",
            "Epoch 5/20\n"
          ]
        },
        {
          "output_type": "stream",
          "name": "stderr",
          "text": [
            "100%|██████████| 446/446 [00:31<00:00, 14.02it/s]\n"
          ]
        },
        {
          "output_type": "stream",
          "name": "stdout",
          "text": [
            "Train loss: 0.5423\n",
            "Train classification report:\n",
            "              precision    recall  f1-score   support\n",
            "\n",
            "      Normal       0.75      0.74      0.74      1887\n",
            "      Others       0.71      0.72      0.71      1677\n",
            "\n",
            "    accuracy                           0.73      3564\n",
            "   macro avg       0.73      0.73      0.73      3564\n",
            "weighted avg       0.73      0.73      0.73      3564\n",
            "\n"
          ]
        },
        {
          "output_type": "stream",
          "name": "stderr",
          "text": [
            "100%|██████████| 48/48 [00:03<00:00, 15.96it/s]\n"
          ]
        },
        {
          "output_type": "stream",
          "name": "stdout",
          "text": [
            "Val loss: 0.5432\n",
            "Val classification report:\n",
            "              precision    recall  f1-score   support\n",
            "\n",
            "      Normal       0.68      0.89      0.77       404\n",
            "      Others       0.81      0.54      0.65       360\n",
            "\n",
            "    accuracy                           0.72       764\n",
            "   macro avg       0.75      0.71      0.71       764\n",
            "weighted avg       0.74      0.72      0.71       764\n",
            "\n",
            "Val ROC AUC for Normal: 0.8276\n",
            "Val ROC AUC for Others: 0.8276\n",
            "Mean Val ROC AUC: 0.8276\n",
            "Saved best model with AUC: 0.8276\n",
            "\n",
            "Epoch 6/20\n"
          ]
        },
        {
          "output_type": "stream",
          "name": "stderr",
          "text": [
            "100%|██████████| 446/446 [00:31<00:00, 14.01it/s]\n"
          ]
        },
        {
          "output_type": "stream",
          "name": "stdout",
          "text": [
            "Train loss: 0.5202\n",
            "Train classification report:\n",
            "              precision    recall  f1-score   support\n",
            "\n",
            "      Normal       0.76      0.76      0.76      1887\n",
            "      Others       0.73      0.73      0.73      1677\n",
            "\n",
            "    accuracy                           0.75      3564\n",
            "   macro avg       0.75      0.75      0.75      3564\n",
            "weighted avg       0.75      0.75      0.75      3564\n",
            "\n"
          ]
        },
        {
          "output_type": "stream",
          "name": "stderr",
          "text": [
            "100%|██████████| 48/48 [00:02<00:00, 16.33it/s]\n"
          ]
        },
        {
          "output_type": "stream",
          "name": "stdout",
          "text": [
            "Val loss: 0.5309\n",
            "Val classification report:\n",
            "              precision    recall  f1-score   support\n",
            "\n",
            "      Normal       0.77      0.75      0.76       404\n",
            "      Others       0.73      0.75      0.74       360\n",
            "\n",
            "    accuracy                           0.75       764\n",
            "   macro avg       0.75      0.75      0.75       764\n",
            "weighted avg       0.75      0.75      0.75       764\n",
            "\n",
            "Val ROC AUC for Normal: 0.8231\n",
            "Val ROC AUC for Others: 0.8231\n",
            "Mean Val ROC AUC: 0.8231\n",
            "\n",
            "Epoch 7/20\n"
          ]
        },
        {
          "output_type": "stream",
          "name": "stderr",
          "text": [
            "100%|██████████| 446/446 [00:31<00:00, 13.96it/s]\n"
          ]
        },
        {
          "output_type": "stream",
          "name": "stdout",
          "text": [
            "Train loss: 0.5137\n",
            "Train classification report:\n",
            "              precision    recall  f1-score   support\n",
            "\n",
            "      Normal       0.77      0.77      0.77      1887\n",
            "      Others       0.74      0.74      0.74      1677\n",
            "\n",
            "    accuracy                           0.76      3564\n",
            "   macro avg       0.76      0.76      0.76      3564\n",
            "weighted avg       0.76      0.76      0.76      3564\n",
            "\n"
          ]
        },
        {
          "output_type": "stream",
          "name": "stderr",
          "text": [
            "100%|██████████| 48/48 [00:02<00:00, 16.40it/s]\n"
          ]
        },
        {
          "output_type": "stream",
          "name": "stdout",
          "text": [
            "Val loss: 0.5985\n",
            "Val classification report:\n",
            "              precision    recall  f1-score   support\n",
            "\n",
            "      Normal       0.75      0.69      0.72       404\n",
            "      Others       0.68      0.74      0.71       360\n",
            "\n",
            "    accuracy                           0.72       764\n",
            "   macro avg       0.72      0.72      0.72       764\n",
            "weighted avg       0.72      0.72      0.72       764\n",
            "\n",
            "Val ROC AUC for Normal: 0.7840\n",
            "Val ROC AUC for Others: 0.7840\n",
            "Mean Val ROC AUC: 0.7840\n",
            "\n",
            "Epoch 8/20\n"
          ]
        },
        {
          "output_type": "stream",
          "name": "stderr",
          "text": [
            "100%|██████████| 446/446 [00:31<00:00, 13.99it/s]\n"
          ]
        },
        {
          "output_type": "stream",
          "name": "stdout",
          "text": [
            "Train loss: 0.5053\n",
            "Train classification report:\n",
            "              precision    recall  f1-score   support\n",
            "\n",
            "      Normal       0.77      0.77      0.77      1887\n",
            "      Others       0.74      0.74      0.74      1677\n",
            "\n",
            "    accuracy                           0.75      3564\n",
            "   macro avg       0.75      0.75      0.75      3564\n",
            "weighted avg       0.75      0.75      0.75      3564\n",
            "\n"
          ]
        },
        {
          "output_type": "stream",
          "name": "stderr",
          "text": [
            "100%|██████████| 48/48 [00:02<00:00, 16.47it/s]\n"
          ]
        },
        {
          "output_type": "stream",
          "name": "stdout",
          "text": [
            "Val loss: 0.5569\n",
            "Val classification report:\n",
            "              precision    recall  f1-score   support\n",
            "\n",
            "      Normal       0.72      0.87      0.79       404\n",
            "      Others       0.81      0.63      0.71       360\n",
            "\n",
            "    accuracy                           0.76       764\n",
            "   macro avg       0.77      0.75      0.75       764\n",
            "weighted avg       0.77      0.76      0.75       764\n",
            "\n",
            "Val ROC AUC for Normal: 0.8180\n",
            "Val ROC AUC for Others: 0.8180\n",
            "Mean Val ROC AUC: 0.8180\n",
            "\n",
            "Epoch 9/20\n"
          ]
        },
        {
          "output_type": "stream",
          "name": "stderr",
          "text": [
            "100%|██████████| 446/446 [00:31<00:00, 14.11it/s]\n"
          ]
        },
        {
          "output_type": "stream",
          "name": "stdout",
          "text": [
            "Train loss: 0.4949\n",
            "Train classification report:\n",
            "              precision    recall  f1-score   support\n",
            "\n",
            "      Normal       0.78      0.81      0.79      1887\n",
            "      Others       0.77      0.74      0.76      1677\n",
            "\n",
            "    accuracy                           0.78      3564\n",
            "   macro avg       0.78      0.77      0.77      3564\n",
            "weighted avg       0.78      0.78      0.77      3564\n",
            "\n"
          ]
        },
        {
          "output_type": "stream",
          "name": "stderr",
          "text": [
            "100%|██████████| 48/48 [00:02<00:00, 16.52it/s]\n"
          ]
        },
        {
          "output_type": "stream",
          "name": "stdout",
          "text": [
            "Val loss: 0.5393\n",
            "Val classification report:\n",
            "              precision    recall  f1-score   support\n",
            "\n",
            "      Normal       0.76      0.75      0.76       404\n",
            "      Others       0.73      0.74      0.73       360\n",
            "\n",
            "    accuracy                           0.74       764\n",
            "   macro avg       0.74      0.74      0.74       764\n",
            "weighted avg       0.74      0.74      0.74       764\n",
            "\n",
            "Val ROC AUC for Normal: 0.8158\n",
            "Val ROC AUC for Others: 0.8158\n",
            "Mean Val ROC AUC: 0.8158\n",
            "\n",
            "Epoch 10/20\n"
          ]
        },
        {
          "output_type": "stream",
          "name": "stderr",
          "text": [
            "100%|██████████| 446/446 [00:31<00:00, 14.02it/s]\n"
          ]
        },
        {
          "output_type": "stream",
          "name": "stdout",
          "text": [
            "Train loss: 0.4318\n",
            "Train classification report:\n",
            "              precision    recall  f1-score   support\n",
            "\n",
            "      Normal       0.81      0.83      0.82      1887\n",
            "      Others       0.80      0.78      0.79      1677\n",
            "\n",
            "    accuracy                           0.81      3564\n",
            "   macro avg       0.81      0.80      0.80      3564\n",
            "weighted avg       0.81      0.81      0.81      3564\n",
            "\n"
          ]
        },
        {
          "output_type": "stream",
          "name": "stderr",
          "text": [
            "100%|██████████| 48/48 [00:02<00:00, 16.43it/s]\n"
          ]
        },
        {
          "output_type": "stream",
          "name": "stdout",
          "text": [
            "Val loss: 0.5469\n",
            "Val classification report:\n",
            "              precision    recall  f1-score   support\n",
            "\n",
            "      Normal       0.75      0.79      0.77       404\n",
            "      Others       0.75      0.71      0.73       360\n",
            "\n",
            "    accuracy                           0.75       764\n",
            "   macro avg       0.75      0.75      0.75       764\n",
            "weighted avg       0.75      0.75      0.75       764\n",
            "\n",
            "Val ROC AUC for Normal: 0.8317\n",
            "Val ROC AUC for Others: 0.8317\n",
            "Mean Val ROC AUC: 0.8317\n",
            "Saved best model with AUC: 0.8317\n",
            "\n",
            "Epoch 11/20\n"
          ]
        },
        {
          "output_type": "stream",
          "name": "stderr",
          "text": [
            "100%|██████████| 446/446 [00:32<00:00, 13.86it/s]\n"
          ]
        },
        {
          "output_type": "stream",
          "name": "stdout",
          "text": [
            "Train loss: 0.4034\n",
            "Train classification report:\n",
            "              precision    recall  f1-score   support\n",
            "\n",
            "      Normal       0.82      0.84      0.83      1887\n",
            "      Others       0.82      0.79      0.81      1677\n",
            "\n",
            "    accuracy                           0.82      3564\n",
            "   macro avg       0.82      0.82      0.82      3564\n",
            "weighted avg       0.82      0.82      0.82      3564\n",
            "\n"
          ]
        },
        {
          "output_type": "stream",
          "name": "stderr",
          "text": [
            "100%|██████████| 48/48 [00:02<00:00, 16.48it/s]\n"
          ]
        },
        {
          "output_type": "stream",
          "name": "stdout",
          "text": [
            "Val loss: 0.5620\n",
            "Val classification report:\n",
            "              precision    recall  f1-score   support\n",
            "\n",
            "      Normal       0.76      0.83      0.79       404\n",
            "      Others       0.79      0.71      0.74       360\n",
            "\n",
            "    accuracy                           0.77       764\n",
            "   macro avg       0.77      0.77      0.77       764\n",
            "weighted avg       0.77      0.77      0.77       764\n",
            "\n",
            "Val ROC AUC for Normal: 0.8230\n",
            "Val ROC AUC for Others: 0.8230\n",
            "Mean Val ROC AUC: 0.8230\n",
            "\n",
            "Epoch 12/20\n"
          ]
        },
        {
          "output_type": "stream",
          "name": "stderr",
          "text": [
            "100%|██████████| 446/446 [00:31<00:00, 13.96it/s]\n"
          ]
        },
        {
          "output_type": "stream",
          "name": "stdout",
          "text": [
            "Train loss: 0.3769\n",
            "Train classification report:\n",
            "              precision    recall  f1-score   support\n",
            "\n",
            "      Normal       0.84      0.86      0.85      1887\n",
            "      Others       0.84      0.82      0.83      1677\n",
            "\n",
            "    accuracy                           0.84      3564\n",
            "   macro avg       0.84      0.84      0.84      3564\n",
            "weighted avg       0.84      0.84      0.84      3564\n",
            "\n"
          ]
        },
        {
          "output_type": "stream",
          "name": "stderr",
          "text": [
            "100%|██████████| 48/48 [00:02<00:00, 16.41it/s]\n"
          ]
        },
        {
          "output_type": "stream",
          "name": "stdout",
          "text": [
            "Val loss: 0.5956\n",
            "Val classification report:\n",
            "              precision    recall  f1-score   support\n",
            "\n",
            "      Normal       0.74      0.77      0.76       404\n",
            "      Others       0.73      0.70      0.71       360\n",
            "\n",
            "    accuracy                           0.74       764\n",
            "   macro avg       0.74      0.73      0.74       764\n",
            "weighted avg       0.74      0.74      0.74       764\n",
            "\n",
            "Val ROC AUC for Normal: 0.8128\n",
            "Val ROC AUC for Others: 0.8128\n",
            "Mean Val ROC AUC: 0.8128\n",
            "\n",
            "Epoch 13/20\n"
          ]
        },
        {
          "output_type": "stream",
          "name": "stderr",
          "text": [
            "100%|██████████| 446/446 [00:31<00:00, 14.01it/s]\n"
          ]
        },
        {
          "output_type": "stream",
          "name": "stdout",
          "text": [
            "Train loss: 0.3304\n",
            "Train classification report:\n",
            "              precision    recall  f1-score   support\n",
            "\n",
            "      Normal       0.86      0.88      0.87      1887\n",
            "      Others       0.86      0.84      0.85      1677\n",
            "\n",
            "    accuracy                           0.86      3564\n",
            "   macro avg       0.86      0.86      0.86      3564\n",
            "weighted avg       0.86      0.86      0.86      3564\n",
            "\n"
          ]
        },
        {
          "output_type": "stream",
          "name": "stderr",
          "text": [
            "100%|██████████| 48/48 [00:02<00:00, 16.46it/s]\n"
          ]
        },
        {
          "output_type": "stream",
          "name": "stdout",
          "text": [
            "Val loss: 0.6442\n",
            "Val classification report:\n",
            "              precision    recall  f1-score   support\n",
            "\n",
            "      Normal       0.72      0.82      0.76       404\n",
            "      Others       0.76      0.64      0.69       360\n",
            "\n",
            "    accuracy                           0.73       764\n",
            "   macro avg       0.74      0.73      0.73       764\n",
            "weighted avg       0.74      0.73      0.73       764\n",
            "\n",
            "Val ROC AUC for Normal: 0.8161\n",
            "Val ROC AUC for Others: 0.8161\n",
            "Mean Val ROC AUC: 0.8161\n",
            "\n",
            "Epoch 14/20\n"
          ]
        },
        {
          "output_type": "stream",
          "name": "stderr",
          "text": [
            "100%|██████████| 446/446 [00:31<00:00, 14.07it/s]\n"
          ]
        },
        {
          "output_type": "stream",
          "name": "stdout",
          "text": [
            "Train loss: 0.3055\n",
            "Train classification report:\n",
            "              precision    recall  f1-score   support\n",
            "\n",
            "      Normal       0.87      0.90      0.89      1887\n",
            "      Others       0.88      0.85      0.87      1677\n",
            "\n",
            "    accuracy                           0.88      3564\n",
            "   macro avg       0.88      0.88      0.88      3564\n",
            "weighted avg       0.88      0.88      0.88      3564\n",
            "\n"
          ]
        },
        {
          "output_type": "stream",
          "name": "stderr",
          "text": [
            "100%|██████████| 48/48 [00:02<00:00, 16.36it/s]\n"
          ]
        },
        {
          "output_type": "stream",
          "name": "stdout",
          "text": [
            "Val loss: 0.7005\n",
            "Val classification report:\n",
            "              precision    recall  f1-score   support\n",
            "\n",
            "      Normal       0.70      0.87      0.78       404\n",
            "      Others       0.80      0.58      0.67       360\n",
            "\n",
            "    accuracy                           0.73       764\n",
            "   macro avg       0.75      0.73      0.72       764\n",
            "weighted avg       0.75      0.73      0.73       764\n",
            "\n",
            "Val ROC AUC for Normal: 0.8073\n",
            "Val ROC AUC for Others: 0.8073\n",
            "Mean Val ROC AUC: 0.8073\n",
            "\n",
            "Epoch 15/20\n"
          ]
        },
        {
          "output_type": "stream",
          "name": "stderr",
          "text": [
            "100%|██████████| 446/446 [00:31<00:00, 14.11it/s]\n"
          ]
        },
        {
          "output_type": "stream",
          "name": "stdout",
          "text": [
            "Train loss: 0.2633\n",
            "Train classification report:\n",
            "              precision    recall  f1-score   support\n",
            "\n",
            "      Normal       0.90      0.90      0.90      1887\n",
            "      Others       0.89      0.88      0.89      1677\n",
            "\n",
            "    accuracy                           0.89      3564\n",
            "   macro avg       0.89      0.89      0.89      3564\n",
            "weighted avg       0.89      0.89      0.89      3564\n",
            "\n"
          ]
        },
        {
          "output_type": "stream",
          "name": "stderr",
          "text": [
            "100%|██████████| 48/48 [00:02<00:00, 16.46it/s]\n"
          ]
        },
        {
          "output_type": "stream",
          "name": "stdout",
          "text": [
            "Val loss: 0.7449\n",
            "Val classification report:\n",
            "              precision    recall  f1-score   support\n",
            "\n",
            "      Normal       0.72      0.79      0.75       404\n",
            "      Others       0.74      0.65      0.69       360\n",
            "\n",
            "    accuracy                           0.72       764\n",
            "   macro avg       0.73      0.72      0.72       764\n",
            "weighted avg       0.72      0.72      0.72       764\n",
            "\n",
            "Val ROC AUC for Normal: 0.8041\n",
            "Val ROC AUC for Others: 0.8041\n",
            "Mean Val ROC AUC: 0.8041\n",
            "Early stopping triggered after 15 epochs\n",
            "Training complete. Best model from epoch 10 with validation AUC: 0.8317\n"
          ]
        },
        {
          "output_type": "stream",
          "name": "stderr",
          "text": [
            "100%|██████████| 48/48 [00:03<00:00, 15.85it/s]"
          ]
        },
        {
          "output_type": "stream",
          "name": "stdout",
          "text": [
            "Test loss: 0.6075\n",
            "Test classification report:\n",
            "              precision    recall  f1-score   support\n",
            "\n",
            "      Normal       0.74      0.79      0.77       405\n",
            "      Others       0.75      0.69      0.72       359\n",
            "\n",
            "    accuracy                           0.74       764\n",
            "   macro avg       0.75      0.74      0.74       764\n",
            "weighted avg       0.74      0.74      0.74       764\n",
            "\n",
            "\n",
            "ROC AUC Scores:\n",
            "Test ROC AUC for Normal: 0.8056\n",
            "Test ROC AUC for Others: 0.8056\n",
            "\n",
            "Confusion Matrix:\n",
            "[[321  84]\n",
            " [111 248]]\n"
          ]
        },
        {
          "output_type": "stream",
          "name": "stderr",
          "text": [
            "\n"
          ]
        }
      ]
    },
    {
      "cell_type": "markdown",
      "source": [
        "**Baseline Model**\n",
        "\n",
        "\n",
        "The above one"
      ],
      "metadata": {
        "id": "fFZ2a7EnfJx7"
      }
    },
    {
      "cell_type": "markdown",
      "source": [
        "We propose a baseline model for chest X-ray disease classification that utilizes only image data without any text information. The model architecture is based on a DenseNet-121 convolutional neural network, pretrained on ImageNet, which serves as the backbone for feature extraction. The final convolutional feature maps are aggregated using an adaptive average pooling layer and flattened into a 1024-dimensional vector. This feature vector is then passed through a classification head composed of two fully connected layers with ReLU activations and dropout regularization (dropout rates of 0.5 and 0.3 respectively) before outputting logits corresponding to the number of target classes.\n",
        "\n",
        "To address class imbalance in the training data, the model is optimized using a cross-entropy loss function weighted by class-specific inverse frequencies. Data augmentation techniques, including random resized cropping, affine transformations, color jittering, and horizontal flipping, are applied to the training images to enhance generalization. The model is trained with an Adam optimizer, learning rate scheduling using ReduceLROnPlateau based on validation loss, and early stopping to prevent overfitting. After training, the best-performing model (based on validation AUC) is evaluated on the test set to generate classification reports, ROC AUC scores, and confusion matrices.\n",
        "\n",
        "This baseline serves as a comparative foundation to highlight the improvements introduced by the enhanced multimodal models that incorporate both image and text features."
      ],
      "metadata": {
        "id": "Vss-_zylfATb"
      }
    },
    {
      "cell_type": "code",
      "source": [],
      "metadata": {
        "id": "stevZSaKfDb-"
      },
      "execution_count": null,
      "outputs": []
    },
    {
      "cell_type": "code",
      "source": [
        "def evaluate_and_display_results(baseline_model, enhanced_model, test_df, tokenizer):\n",
        "   #evaluating the baseline model and the model that we designed\n",
        "   #plotting the results\n",
        "    print(\"\\n\" + \"=\"*50)\n",
        "    print(\"EVALUATION ON WITHHELD TEST SET\")\n",
        "    print(\"=\"*50)\n",
        "\n",
        "    # Create test datasets for both models\n",
        "    test_dataset_baseline = BaselineCXRDataset(test_df, eval_transform)\n",
        "    test_loader_baseline = DataLoader(test_dataset_baseline, batch_size=16, shuffle=False, num_workers=2)\n",
        "\n",
        "    test_dataset_enhanced = EnhancedIndianaCXRDataset(test_df, tokenizer, eval_transform)\n",
        "    test_loader_enhanced = DataLoader(test_dataset_enhanced, batch_size=16, shuffle=False, num_workers=2)\n",
        "\n",
        "    # Set models to evaluation mode\n",
        "    baseline_model.eval()\n",
        "    enhanced_model.eval()\n",
        "\n",
        "    # Evaluation containers\n",
        "    baseline_results = {\n",
        "        'labels': [],\n",
        "        'preds': [],\n",
        "        'probs': []\n",
        "    }\n",
        "\n",
        "    enhanced_results = {\n",
        "        'labels': [],\n",
        "        'preds': [],\n",
        "        'probs': []\n",
        "    }\n",
        "\n",
        "    # Evaluate baseline model\n",
        "    print(\"\\nEvaluating Baseline Model on test set...\")\n",
        "    with torch.no_grad():\n",
        "        for images, _, _, labels in tqdm(test_loader_baseline):\n",
        "            images = images.to(device)\n",
        "            labels = labels.to(device)\n",
        "\n",
        "            # Forward pass\n",
        "            outputs = baseline_model(images)\n",
        "            probs = torch.softmax(outputs, dim=1)\n",
        "            preds = torch.argmax(probs, dim=1)\n",
        "\n",
        "            # Store results\n",
        "            baseline_results['labels'].extend(labels.cpu().numpy())\n",
        "            baseline_results['preds'].extend(preds.cpu().numpy())\n",
        "            baseline_results['probs'].extend(probs.cpu().numpy())\n",
        "\n",
        "    # Evaluate enhanced model\n",
        "    print(\"\\nEvaluating Enhanced Model on test set...\")\n",
        "    with torch.no_grad():\n",
        "        for images, input_ids, attention_mask, labels in tqdm(test_loader_enhanced):\n",
        "            images = images.to(device)\n",
        "            input_ids = input_ids.to(device)\n",
        "            attention_mask = attention_mask.to(device)\n",
        "            labels = labels.to(device)\n",
        "\n",
        "            # Forward pass\n",
        "            outputs = enhanced_model(images, input_ids, attention_mask)\n",
        "            probs = torch.softmax(outputs, dim=1)\n",
        "            preds = torch.argmax(probs, dim=1)\n",
        "\n",
        "            # Store results\n",
        "            enhanced_results['labels'].extend(labels.cpu().numpy())\n",
        "            enhanced_results['preds'].extend(preds.cpu().numpy())\n",
        "            enhanced_results['probs'].extend(probs.cpu().numpy())\n",
        "\n",
        "    # Calculate metrics\n",
        "    baseline_metrics = calculate_metrics(baseline_results)\n",
        "    enhanced_metrics = calculate_metrics(enhanced_results)\n",
        "\n",
        "    # Display results\n",
        "    display_comparison(baseline_metrics, enhanced_metrics, baseline_results, enhanced_results)\n",
        "\n",
        "def calculate_metrics(results):\n",
        "    \"\"\"Calculate evaluation metrics from predictions\"\"\"\n",
        "    labels = np.array(results['labels'])\n",
        "    preds = np.array(results['preds'])\n",
        "    probs = np.array(results['probs'])\n",
        "\n",
        "    # Accuracy\n",
        "    accuracy = np.mean(preds == labels)\n",
        "\n",
        "    # Confusion Matrix\n",
        "    cm = confusion_matrix(labels, preds)\n",
        "\n",
        "    # AUC\n",
        "    try:\n",
        "        auc_score = roc_auc_score(labels, probs[:, 1])\n",
        "    except:\n",
        "        auc_score = 0.5\n",
        "\n",
        "    # Classification Report\n",
        "    report = classification_report(labels, preds,\n",
        "                                 target_names=list(idx2label.values()),\n",
        "                                 output_dict=True)\n",
        "\n",
        "    return {\n",
        "        'accuracy': accuracy,\n",
        "        'auc': auc_score,\n",
        "        'confusion_matrix': cm,\n",
        "        'report': report\n",
        "    }\n",
        "\n",
        "def display_comparison(baseline_metrics, enhanced_metrics, baseline_results, enhanced_results):\n",
        "    \"\"\"Display side-by-side comparison of model results\"\"\"\n",
        "    print(\"\\n\" + \"=\"*80)\n",
        "    print(\" \"*25 + \"TEST SET RESULTS COMPARISON\")\n",
        "    print(\"=\"*80)\n",
        "\n",
        "    # 1. Display accuracy and AUC\n",
        "    print(\"\\nPerformance Metrics:\")\n",
        "    print(\"-\"*80)\n",
        "    print(f\"{'Metric':<20} | {'Baseline Model':<20} | {'Enhanced Model':<20} | {'Improvement':<15}\")\n",
        "    print(\"-\"*80)\n",
        "\n",
        "    acc_improvement = (enhanced_metrics['accuracy'] - baseline_metrics['accuracy']) / baseline_metrics['accuracy'] * 100\n",
        "    print(f\"{'Accuracy':<20} | {baseline_metrics['accuracy']:.4f} ({baseline_metrics['accuracy']*100:.1f}%) | {enhanced_metrics['accuracy']:.4f} ({enhanced_metrics['accuracy']*100:.1f}%) | +{acc_improvement:.1f}%\")\n",
        "\n",
        "    auc_improvement = (enhanced_metrics['auc'] - baseline_metrics['auc']) / baseline_metrics['auc'] * 100\n",
        "    print(f\"{'ROC AUC':<20} | {baseline_metrics['auc']:.4f} | {enhanced_metrics['auc']:.4f} | +{auc_improvement:.1f}%\")\n",
        "\n",
        "    # 2. Display F1 Scores\n",
        "    print(\"\\nF1 Scores by Class:\")\n",
        "    print(\"-\"*80)\n",
        "    print(f\"{'Class':<20} | {'Baseline F1':<20} | {'Enhanced F1':<20} | {'Improvement':<15}\")\n",
        "    print(\"-\"*80)\n",
        "\n",
        "    for class_name in idx2label.values():\n",
        "        baseline_f1 = baseline_metrics['report'][class_name]['f1-score']\n",
        "        enhanced_f1 = enhanced_metrics['report'][class_name]['f1-score']\n",
        "        f1_improvement = (enhanced_f1 - baseline_f1) / baseline_f1 * 100\n",
        "        print(f\"{class_name:<20} | {baseline_f1:.4f} | {enhanced_f1:.4f} | +{f1_improvement:.1f}%\")\n",
        "\n",
        "    # 3. Display Confusion Matrices\n",
        "    print(\"\\nConfusion Matrices:\")\n",
        "    print(\"\\nBaseline Model Confusion Matrix:\")\n",
        "    print(baseline_metrics['confusion_matrix'])\n",
        "\n",
        "    print(\"\\nEnhanced Model Confusion Matrix:\")\n",
        "    print(enhanced_metrics['confusion_matrix'])\n",
        "\n",
        "    # 4. Plot ROC Curves\n",
        "    import matplotlib.pyplot as plt\n",
        "    from sklearn.metrics import roc_curve\n",
        "\n",
        "    plt.figure(figsize=(4, 5))\n",
        "\n",
        "    # Plot baseline ROC curve\n",
        "    baseline_labels = np.array(baseline_results['labels'])\n",
        "    baseline_probs = np.array(baseline_results['probs'])\n",
        "    fpr, tpr, _ = roc_curve(baseline_labels, baseline_probs[:, 1])\n",
        "    plt.plot(fpr, tpr, linestyle='--', label=f'Baseline Model (AUC = {baseline_metrics[\"auc\"]:.3f})')\n",
        "\n",
        "    # Plot enhanced ROC curve\n",
        "    enhanced_labels = np.array(enhanced_results['labels'])\n",
        "    enhanced_probs = np.array(enhanced_results['probs'])\n",
        "    fpr, tpr, _ = roc_curve(enhanced_labels, enhanced_probs[:, 1])\n",
        "    plt.plot(fpr, tpr, label=f'Enhanced Model (AUC = {enhanced_metrics[\"auc\"]:.3f})')\n",
        "\n",
        "    # Plot random classifier\n",
        "    plt.plot([0, 1], [0, 1], 'k--')\n",
        "    plt.xlim([0.0, 1.0])\n",
        "    plt.ylim([0.0, 1.05])\n",
        "    plt.xlabel('False Positive Rate')\n",
        "    plt.ylabel('True Positive Rate')\n",
        "    plt.title('ROC Curves Comparison')\n",
        "    plt.legend(loc=\"lower right\")\n",
        "    plt.grid(alpha=0.3)\n",
        "    plt.savefig('roc_comparison.png', dpi=300, bbox_inches='tight')\n",
        "\n",
        "    # 5. Plot performance comparison\n",
        "    plt.figure(figsize=(4, 5))\n",
        "    metrics = ['Accuracy', 'AUC', f'F1 ({list(idx2label.values())[0]})', f'F1 ({list(idx2label.values())[1]})']\n",
        "    baseline_values = [\n",
        "        baseline_metrics['accuracy'],\n",
        "        baseline_metrics['auc'],\n",
        "        baseline_metrics['report'][list(idx2label.values())[0]]['f1-score'],\n",
        "        baseline_metrics['report'][list(idx2label.values())[1]]['f1-score']\n",
        "    ]\n",
        "    enhanced_values = [\n",
        "        enhanced_metrics['accuracy'],\n",
        "        enhanced_metrics['auc'],\n",
        "        enhanced_metrics['report'][list(idx2label.values())[0]]['f1-score'],\n",
        "        enhanced_metrics['report'][list(idx2label.values())[1]]['f1-score']\n",
        "    ]\n",
        "\n",
        "    x = np.arange(len(metrics))\n",
        "    width = 0.35\n",
        "\n",
        "    plt.bar(x - width/2, baseline_values, width, label='Baseline Model')\n",
        "    plt.bar(x + width/2, enhanced_values, width, label='Enhanced Model')\n",
        "\n",
        "    plt.ylabel('Score')\n",
        "    plt.title('Model Performance Comparison')\n",
        "    plt.xticks(x, metrics)\n",
        "    plt.ylim(0, 1.0)\n",
        "    plt.grid(alpha=0.3, axis='y')\n",
        "    plt.legend()\n",
        "\n",
        "    # Add value labels on bars\n",
        "    for i, v in enumerate(baseline_values):\n",
        "        plt.text(i - width/2, v + 0.02, f'{v:.3f}', ha='center')\n",
        "    for i, v in enumerate(enhanced_values):\n",
        "        plt.text(i + width/2, v + 0.02, f'{v:.3f}', ha='center')\n",
        "\n",
        "    plt.tight_layout()\n",
        "    plt.savefig('performance_comparison.png', dpi=300, bbox_inches='tight')\n",
        "    print(\"\\nPerformance comparison plots saved as 'roc_comparison.png' and 'performance_comparison.png'\")"
      ],
      "metadata": {
        "id": "cXZMG07SBMH_"
      },
      "execution_count": 33,
      "outputs": []
    },
    {
      "cell_type": "code",
      "source": [
        "# After training both models\n",
        "evaluate_and_display_results(baseline_model, improved_model, test_df, tokenizer)"
      ],
      "metadata": {
        "colab": {
          "base_uri": "https://localhost:8080/",
          "height": 1000
        },
        "id": "s6ZoxbXH9hbO",
        "outputId": "fd2d1851-1c80-4651-fe8d-e205cfbda4f9"
      },
      "execution_count": 34,
      "outputs": [
        {
          "output_type": "stream",
          "name": "stdout",
          "text": [
            "\n",
            "==================================================\n",
            "EVALUATION ON WITHHELD TEST SET\n",
            "==================================================\n",
            "\n",
            "Evaluating Baseline Model on test set...\n"
          ]
        },
        {
          "output_type": "stream",
          "name": "stderr",
          "text": [
            "100%|██████████| 48/48 [00:02<00:00, 16.41it/s]\n"
          ]
        },
        {
          "output_type": "stream",
          "name": "stdout",
          "text": [
            "\n",
            "Evaluating Enhanced Model on test set...\n"
          ]
        },
        {
          "output_type": "stream",
          "name": "stderr",
          "text": [
            "100%|██████████| 48/48 [00:03<00:00, 15.03it/s]\n"
          ]
        },
        {
          "output_type": "stream",
          "name": "stdout",
          "text": [
            "\n",
            "================================================================================\n",
            "                         TEST SET RESULTS COMPARISON\n",
            "================================================================================\n",
            "\n",
            "Performance Metrics:\n",
            "--------------------------------------------------------------------------------\n",
            "Metric               | Baseline Model       | Enhanced Model       | Improvement    \n",
            "--------------------------------------------------------------------------------\n",
            "Accuracy             | 0.7448 (74.5%) | 0.9175 (91.8%) | +23.2%\n",
            "ROC AUC              | 0.8056 | 0.9613 | +19.3%\n",
            "\n",
            "F1 Scores by Class:\n",
            "--------------------------------------------------------------------------------\n",
            "Class                | Baseline F1          | Enhanced F1          | Improvement    \n",
            "--------------------------------------------------------------------------------\n",
            "Normal               | 0.7670 | 0.9229 | +20.3%\n",
            "Others               | 0.7178 | 0.9114 | +27.0%\n",
            "\n",
            "Confusion Matrices:\n",
            "\n",
            "Baseline Model Confusion Matrix:\n",
            "[[321  84]\n",
            " [111 248]]\n",
            "\n",
            "Enhanced Model Confusion Matrix:\n",
            "[[377  28]\n",
            " [ 35 324]]\n",
            "\n",
            "Performance comparison plots saved as 'roc_comparison.png' and 'performance_comparison.png'\n"
          ]
        },
        {
          "output_type": "display_data",
          "data": {
            "text/plain": [
              "<Figure size 400x500 with 1 Axes>"
            ],
            "image/png": "[encoded data removed]"
          },
          "metadata": {}
        },
        {
          "output_type": "display_data",
          "data": {
            "text/plain": [
              "<Figure size 400x500 with 1 Axes>"
            ],
            "image/png": "[encoded data removed]"
          },
          "metadata": {}
        }
      ]
    },
    {
      "cell_type": "code",
      "source": [],
      "metadata": {
        "id": "sUYIi0NWCJiI"
      },
      "execution_count": null,
      "outputs": []
    },
    {
      "cell_type": "code",
      "source": [],
      "metadata": {
        "id": "5Suetpl6CJJS"
      },
      "execution_count": null,
      "outputs": []
    },
    {
      "cell_type": "code",
      "source": [],
      "metadata": {
        "id": "u0l_PVH-9g8K"
      },
      "execution_count": null,
      "outputs": []
    },
    {
      "cell_type": "code",
      "source": [
        "import matplotlib.pyplot as plt\n",
        "import numpy as np\n",
        "\n",
        "# Example data (replace with your actual values)\n",
        "epochs = range(1, 8)  # 7 epochs before early stopping\n",
        "train_loss = [0.1410, 0.1058, 0.1879, 0.1597, 0.1547, 0.1469, 0.1454]\n",
        "val_loss = [0.1141, 0.0975, 0.1590, 0.1545, 0.1505, 0.1459, 0.1468]\n",
        "val_auc = [0.8960, 0.9226, 0.7612, 0.7903, 0.7880, 0.7806, 0.7716]\n",
        "\n",
        "plt.figure(figsize=(12, 5))\n",
        "\n",
        "# Plot loss\n",
        "plt.subplot(1, 2, 1)\n",
        "plt.plot(epochs, train_loss, 'b-', label='Training Loss')\n",
        "plt.plot(epochs, val_loss, 'r-', label='Validation Loss')\n",
        "plt.axvline(x=2, color='g', linestyle='--', label='Unfreeze Backbone')\n",
        "plt.title('Training and Validation Loss')\n",
        "plt.xlabel('Epoch')\n",
        "plt.ylabel('Loss')\n",
        "plt.legend()\n",
        "plt.grid(alpha=0.3)\n",
        "\n",
        "# Plot AUC\n",
        "plt.subplot(1, 2, 2)\n",
        "plt.plot(epochs, val_auc, 'g-', label='Validation AUC')\n",
        "plt.axvline(x=2, color='g', linestyle='--', label='Unfreeze Backbone')\n",
        "plt.axhline(y=0.9104, color='r', linestyle='--', label='Test AUC (0.9104)')\n",
        "plt.title('Validation AUC')\n",
        "plt.xlabel('Epoch')\n",
        "plt.ylabel('AUC')\n",
        "plt.legend()\n",
        "plt.grid(alpha=0.3)\n",
        "\n",
        "plt.tight_layout()\n",
        "plt.savefig('training_curves.png', dpi=300)\n",
        "plt.show()"
      ],
      "metadata": {
        "colab": {
          "base_uri": "https://localhost:8080/",
          "height": 507
        },
        "id": "D-lSQGz9Ujmw",
        "outputId": "5653dc0f-822a-4149-b3e0-81b1ecd53785"
      },
      "execution_count": 35,
      "outputs": [
        {
          "output_type": "display_data",
          "data": {
            "text/plain": [
              "<Figure size 1200x500 with 2 Axes>"
            ],
            "image/png": "[encoded data removed]"
          },
          "metadata": {}
        }
      ]
    },
    {
      "cell_type": "code",
      "source": [
        "from sklearn.metrics import roc_curve\n",
        "\n",
        "# These are placeholder values - you'd need actual prediction probabilities\n",
        "# and true labels from your test set\n",
        "fpr_normal = [0, 0.05, 0.1, 0.2, 0.3, 0.4, 0.5, 0.6, 0.7, 0.8, 0.9, 1.0]\n",
        "tpr_normal = [0, 0.4, 0.65, 0.8, 0.85, 0.9, 0.92, 0.94, 0.95, 0.97, 0.99, 1.0]\n",
        "\n",
        "fpr_others = [0, 0.03, 0.08, 0.15, 0.25, 0.35, 0.45, 0.6, 0.7, 0.8, 0.9, 1.0]\n",
        "tpr_others = [0, 0.45, 0.7, 0.82, 0.88, 0.9, 0.93, 0.95, 0.96, 0.98, 0.99, 1.0]\n",
        "\n",
        "plt.figure(figsize=(8, 6))\n",
        "plt.plot(fpr_normal, tpr_normal, 'b-', label='Normal (AUC = 0.9104)')\n",
        "plt.plot(fpr_others, tpr_others, 'r-', label='Others (AUC = 0.9104)')\n",
        "plt.plot([0, 1], [0, 1], 'k--', label='Random')\n",
        "plt.xlabel('False Positive Rate')\n",
        "plt.ylabel('True Positive Rate')\n",
        "plt.title('ROC Curves')\n",
        "plt.legend()\n",
        "plt.grid(alpha=0.3)\n",
        "plt.savefig('roc_curves.png', dpi=300)\n",
        "plt.show()"
      ],
      "metadata": {
        "colab": {
          "base_uri": "https://localhost:8080/",
          "height": 564
        },
        "id": "bE4YD5EvUjjV",
        "outputId": "e1a9510d-1170-4f52-95ed-3423b9f716b3"
      },
      "execution_count": 36,
      "outputs": [
        {
          "output_type": "display_data",
          "data": {
            "text/plain": [
              "<Figure size 800x600 with 1 Axes>"
            ],
            "image/png": "[encoded data removed]"
          },
          "metadata": {}
        }
      ]
    },
    {
      "cell_type": "code",
      "source": [
        "# These are placeholder values - you would use your actual uncertainty values\n",
        "np.random.seed(42)\n",
        "correct_uncertainties = np.random.beta(2, 5, 646)  # 646 correct predictions\n",
        "incorrect_uncertainties = np.random.beta(5, 3, 118)  # 118 incorrect predictions\n",
        "uncertainty_threshold = np.percentile(np.concatenate([correct_uncertainties, incorrect_uncertainties]), 75)\n",
        "\n",
        "plt.figure(figsize=(10, 6))\n",
        "plt.hist(correct_uncertainties, bins=20, alpha=0.5, label='Correct Predictions (85%)', color='green')\n",
        "plt.hist(incorrect_uncertainties, bins=20, alpha=0.5, label='Incorrect Predictions (15%)', color='red')\n",
        "plt.axvline(x=uncertainty_threshold, color='black', linestyle='--',\n",
        "            label=f'75th Percentile Threshold')\n",
        "plt.xlabel('Uncertainty Score')\n",
        "plt.ylabel('Number of Samples')\n",
        "plt.title('Distribution of Uncertainty Scores')\n",
        "plt.legend()\n",
        "plt.grid(alpha=0.3)\n",
        "plt.savefig('uncertainty_distribution.png', dpi=300)\n",
        "plt.show()"
      ],
      "metadata": {
        "colab": {
          "base_uri": "https://localhost:8080/",
          "height": 564
        },
        "id": "huPA5SwdUwUC",
        "outputId": "de3d6969-556e-4f44-e694-f5cb98874a9f"
      },
      "execution_count": 37,
      "outputs": [
        {
          "output_type": "display_data",
          "data": {
            "text/plain": [
              "<Figure size 1000x600 with 1 Axes>"
            ],
            "image/png": "[encoded data removed]"
          },
          "metadata": {}
        }
      ]
    },
    {
      "cell_type": "code",
      "source": [],
      "metadata": {
        "id": "HKXnWLU2UwPe"
      },
      "execution_count": null,
      "outputs": []
    },
    {
      "cell_type": "code",
      "source": [],
      "metadata": {
        "id": "7YbTNxALUwLL"
      },
      "execution_count": null,
      "outputs": []
    },
    {
      "cell_type": "code",
      "source": [],
      "metadata": {
        "id": "cmfdFmmvUwID"
      },
      "execution_count": null,
      "outputs": []
    },
    {
      "cell_type": "code",
      "source": [],
      "metadata": {
        "id": "uHfnFESUUjeq"
      },
      "execution_count": null,
      "outputs": []
    }
  ]
}